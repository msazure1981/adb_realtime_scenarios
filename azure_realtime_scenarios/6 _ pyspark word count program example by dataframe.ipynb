{
 "cells": [
  {
   "cell_type": "code",
   "execution_count": 0,
   "metadata": {
    "application/vnd.databricks.v1+cell": {
     "cellMetadata": {
      "byteLimit": 2048000,
      "rowLimit": 10000
     },
     "inputWidgets": {},
     "nuid": "68466cee-df02-4a57-bdf3-481b01d23189",
     "showTitle": false,
     "title": ""
    }
   },
   "outputs": [
    {
     "output_type": "display_data",
     "data": {
      "text/plain": [
       "\u001B[0;31m---------------------------------------------------------------------------\u001B[0m\n",
       "\u001B[0;31mExecutionError\u001B[0m                            Traceback (most recent call last)\n",
       "File \u001B[0;32m<command-4062554576221976>:1\u001B[0m\n",
       "\u001B[0;32m----> 1\u001B[0m \u001B[43mdbutils\u001B[49m\u001B[38;5;241;43m.\u001B[39;49m\u001B[43mfs\u001B[49m\u001B[38;5;241;43m.\u001B[39;49m\u001B[43mput\u001B[49m\u001B[43m(\u001B[49m\u001B[38;5;124;43m\"\u001B[39;49m\u001B[38;5;124;43m/FileStore/tables/rrr_dynamic.txt\u001B[39;49m\u001B[38;5;124;43m\"\u001B[39;49m\u001B[43m,\u001B[49m\u001B[38;5;124;43m\"\"\"\u001B[39;49m\n",
       "\u001B[1;32m      2\u001B[0m \u001B[38;5;124;43m               RRR[a] (subtitled onscreen as Roudram Ranam Rudhiram) is a 2022 Indian Telugu-language epic period action drama film directed by S. S. Rajamouli, who co-wrote the film with V. Vijayendra Prasad. It was produced by D. V. V. Danayya of DVV Entertainment. The film stars N. T. Rama Rao Jr., Ram Charan, Ajay Devgn, Alia Bhatt, Shriya Saran, Samuthirakani, Ray Stevenson, Alison Doody, and Olivia Morris. It revolves around the fictional versions of two Indian revolutionaries, Alluri Sitarama Raju (Charan) and Komaram Bheem (Rama Rao), their friendship, and their fight against the British Raj.\u001B[39;49m\n",
       "\u001B[1;32m      3\u001B[0m \n",
       "\u001B[1;32m      4\u001B[0m \u001B[38;5;124;43mRajamouli came across stories about the lives of Rama Raju and Bheem and connected the coincidences between them, imagining what would have happened had they met, and been friends. The film was announced in March 2018. Principal photography of the film began in November 2018 in Hyderabad and continued until August 2021, owing to delays caused by the COVID-19 pandemic. It was filmed extensively across India, with a few sequences filmed in Ukraine and Bulgaria. The film\u001B[39;49m\u001B[38;5;124;43m'\u001B[39;49m\u001B[38;5;124;43ms soundtrack and background score were composed by M. M. Keeravani, with cinematography by K. K. Senthil Kumar and editing by A. Sreekar Prasad. Sabu Cyril is the film\u001B[39;49m\u001B[38;5;124;43m'\u001B[39;49m\u001B[38;5;124;43ms production designer whilst V. Srinivas Mohan supervised the visual effects.\u001B[39;49m\n",
       "\u001B[1;32m      5\u001B[0m \u001B[38;5;124;43m               \u001B[39;49m\u001B[38;5;124;43m\"\"\"\u001B[39;49m\u001B[43m)\u001B[49m\n",
       "\n",
       "File \u001B[0;32m/databricks/python_shell/dbruntime/dbutils.py:362\u001B[0m, in \u001B[0;36mDBUtils.FSHandler.prettify_exception_message.<locals>.f_with_exception_handling\u001B[0;34m(*args, **kwargs)\u001B[0m\n",
       "\u001B[1;32m    360\u001B[0m exc\u001B[38;5;241m.\u001B[39m__context__ \u001B[38;5;241m=\u001B[39m \u001B[38;5;28;01mNone\u001B[39;00m\n",
       "\u001B[1;32m    361\u001B[0m exc\u001B[38;5;241m.\u001B[39m__cause__ \u001B[38;5;241m=\u001B[39m \u001B[38;5;28;01mNone\u001B[39;00m\n",
       "\u001B[0;32m--> 362\u001B[0m \u001B[38;5;28;01mraise\u001B[39;00m exc\n",
       "\n",
       "\u001B[0;31mExecutionError\u001B[0m: An error occurred while calling o471.put.\n",
       ": org.apache.hadoop.fs.FileAlreadyExistsException: s3a://databricks-prod-storage-oregon/devtierprod1/3382163656683011/FileStore/tables/rrr_dynamic.txt already exists\n",
       "\tat com.databricks.backend.daemon.data.client.DbfsClient.send0(DbfsClient.scala:124)\n",
       "\tat com.databricks.backend.daemon.data.client.DbfsClient.sendNonIdempotent(DbfsClient.scala:82)\n",
       "\tat com.databricks.backend.daemon.data.client.DatabricksFileSystemV1.createUnbuffered(DatabricksFileSystemV1.scala:127)\n",
       "\tat com.databricks.backend.daemon.data.client.DatabricksFileSystemV1.create(DatabricksFileSystemV1.scala:109)\n",
       "\tat com.databricks.backend.daemon.data.client.DatabricksFileSystem.create(DatabricksFileSystem.scala:139)\n",
       "\tat org.apache.hadoop.fs.FileSystem.create(FileSystem.java:1195)\n",
       "\tat org.apache.hadoop.fs.FileSystem.create(FileSystem.java:1175)\n",
       "\tat org.apache.hadoop.fs.FileSystem.create(FileSystem.java:1064)\n",
       "\tat com.databricks.backend.daemon.dbutils.FSUtils.$anonfun$put$3(DBUtilsCore.scala:446)\n",
       "\tat com.databricks.backend.daemon.dbutils.FSUtils.withFsSafetyCheck(DBUtilsCore.scala:145)\n",
       "\tat com.databricks.backend.daemon.dbutils.FSUtils.$anonfun$put$2(DBUtilsCore.scala:443)\n",
       "\tat com.databricks.backend.daemon.dbutils.FSUtils.checkPermission(DBUtilsCore.scala:140)\n",
       "\tat com.databricks.backend.daemon.dbutils.FSUtils.$anonfun$put$1(DBUtilsCore.scala:443)\n",
       "\tat com.databricks.logging.UsageLogging.$anonfun$recordOperation$1(UsageLogging.scala:557)\n",
       "\tat com.databricks.logging.UsageLogging.executeThunkAndCaptureResultTags$1(UsageLogging.scala:652)\n",
       "\tat com.databricks.logging.UsageLogging.$anonfun$recordOperationWithResultTags$4(UsageLogging.scala:673)\n",
       "\tat com.databricks.logging.UsageLogging.$anonfun$withAttributionContext$1(UsageLogging.scala:414)\n",
       "\tat scala.util.DynamicVariable.withValue(DynamicVariable.scala:62)\n",
       "\tat com.databricks.logging.AttributionContext$.withValue(AttributionContext.scala:158)\n",
       "\tat com.databricks.logging.UsageLogging.withAttributionContext(UsageLogging.scala:412)\n",
       "\tat com.databricks.logging.UsageLogging.withAttributionContext$(UsageLogging.scala:409)\n",
       "\tat com.databricks.backend.daemon.dbutils.FSUtils.withAttributionContext(DBUtilsCore.scala:69)\n",
       "\tat com.databricks.logging.UsageLogging.withAttributionTags(UsageLogging.scala:457)\n",
       "\tat com.databricks.logging.UsageLogging.withAttributionTags$(UsageLogging.scala:442)\n",
       "\tat com.databricks.backend.daemon.dbutils.FSUtils.withAttributionTags(DBUtilsCore.scala:69)\n",
       "\tat com.databricks.logging.UsageLogging.recordOperationWithResultTags(UsageLogging.scala:647)\n",
       "\tat com.databricks.logging.UsageLogging.recordOperationWithResultTags$(UsageLogging.scala:566)\n",
       "\tat com.databricks.backend.daemon.dbutils.FSUtils.recordOperationWithResultTags(DBUtilsCore.scala:69)\n",
       "\tat com.databricks.logging.UsageLogging.recordOperation(UsageLogging.scala:557)\n",
       "\tat com.databricks.logging.UsageLogging.recordOperation$(UsageLogging.scala:527)\n",
       "\tat com.databricks.backend.daemon.dbutils.FSUtils.recordOperation(DBUtilsCore.scala:69)\n",
       "\tat com.databricks.backend.daemon.dbutils.FSUtils.recordDbutilsFsOp(DBUtilsCore.scala:133)\n",
       "\tat com.databricks.backend.daemon.dbutils.FSUtils.put(DBUtilsCore.scala:442)\n",
       "\tat sun.reflect.NativeMethodAccessorImpl.invoke0(Native Method)\n",
       "\tat sun.reflect.NativeMethodAccessorImpl.invoke(NativeMethodAccessorImpl.java:62)\n",
       "\tat sun.reflect.DelegatingMethodAccessorImpl.invoke(DelegatingMethodAccessorImpl.java:43)\n",
       "\tat java.lang.reflect.Method.invoke(Method.java:498)\n",
       "\tat py4j.reflection.MethodInvoker.invoke(MethodInvoker.java:244)\n",
       "\tat py4j.reflection.ReflectionEngine.invoke(ReflectionEngine.java:380)\n",
       "\tat py4j.Gateway.invoke(Gateway.java:306)\n",
       "\tat py4j.commands.AbstractCommand.invokeMethod(AbstractCommand.java:132)\n",
       "\tat py4j.commands.CallCommand.execute(CallCommand.java:79)\n",
       "\tat py4j.ClientServerConnection.waitForCommands(ClientServerConnection.java:195)\n",
       "\tat py4j.ClientServerConnection.run(ClientServerConnection.java:115)\n",
       "\tat java.lang.Thread.run(Thread.java:750)\n"
      ]
     },
     "metadata": {
      "application/vnd.databricks.v1+output": {
       "arguments": {},
       "data": "\u001B[0;31m---------------------------------------------------------------------------\u001B[0m\n\u001B[0;31mExecutionError\u001B[0m                            Traceback (most recent call last)\nFile \u001B[0;32m<command-4062554576221976>:1\u001B[0m\n\u001B[0;32m----> 1\u001B[0m \u001B[43mdbutils\u001B[49m\u001B[38;5;241;43m.\u001B[39;49m\u001B[43mfs\u001B[49m\u001B[38;5;241;43m.\u001B[39;49m\u001B[43mput\u001B[49m\u001B[43m(\u001B[49m\u001B[38;5;124;43m\"\u001B[39;49m\u001B[38;5;124;43m/FileStore/tables/rrr_dynamic.txt\u001B[39;49m\u001B[38;5;124;43m\"\u001B[39;49m\u001B[43m,\u001B[49m\u001B[38;5;124;43m\"\"\"\u001B[39;49m\n\u001B[1;32m      2\u001B[0m \u001B[38;5;124;43m               RRR[a] (subtitled onscreen as Roudram Ranam Rudhiram) is a 2022 Indian Telugu-language epic period action drama film directed by S. S. Rajamouli, who co-wrote the film with V. Vijayendra Prasad. It was produced by D. V. V. Danayya of DVV Entertainment. The film stars N. T. Rama Rao Jr., Ram Charan, Ajay Devgn, Alia Bhatt, Shriya Saran, Samuthirakani, Ray Stevenson, Alison Doody, and Olivia Morris. It revolves around the fictional versions of two Indian revolutionaries, Alluri Sitarama Raju (Charan) and Komaram Bheem (Rama Rao), their friendship, and their fight against the British Raj.\u001B[39;49m\n\u001B[1;32m      3\u001B[0m \n\u001B[1;32m      4\u001B[0m \u001B[38;5;124;43mRajamouli came across stories about the lives of Rama Raju and Bheem and connected the coincidences between them, imagining what would have happened had they met, and been friends. The film was announced in March 2018. Principal photography of the film began in November 2018 in Hyderabad and continued until August 2021, owing to delays caused by the COVID-19 pandemic. It was filmed extensively across India, with a few sequences filmed in Ukraine and Bulgaria. The film\u001B[39;49m\u001B[38;5;124;43m'\u001B[39;49m\u001B[38;5;124;43ms soundtrack and background score were composed by M. M. Keeravani, with cinematography by K. K. Senthil Kumar and editing by A. Sreekar Prasad. Sabu Cyril is the film\u001B[39;49m\u001B[38;5;124;43m'\u001B[39;49m\u001B[38;5;124;43ms production designer whilst V. Srinivas Mohan supervised the visual effects.\u001B[39;49m\n\u001B[1;32m      5\u001B[0m \u001B[38;5;124;43m               \u001B[39;49m\u001B[38;5;124;43m\"\"\"\u001B[39;49m\u001B[43m)\u001B[49m\n\nFile \u001B[0;32m/databricks/python_shell/dbruntime/dbutils.py:362\u001B[0m, in \u001B[0;36mDBUtils.FSHandler.prettify_exception_message.<locals>.f_with_exception_handling\u001B[0;34m(*args, **kwargs)\u001B[0m\n\u001B[1;32m    360\u001B[0m exc\u001B[38;5;241m.\u001B[39m__context__ \u001B[38;5;241m=\u001B[39m \u001B[38;5;28;01mNone\u001B[39;00m\n\u001B[1;32m    361\u001B[0m exc\u001B[38;5;241m.\u001B[39m__cause__ \u001B[38;5;241m=\u001B[39m \u001B[38;5;28;01mNone\u001B[39;00m\n\u001B[0;32m--> 362\u001B[0m \u001B[38;5;28;01mraise\u001B[39;00m exc\n\n\u001B[0;31mExecutionError\u001B[0m: An error occurred while calling o471.put.\n: org.apache.hadoop.fs.FileAlreadyExistsException: s3a://databricks-prod-storage-oregon/devtierprod1/3382163656683011/FileStore/tables/rrr_dynamic.txt already exists\n\tat com.databricks.backend.daemon.data.client.DbfsClient.send0(DbfsClient.scala:124)\n\tat com.databricks.backend.daemon.data.client.DbfsClient.sendNonIdempotent(DbfsClient.scala:82)\n\tat com.databricks.backend.daemon.data.client.DatabricksFileSystemV1.createUnbuffered(DatabricksFileSystemV1.scala:127)\n\tat com.databricks.backend.daemon.data.client.DatabricksFileSystemV1.create(DatabricksFileSystemV1.scala:109)\n\tat com.databricks.backend.daemon.data.client.DatabricksFileSystem.create(DatabricksFileSystem.scala:139)\n\tat org.apache.hadoop.fs.FileSystem.create(FileSystem.java:1195)\n\tat org.apache.hadoop.fs.FileSystem.create(FileSystem.java:1175)\n\tat org.apache.hadoop.fs.FileSystem.create(FileSystem.java:1064)\n\tat com.databricks.backend.daemon.dbutils.FSUtils.$anonfun$put$3(DBUtilsCore.scala:446)\n\tat com.databricks.backend.daemon.dbutils.FSUtils.withFsSafetyCheck(DBUtilsCore.scala:145)\n\tat com.databricks.backend.daemon.dbutils.FSUtils.$anonfun$put$2(DBUtilsCore.scala:443)\n\tat com.databricks.backend.daemon.dbutils.FSUtils.checkPermission(DBUtilsCore.scala:140)\n\tat com.databricks.backend.daemon.dbutils.FSUtils.$anonfun$put$1(DBUtilsCore.scala:443)\n\tat com.databricks.logging.UsageLogging.$anonfun$recordOperation$1(UsageLogging.scala:557)\n\tat com.databricks.logging.UsageLogging.executeThunkAndCaptureResultTags$1(UsageLogging.scala:652)\n\tat com.databricks.logging.UsageLogging.$anonfun$recordOperationWithResultTags$4(UsageLogging.scala:673)\n\tat com.databricks.logging.UsageLogging.$anonfun$withAttributionContext$1(UsageLogging.scala:414)\n\tat scala.util.DynamicVariable.withValue(DynamicVariable.scala:62)\n\tat com.databricks.logging.AttributionContext$.withValue(AttributionContext.scala:158)\n\tat com.databricks.logging.UsageLogging.withAttributionContext(UsageLogging.scala:412)\n\tat com.databricks.logging.UsageLogging.withAttributionContext$(UsageLogging.scala:409)\n\tat com.databricks.backend.daemon.dbutils.FSUtils.withAttributionContext(DBUtilsCore.scala:69)\n\tat com.databricks.logging.UsageLogging.withAttributionTags(UsageLogging.scala:457)\n\tat com.databricks.logging.UsageLogging.withAttributionTags$(UsageLogging.scala:442)\n\tat com.databricks.backend.daemon.dbutils.FSUtils.withAttributionTags(DBUtilsCore.scala:69)\n\tat com.databricks.logging.UsageLogging.recordOperationWithResultTags(UsageLogging.scala:647)\n\tat com.databricks.logging.UsageLogging.recordOperationWithResultTags$(UsageLogging.scala:566)\n\tat com.databricks.backend.daemon.dbutils.FSUtils.recordOperationWithResultTags(DBUtilsCore.scala:69)\n\tat com.databricks.logging.UsageLogging.recordOperation(UsageLogging.scala:557)\n\tat com.databricks.logging.UsageLogging.recordOperation$(UsageLogging.scala:527)\n\tat com.databricks.backend.daemon.dbutils.FSUtils.recordOperation(DBUtilsCore.scala:69)\n\tat com.databricks.backend.daemon.dbutils.FSUtils.recordDbutilsFsOp(DBUtilsCore.scala:133)\n\tat com.databricks.backend.daemon.dbutils.FSUtils.put(DBUtilsCore.scala:442)\n\tat sun.reflect.NativeMethodAccessorImpl.invoke0(Native Method)\n\tat sun.reflect.NativeMethodAccessorImpl.invoke(NativeMethodAccessorImpl.java:62)\n\tat sun.reflect.DelegatingMethodAccessorImpl.invoke(DelegatingMethodAccessorImpl.java:43)\n\tat java.lang.reflect.Method.invoke(Method.java:498)\n\tat py4j.reflection.MethodInvoker.invoke(MethodInvoker.java:244)\n\tat py4j.reflection.ReflectionEngine.invoke(ReflectionEngine.java:380)\n\tat py4j.Gateway.invoke(Gateway.java:306)\n\tat py4j.commands.AbstractCommand.invokeMethod(AbstractCommand.java:132)\n\tat py4j.commands.CallCommand.execute(CallCommand.java:79)\n\tat py4j.ClientServerConnection.waitForCommands(ClientServerConnection.java:195)\n\tat py4j.ClientServerConnection.run(ClientServerConnection.java:115)\n\tat java.lang.Thread.run(Thread.java:750)\n",
       "errorSummary": "org.apache.hadoop.fs.FileAlreadyExistsException: s3a://databricks-prod-storage-oregon/devtierprod1/3382163656683011/FileStore/tables/rrr_dynamic.txt already exists",
       "errorTraceType": "ansi",
       "metadata": {},
       "type": "ipynbError"
      }
     },
     "output_type": "display_data"
    }
   ],
   "source": [
    "dbutils.fs.put(\"/FileStore/tables/rrr_dynamic.txt\",\"\"\"\n",
    "               RRR[a] (subtitled onscreen as Roudram Ranam Rudhiram) is a 2022 Indian Telugu-language epic period action drama film directed by S. S. Rajamouli, who co-wrote the film with V. Vijayendra Prasad. It was produced by D. V. V. Danayya of DVV Entertainment. The film stars N. T. Rama Rao Jr., Ram Charan, Ajay Devgn, Alia Bhatt, Shriya Saran, Samuthirakani, Ray Stevenson, Alison Doody, and Olivia Morris. It revolves around the fictional versions of two Indian revolutionaries, Alluri Sitarama Raju (Charan) and Komaram Bheem (Rama Rao), their friendship, and their fight against the British Raj.\n",
    "\n",
    "Rajamouli came across stories about the lives of Rama Raju and Bheem and connected the coincidences between them, imagining what would have happened had they met, and been friends. The film was announced in March 2018. Principal photography of the film began in November 2018 in Hyderabad and continued until August 2021, owing to delays caused by the COVID-19 pandemic. It was filmed extensively across India, with a few sequences filmed in Ukraine and Bulgaria. The film's soundtrack and background score were composed by M. M. Keeravani, with cinematography by K. K. Senthil Kumar and editing by A. Sreekar Prasad. Sabu Cyril is the film's production designer whilst V. Srinivas Mohan supervised the visual effects.\n",
    "               \"\"\")"
   ]
  },
  {
   "cell_type": "code",
   "execution_count": 0,
   "metadata": {
    "application/vnd.databricks.v1+cell": {
     "cellMetadata": {
      "byteLimit": 2048000,
      "rowLimit": 10000
     },
     "inputWidgets": {},
     "nuid": "e0d50b50-aab5-4bb4-9cfd-f38ea4337c12",
     "showTitle": false,
     "title": ""
    }
   },
   "outputs": [
    {
     "output_type": "display_data",
     "data": {
      "text/plain": [
       ""
      ]
     },
     "metadata": {
      "application/vnd.databricks.v1+output": {
       "arguments": {},
       "data": "",
       "errorSummary": "Command skipped",
       "errorTraceType": "ansi",
       "metadata": {},
       "type": "ipynbError"
      }
     },
     "output_type": "display_data"
    }
   ],
   "source": [
    "df=spark.read.text(\"/FileStore/tables/rrr_dynamic.txt\")\n",
    "display(df)"
   ]
  },
  {
   "cell_type": "code",
   "execution_count": 0,
   "metadata": {
    "application/vnd.databricks.v1+cell": {
     "cellMetadata": {
      "byteLimit": 2048000,
      "rowLimit": 10000
     },
     "inputWidgets": {},
     "nuid": "fedb427c-a8f6-4b6e-b369-1a1a460854a6",
     "showTitle": false,
     "title": ""
    }
   },
   "outputs": [
    {
     "output_type": "display_data",
     "data": {
      "text/plain": [
       ""
      ]
     },
     "metadata": {
      "application/vnd.databricks.v1+output": {
       "arguments": {},
       "data": "",
       "errorSummary": "Command skipped",
       "errorTraceType": "ansi",
       "metadata": {},
       "type": "ipynbError"
      }
     },
     "output_type": "display_data"
    }
   ],
   "source": [
    "df=spark.read.text(\"/FileStore/tables/rrr.txt\")\n",
    "display(df)"
   ]
  },
  {
   "cell_type": "code",
   "execution_count": 0,
   "metadata": {
    "application/vnd.databricks.v1+cell": {
     "cellMetadata": {
      "byteLimit": 2048000,
      "rowLimit": 10000
     },
     "inputWidgets": {},
     "nuid": "9543b24a-f013-448b-bb96-90d264ae6085",
     "showTitle": false,
     "title": ""
    }
   },
   "outputs": [
    {
     "output_type": "display_data",
     "data": {
      "text/plain": [
       ""
      ]
     },
     "metadata": {
      "application/vnd.databricks.v1+output": {
       "arguments": {},
       "data": "",
       "errorSummary": "Command skipped",
       "errorTraceType": "ansi",
       "metadata": {},
       "type": "ipynbError"
      }
     },
     "output_type": "display_data"
    }
   ],
   "source": [
    "#individual function test purpose\n",
    "# from pyspark.sql.functions import explode,split,col\n",
    "# df1=df.withColumn('word',\n",
    "#                   split(\n",
    "#                   col('value'),\" \")#split function\n",
    "                               \n",
    "#                   )\n",
    "# df1.display()"
   ]
  },
  {
   "cell_type": "code",
   "execution_count": 0,
   "metadata": {
    "application/vnd.databricks.v1+cell": {
     "cellMetadata": {
      "byteLimit": 2048000,
      "rowLimit": 10000
     },
     "inputWidgets": {},
     "nuid": "483875fc-7165-491f-89b0-b8bd132572ac",
     "showTitle": false,
     "title": ""
    }
   },
   "outputs": [
    {
     "output_type": "display_data",
     "data": {
      "text/plain": [
       ""
      ]
     },
     "metadata": {
      "application/vnd.databricks.v1+output": {
       "arguments": {},
       "data": "",
       "errorSummary": "Command skipped",
       "errorTraceType": "ansi",
       "metadata": {},
       "type": "ipynbError"
      }
     },
     "output_type": "display_data"
    }
   ],
   "source": [
    "#individual function test purpose\n",
    "# df2=df1.withColumn('explode_column', explode(col('word'))).drop(\"value\")#explode function\n",
    "# df2.display()              "
   ]
  },
  {
   "cell_type": "code",
   "execution_count": 0,
   "metadata": {
    "application/vnd.databricks.v1+cell": {
     "cellMetadata": {
      "byteLimit": 2048000,
      "rowLimit": 10000
     },
     "inputWidgets": {},
     "nuid": "3212812a-d0d3-4208-948c-1cf682887b16",
     "showTitle": false,
     "title": ""
    }
   },
   "outputs": [
    {
     "output_type": "display_data",
     "data": {
      "text/html": [
       "<style scoped>\n",
       "  .table-result-container {\n",
       "    max-height: 300px;\n",
       "    overflow: auto;\n",
       "  }\n",
       "  table, th, td {\n",
       "    border: 1px solid black;\n",
       "    border-collapse: collapse;\n",
       "  }\n",
       "  th, td {\n",
       "    padding: 5px;\n",
       "  }\n",
       "  th {\n",
       "    text-align: left;\n",
       "  }\n",
       "</style><div class='table-result-container'><table class='table-result'><thead style='background-color: white'><tr><th>word</th><th>count</th></tr></thead><tbody><tr><td>and</td><td>10</td></tr><tr><td>the</td><td>9</td></tr><tr><td>by</td><td>6</td></tr><tr><td>film</td><td>5</td></tr><tr><td>V.</td><td>4</td></tr><tr><td>in</td><td>4</td></tr><tr><td>of</td><td>4</td></tr><tr><td>was</td><td>3</td></tr><tr><td>with</td><td>3</td></tr><tr><td>It</td><td>3</td></tr><tr><td>The</td><td>3</td></tr><tr><td>K.</td><td>2</td></tr><tr><td>their</td><td>2</td></tr><tr><td>Indian</td><td>2</td></tr><tr><td>M.</td><td>2</td></tr><tr><td>film's</td><td>2</td></tr><tr><td>Rama</td><td>2</td></tr><tr><td>filmed</td><td>2</td></tr><tr><td>is</td><td>2</td></tr><tr><td>Raju</td><td>2</td></tr><tr><td>across</td><td>2</td></tr><tr><td>Prasad.</td><td>2</td></tr><tr><td>Bheem</td><td>2</td></tr><tr><td>a</td><td>2</td></tr><tr><td>S.</td><td>2</td></tr><tr><td>connected</td><td>1</td></tr><tr><td>few</td><td>1</td></tr><tr><td>Alison</td><td>1</td></tr><tr><td>production</td><td>1</td></tr><tr><td>two</td><td>1</td></tr><tr><td>Raj.</td><td>1</td></tr><tr><td>continued</td><td>1</td></tr><tr><td>Rudhiram)</td><td>1</td></tr><tr><td>who</td><td>1</td></tr><tr><td>editing</td><td>1</td></tr><tr><td>Ray</td><td>1</td></tr><tr><td>Sitarama</td><td>1</td></tr><tr><td>supervised</td><td>1</td></tr><tr><td>stars</td><td>1</td></tr><tr><td>Jr.,</td><td>1</td></tr><tr><td>November</td><td>1</td></tr><tr><td>Alia</td><td>1</td></tr><tr><td>whilst</td><td>1</td></tr><tr><td>(Charan)</td><td>1</td></tr><tr><td>effects.</td><td>1</td></tr><tr><td>Principal</td><td>1</td></tr><tr><td>visual</td><td>1</td></tr><tr><td>Alluri</td><td>1</td></tr><tr><td>Rao</td><td>1</td></tr><tr><td>March</td><td>1</td></tr><tr><td>Sreekar</td><td>1</td></tr><tr><td>sequences</td><td>1</td></tr><tr><td>action</td><td>1</td></tr><tr><td>coincidences</td><td>1</td></tr><tr><td>they</td><td>1</td></tr><tr><td>Mohan</td><td>1</td></tr><tr><td>T.</td><td>1</td></tr><tr><td>Devgn,</td><td>1</td></tr><tr><td>had</td><td>1</td></tr><tr><td>lives</td><td>1</td></tr><tr><td>met,</td><td>1</td></tr><tr><td>India,</td><td>1</td></tr><tr><td>Ranam</td><td>1</td></tr><tr><td>D.</td><td>1</td></tr><tr><td>happened</td><td>1</td></tr><tr><td>2018</td><td>1</td></tr><tr><td>co-wrote</td><td>1</td></tr><tr><td>British</td><td>1</td></tr><tr><td>Bhatt,</td><td>1</td></tr><tr><td>Ram</td><td>1</td></tr><tr><td>August</td><td>1</td></tr><tr><td>versions</td><td>1</td></tr><tr><td>photography</td><td>1</td></tr><tr><td>Charan,</td><td>1</td></tr><tr><td>Ajay</td><td>1</td></tr><tr><td>produced</td><td>1</td></tr><tr><td>Danayya</td><td>1</td></tr><tr><td>between</td><td>1</td></tr><tr><td>imagining</td><td>1</td></tr><tr><td>Cyril</td><td>1</td></tr><tr><td>Rajamouli,</td><td>1</td></tr><tr><td>Shriya</td><td>1</td></tr><tr><td>Doody,</td><td>1</td></tr><tr><td>Srinivas</td><td>1</td></tr><tr><td>revolutionaries,</td><td>1</td></tr><tr><td>pandemic.</td><td>1</td></tr><tr><td>A.</td><td>1</td></tr><tr><td>Bulgaria.</td><td>1</td></tr><tr><td>2022</td><td>1</td></tr><tr><td>have</td><td>1</td></tr><tr><td>DVV</td><td>1</td></tr><tr><td>Rao),</td><td>1</td></tr><tr><td>Ukraine</td><td>1</td></tr><tr><td>Komaram</td><td>1</td></tr><tr><td>COVID-19</td><td>1</td></tr><tr><td>composed</td><td>1</td></tr><tr><td>Senthil</td><td>1</td></tr><tr><td>announced</td><td>1</td></tr><tr><td>Rajamouli</td><td>1</td></tr><tr><td>Sabu</td><td>1</td></tr><tr><td>fictional</td><td>1</td></tr><tr><td>fight</td><td>1</td></tr><tr><td>Telugu-language</td><td>1</td></tr><tr><td>what</td><td>1</td></tr><tr><td>drama</td><td>1</td></tr><tr><td>directed</td><td>1</td></tr><tr><td>period</td><td>1</td></tr><tr><td>cinematography</td><td>1</td></tr><tr><td>(Rama</td><td>1</td></tr><tr><td>Kumar</td><td>1</td></tr><tr><td>Roudram</td><td>1</td></tr><tr><td>delays</td><td>1</td></tr><tr><td>been</td><td>1</td></tr><tr><td>Olivia</td><td>1</td></tr><tr><td>around</td><td>1</td></tr><tr><td>against</td><td>1</td></tr><tr><td>Keeravani,</td><td>1</td></tr><tr><td>2018.</td><td>1</td></tr><tr><td>began</td><td>1</td></tr><tr><td>until</td><td>1</td></tr><tr><td>N.</td><td>1</td></tr><tr><td>friendship,</td><td>1</td></tr><tr><td>Stevenson,</td><td>1</td></tr><tr><td>score</td><td>1</td></tr><tr><td>designer</td><td>1</td></tr><tr><td>onscreen</td><td>1</td></tr><tr><td>were</td><td>1</td></tr><tr><td>would</td><td>1</td></tr><tr><td>Hyderabad</td><td>1</td></tr><tr><td>Vijayendra</td><td>1</td></tr><tr><td>revolves</td><td>1</td></tr><tr><td>RRR[a]</td><td>1</td></tr><tr><td>as</td><td>1</td></tr><tr><td></td><td>1</td></tr><tr><td>extensively</td><td>1</td></tr><tr><td>(subtitled</td><td>1</td></tr><tr><td>about</td><td>1</td></tr><tr><td>Morris.</td><td>1</td></tr><tr><td>came</td><td>1</td></tr><tr><td>soundtrack</td><td>1</td></tr><tr><td>Entertainment.</td><td>1</td></tr><tr><td>them,</td><td>1</td></tr><tr><td>caused</td><td>1</td></tr><tr><td>to</td><td>1</td></tr><tr><td>2021,</td><td>1</td></tr><tr><td>epic</td><td>1</td></tr><tr><td>owing</td><td>1</td></tr><tr><td>Saran,</td><td>1</td></tr><tr><td>Samuthirakani,</td><td>1</td></tr><tr><td>stories</td><td>1</td></tr><tr><td>background</td><td>1</td></tr><tr><td>friends.</td><td>1</td></tr></tbody></table></div>"
      ]
     },
     "metadata": {
      "application/vnd.databricks.v1+output": {
       "addedWidgets": {},
       "aggData": [],
       "aggError": "",
       "aggOverflow": false,
       "aggSchema": [],
       "aggSeriesLimitReached": false,
       "aggType": "",
       "arguments": {},
       "columnCustomDisplayInfos": {},
       "data": [
        [
         "and",
         10
        ],
        [
         "the",
         9
        ],
        [
         "by",
         6
        ],
        [
         "film",
         5
        ],
        [
         "V.",
         4
        ],
        [
         "in",
         4
        ],
        [
         "of",
         4
        ],
        [
         "was",
         3
        ],
        [
         "with",
         3
        ],
        [
         "It",
         3
        ],
        [
         "The",
         3
        ],
        [
         "K.",
         2
        ],
        [
         "their",
         2
        ],
        [
         "Indian",
         2
        ],
        [
         "M.",
         2
        ],
        [
         "film's",
         2
        ],
        [
         "Rama",
         2
        ],
        [
         "filmed",
         2
        ],
        [
         "is",
         2
        ],
        [
         "Raju",
         2
        ],
        [
         "across",
         2
        ],
        [
         "Prasad.",
         2
        ],
        [
         "Bheem",
         2
        ],
        [
         "a",
         2
        ],
        [
         "S.",
         2
        ],
        [
         "connected",
         1
        ],
        [
         "few",
         1
        ],
        [
         "Alison",
         1
        ],
        [
         "production",
         1
        ],
        [
         "two",
         1
        ],
        [
         "Raj.",
         1
        ],
        [
         "continued",
         1
        ],
        [
         "Rudhiram)",
         1
        ],
        [
         "who",
         1
        ],
        [
         "editing",
         1
        ],
        [
         "Ray",
         1
        ],
        [
         "Sitarama",
         1
        ],
        [
         "supervised",
         1
        ],
        [
         "stars",
         1
        ],
        [
         "Jr.,",
         1
        ],
        [
         "November",
         1
        ],
        [
         "Alia",
         1
        ],
        [
         "whilst",
         1
        ],
        [
         "(Charan)",
         1
        ],
        [
         "effects.",
         1
        ],
        [
         "Principal",
         1
        ],
        [
         "visual",
         1
        ],
        [
         "Alluri",
         1
        ],
        [
         "Rao",
         1
        ],
        [
         "March",
         1
        ],
        [
         "Sreekar",
         1
        ],
        [
         "sequences",
         1
        ],
        [
         "action",
         1
        ],
        [
         "coincidences",
         1
        ],
        [
         "they",
         1
        ],
        [
         "Mohan",
         1
        ],
        [
         "T.",
         1
        ],
        [
         "Devgn,",
         1
        ],
        [
         "had",
         1
        ],
        [
         "lives",
         1
        ],
        [
         "met,",
         1
        ],
        [
         "India,",
         1
        ],
        [
         "Ranam",
         1
        ],
        [
         "D.",
         1
        ],
        [
         "happened",
         1
        ],
        [
         "2018",
         1
        ],
        [
         "co-wrote",
         1
        ],
        [
         "British",
         1
        ],
        [
         "Bhatt,",
         1
        ],
        [
         "Ram",
         1
        ],
        [
         "August",
         1
        ],
        [
         "versions",
         1
        ],
        [
         "photography",
         1
        ],
        [
         "Charan,",
         1
        ],
        [
         "Ajay",
         1
        ],
        [
         "produced",
         1
        ],
        [
         "Danayya",
         1
        ],
        [
         "between",
         1
        ],
        [
         "imagining",
         1
        ],
        [
         "Cyril",
         1
        ],
        [
         "Rajamouli,",
         1
        ],
        [
         "Shriya",
         1
        ],
        [
         "Doody,",
         1
        ],
        [
         "Srinivas",
         1
        ],
        [
         "revolutionaries,",
         1
        ],
        [
         "pandemic.",
         1
        ],
        [
         "A.",
         1
        ],
        [
         "Bulgaria.",
         1
        ],
        [
         "2022",
         1
        ],
        [
         "have",
         1
        ],
        [
         "DVV",
         1
        ],
        [
         "Rao),",
         1
        ],
        [
         "Ukraine",
         1
        ],
        [
         "Komaram",
         1
        ],
        [
         "COVID-19",
         1
        ],
        [
         "composed",
         1
        ],
        [
         "Senthil",
         1
        ],
        [
         "announced",
         1
        ],
        [
         "Rajamouli",
         1
        ],
        [
         "Sabu",
         1
        ],
        [
         "fictional",
         1
        ],
        [
         "fight",
         1
        ],
        [
         "Telugu-language",
         1
        ],
        [
         "what",
         1
        ],
        [
         "drama",
         1
        ],
        [
         "directed",
         1
        ],
        [
         "period",
         1
        ],
        [
         "cinematography",
         1
        ],
        [
         "(Rama",
         1
        ],
        [
         "Kumar",
         1
        ],
        [
         "Roudram",
         1
        ],
        [
         "delays",
         1
        ],
        [
         "been",
         1
        ],
        [
         "Olivia",
         1
        ],
        [
         "around",
         1
        ],
        [
         "against",
         1
        ],
        [
         "Keeravani,",
         1
        ],
        [
         "2018.",
         1
        ],
        [
         "began",
         1
        ],
        [
         "until",
         1
        ],
        [
         "N.",
         1
        ],
        [
         "friendship,",
         1
        ],
        [
         "Stevenson,",
         1
        ],
        [
         "score",
         1
        ],
        [
         "designer",
         1
        ],
        [
         "onscreen",
         1
        ],
        [
         "were",
         1
        ],
        [
         "would",
         1
        ],
        [
         "Hyderabad",
         1
        ],
        [
         "Vijayendra",
         1
        ],
        [
         "revolves",
         1
        ],
        [
         "RRR[a]",
         1
        ],
        [
         "as",
         1
        ],
        [
         "",
         1
        ],
        [
         "extensively",
         1
        ],
        [
         "(subtitled",
         1
        ],
        [
         "about",
         1
        ],
        [
         "Morris.",
         1
        ],
        [
         "came",
         1
        ],
        [
         "soundtrack",
         1
        ],
        [
         "Entertainment.",
         1
        ],
        [
         "them,",
         1
        ],
        [
         "caused",
         1
        ],
        [
         "to",
         1
        ],
        [
         "2021,",
         1
        ],
        [
         "epic",
         1
        ],
        [
         "owing",
         1
        ],
        [
         "Saran,",
         1
        ],
        [
         "Samuthirakani,",
         1
        ],
        [
         "stories",
         1
        ],
        [
         "background",
         1
        ],
        [
         "friends.",
         1
        ]
       ],
       "datasetInfos": [],
       "dbfsResultPath": null,
       "isJsonSchema": true,
       "metadata": {},
       "overflow": false,
       "plotOptions": {
        "customPlotOptions": {},
        "displayType": "table",
        "pivotAggregation": null,
        "pivotColumns": null,
        "xColumns": null,
        "yColumns": null
       },
       "removedWidgets": [],
       "schema": [
        {
         "metadata": "{}",
         "name": "word",
         "type": "\"string\""
        },
        {
         "metadata": "{}",
         "name": "count",
         "type": "\"long\""
        }
       ],
       "type": "table"
      }
     },
     "output_type": "display_data"
    }
   ],
   "source": [
    "#Method 1: Using GroupBy(): performance issues bcoz groupby,sort..etc\n",
    "#import required pckg\n",
    "from pyspark.sql.functions import explode,split,col\n",
    "\n",
    "#Apply Split, Explode and groupBy to get count()\n",
    "df_count=(\n",
    "  df.withColumn('word', explode(split(col('value'), ' ')))\n",
    "    .groupBy('word')\n",
    "    .count()\n",
    "    .sort('count', ascending=False)\n",
    ")\n",
    "\n",
    "#Display Output\n",
    "df_count.display()"
   ]
  },
  {
   "cell_type": "code",
   "execution_count": 0,
   "metadata": {
    "application/vnd.databricks.v1+cell": {
     "cellMetadata": {
      "byteLimit": 2048000,
      "rowLimit": 10000
     },
     "inputWidgets": {},
     "nuid": "215e8e89-08a7-4c92-a377-2e941d5dc589",
     "showTitle": false,
     "title": ""
    }
   },
   "outputs": [],
   "source": [
    "#Method 2: Using Spark UDF():to improve performance\n",
    "# Step 1 - Create Spark UDF:\n",
    "# We will pass the list as input to the function and return the count of each word.\n",
    "#import required Datatypes\n",
    "from pyspark.sql.types import FloatType, ArrayType, StringType\n",
    "\n",
    "#UDF in PySpark\n",
    "@udf(ArrayType(ArrayType(StringType())))\n",
    "def count_words(a: list):\n",
    "  word_set = set(a)\n",
    "  # create your frequency dictionary\n",
    "  freq = []\n",
    "  # iterate through them, once per unique word.\n",
    "  for word in word_set:\n",
    "    freq.append([word,a.count(word)])\n",
    "    \n",
    "  return list(freq)"
   ]
  },
  {
   "cell_type": "code",
   "execution_count": 0,
   "metadata": {
    "application/vnd.databricks.v1+cell": {
     "cellMetadata": {
      "byteLimit": 2048000,
      "rowLimit": 10000
     },
     "inputWidgets": {},
     "nuid": "b7a87b56-aa88-400e-8baa-314e2942c48e",
     "showTitle": false,
     "title": ""
    }
   },
   "outputs": [
    {
     "output_type": "display_data",
     "data": {
      "text/html": [
       "<style scoped>\n",
       "  .table-result-container {\n",
       "    max-height: 300px;\n",
       "    overflow: auto;\n",
       "  }\n",
       "  table, th, td {\n",
       "    border: 1px solid black;\n",
       "    border-collapse: collapse;\n",
       "  }\n",
       "  th, td {\n",
       "    padding: 5px;\n",
       "  }\n",
       "  th {\n",
       "    text-align: left;\n",
       "  }\n",
       "</style><div class='table-result-container'><table class='table-result'><thead style='background-color: white'><tr><th>word</th><th>count</th></tr></thead><tbody><tr><td>and</td><td>7</td></tr><tr><td>the</td><td>6</td></tr><tr><td>by</td><td>4</td></tr><tr><td>in</td><td>4</td></tr><tr><td>film</td><td>3</td></tr><tr><td>V.</td><td>3</td></tr><tr><td>the</td><td>3</td></tr><tr><td>and</td><td>3</td></tr><tr><td>Indian</td><td>2</td></tr><tr><td>by</td><td>2</td></tr><tr><td>their</td><td>2</td></tr><tr><td>It</td><td>2</td></tr><tr><td>of</td><td>2</td></tr><tr><td>S.</td><td>2</td></tr><tr><td>was</td><td>2</td></tr><tr><td>M.</td><td>2</td></tr><tr><td>film's</td><td>2</td></tr><tr><td>The</td><td>2</td></tr><tr><td>film</td><td>2</td></tr><tr><td>K.</td><td>2</td></tr><tr><td>with</td><td>2</td></tr><tr><td>filmed</td><td>2</td></tr><tr><td>of</td><td>2</td></tr><tr><td>across</td><td>2</td></tr><tr><td>was</td><td>1</td></tr><tr><td>DVV</td><td>1</td></tr><tr><td>D.</td><td>1</td></tr><tr><td>Ram</td><td>1</td></tr><tr><td>as</td><td>1</td></tr><tr><td>Alia</td><td>1</td></tr><tr><td>Doody,</td><td>1</td></tr><tr><td>Raju</td><td>1</td></tr><tr><td>The</td><td>1</td></tr><tr><td>a</td><td>1</td></tr><tr><td>Bhatt,</td><td>1</td></tr><tr><td>Alison</td><td>1</td></tr><tr><td>Olivia</td><td>1</td></tr><tr><td>RRR[a]</td><td>1</td></tr><tr><td>co-wrote</td><td>1</td></tr><tr><td>T.</td><td>1</td></tr><tr><td>friendship,</td><td>1</td></tr><tr><td>Rao),</td><td>1</td></tr><tr><td>N.</td><td>1</td></tr><tr><td>(subtitled</td><td>1</td></tr><tr><td>2022</td><td>1</td></tr><tr><td>Rajamouli,</td><td>1</td></tr><tr><td>Devgn,</td><td>1</td></tr><tr><td>Ray</td><td>1</td></tr><tr><td>Bheem</td><td>1</td></tr><tr><td>Vijayendra</td><td>1</td></tr><tr><td>revolutionaries,</td><td>1</td></tr><tr><td>British</td><td>1</td></tr><tr><td>who</td><td>1</td></tr><tr><td>onscreen</td><td>1</td></tr><tr><td>Komaram</td><td>1</td></tr><tr><td>Morris.</td><td>1</td></tr><tr><td>produced</td><td>1</td></tr><tr><td>stars</td><td>1</td></tr><tr><td>Charan,</td><td>1</td></tr><tr><td>Sitarama</td><td>1</td></tr><tr><td>Rudhiram)</td><td>1</td></tr><tr><td>with</td><td>1</td></tr><tr><td>epic</td><td>1</td></tr><tr><td>Entertainment.</td><td>1</td></tr><tr><td>fight</td><td>1</td></tr><tr><td>Prasad.</td><td>1</td></tr><tr><td>Danayya</td><td>1</td></tr><tr><td>Alluri</td><td>1</td></tr><tr><td>Shriya</td><td>1</td></tr><tr><td>Raj.</td><td>1</td></tr><tr><td>revolves</td><td>1</td></tr><tr><td>fictional</td><td>1</td></tr><tr><td>Telugu-language</td><td>1</td></tr><tr><td>around</td><td>1</td></tr><tr><td>Roudram</td><td>1</td></tr><tr><td>directed</td><td>1</td></tr><tr><td>Rao</td><td>1</td></tr><tr><td>drama</td><td>1</td></tr><tr><td>Stevenson,</td><td>1</td></tr><tr><td>Ranam</td><td>1</td></tr><tr><td>Jr.,</td><td>1</td></tr><tr><td>Rama</td><td>1</td></tr><tr><td>period</td><td>1</td></tr><tr><td>action</td><td>1</td></tr><tr><td>Ajay</td><td>1</td></tr><tr><td>Saran,</td><td>1</td></tr><tr><td>Samuthirakani,</td><td>1</td></tr><tr><td>(Charan)</td><td>1</td></tr><tr><td>against</td><td>1</td></tr><tr><td>two</td><td>1</td></tr><tr><td>(Rama</td><td>1</td></tr><tr><td>is</td><td>1</td></tr><tr><td>versions</td><td>1</td></tr><tr><td></td><td>1</td></tr><tr><td>imagining</td><td>1</td></tr><tr><td>coincidences</td><td>1</td></tr><tr><td>they</td><td>1</td></tr><tr><td>about</td><td>1</td></tr><tr><td>effects.</td><td>1</td></tr><tr><td>been</td><td>1</td></tr><tr><td>Raju</td><td>1</td></tr><tr><td>Rajamouli</td><td>1</td></tr><tr><td>continued</td><td>1</td></tr><tr><td>a</td><td>1</td></tr><tr><td>Cyril</td><td>1</td></tr><tr><td>supervised</td><td>1</td></tr><tr><td>A.</td><td>1</td></tr><tr><td>designer</td><td>1</td></tr><tr><td>Principal</td><td>1</td></tr><tr><td>2018</td><td>1</td></tr><tr><td>composed</td><td>1</td></tr><tr><td>visual</td><td>1</td></tr><tr><td>V.</td><td>1</td></tr><tr><td>August</td><td>1</td></tr><tr><td>score</td><td>1</td></tr><tr><td>what</td><td>1</td></tr><tr><td>to</td><td>1</td></tr><tr><td>background</td><td>1</td></tr><tr><td>met,</td><td>1</td></tr><tr><td>owing</td><td>1</td></tr><tr><td>India,</td><td>1</td></tr><tr><td>Bheem</td><td>1</td></tr><tr><td>Srinivas</td><td>1</td></tr><tr><td>photography</td><td>1</td></tr><tr><td>editing</td><td>1</td></tr><tr><td>pandemic.</td><td>1</td></tr><tr><td>began</td><td>1</td></tr><tr><td>Kumar</td><td>1</td></tr><tr><td>Keeravani,</td><td>1</td></tr><tr><td>Sreekar</td><td>1</td></tr><tr><td>connected</td><td>1</td></tr><tr><td>happened</td><td>1</td></tr><tr><td>November</td><td>1</td></tr><tr><td>It</td><td>1</td></tr><tr><td>extensively</td><td>1</td></tr><tr><td>whilst</td><td>1</td></tr><tr><td>between</td><td>1</td></tr><tr><td>Prasad.</td><td>1</td></tr><tr><td>had</td><td>1</td></tr><tr><td>have</td><td>1</td></tr><tr><td>Ukraine</td><td>1</td></tr><tr><td>March</td><td>1</td></tr><tr><td>Mohan</td><td>1</td></tr><tr><td>Senthil</td><td>1</td></tr><tr><td>came</td><td>1</td></tr><tr><td>lives</td><td>1</td></tr><tr><td>until</td><td>1</td></tr><tr><td>sequences</td><td>1</td></tr><tr><td>production</td><td>1</td></tr><tr><td>2021,</td><td>1</td></tr><tr><td>few</td><td>1</td></tr><tr><td>soundtrack</td><td>1</td></tr><tr><td>them,</td><td>1</td></tr><tr><td>were</td><td>1</td></tr><tr><td>cinematography</td><td>1</td></tr><tr><td>Sabu</td><td>1</td></tr><tr><td>Rama</td><td>1</td></tr><tr><td>caused</td><td>1</td></tr><tr><td>Bulgaria.</td><td>1</td></tr><tr><td>2018.</td><td>1</td></tr><tr><td>delays</td><td>1</td></tr><tr><td>would</td><td>1</td></tr><tr><td>friends.</td><td>1</td></tr><tr><td>COVID-19</td><td>1</td></tr><tr><td>announced</td><td>1</td></tr><tr><td>Hyderabad</td><td>1</td></tr><tr><td>is</td><td>1</td></tr><tr><td>stories</td><td>1</td></tr></tbody></table></div>"
      ]
     },
     "metadata": {
      "application/vnd.databricks.v1+output": {
       "addedWidgets": {},
       "aggData": [],
       "aggError": "",
       "aggOverflow": false,
       "aggSchema": [],
       "aggSeriesLimitReached": false,
       "aggType": "",
       "arguments": {},
       "columnCustomDisplayInfos": {},
       "data": [
        [
         "and",
         "7"
        ],
        [
         "the",
         "6"
        ],
        [
         "by",
         "4"
        ],
        [
         "in",
         "4"
        ],
        [
         "film",
         "3"
        ],
        [
         "V.",
         "3"
        ],
        [
         "the",
         "3"
        ],
        [
         "and",
         "3"
        ],
        [
         "Indian",
         "2"
        ],
        [
         "by",
         "2"
        ],
        [
         "their",
         "2"
        ],
        [
         "It",
         "2"
        ],
        [
         "of",
         "2"
        ],
        [
         "S.",
         "2"
        ],
        [
         "was",
         "2"
        ],
        [
         "M.",
         "2"
        ],
        [
         "film's",
         "2"
        ],
        [
         "The",
         "2"
        ],
        [
         "film",
         "2"
        ],
        [
         "K.",
         "2"
        ],
        [
         "with",
         "2"
        ],
        [
         "filmed",
         "2"
        ],
        [
         "of",
         "2"
        ],
        [
         "across",
         "2"
        ],
        [
         "was",
         "1"
        ],
        [
         "DVV",
         "1"
        ],
        [
         "D.",
         "1"
        ],
        [
         "Ram",
         "1"
        ],
        [
         "as",
         "1"
        ],
        [
         "Alia",
         "1"
        ],
        [
         "Doody,",
         "1"
        ],
        [
         "Raju",
         "1"
        ],
        [
         "The",
         "1"
        ],
        [
         "a",
         "1"
        ],
        [
         "Bhatt,",
         "1"
        ],
        [
         "Alison",
         "1"
        ],
        [
         "Olivia",
         "1"
        ],
        [
         "RRR[a]",
         "1"
        ],
        [
         "co-wrote",
         "1"
        ],
        [
         "T.",
         "1"
        ],
        [
         "friendship,",
         "1"
        ],
        [
         "Rao),",
         "1"
        ],
        [
         "N.",
         "1"
        ],
        [
         "(subtitled",
         "1"
        ],
        [
         "2022",
         "1"
        ],
        [
         "Rajamouli,",
         "1"
        ],
        [
         "Devgn,",
         "1"
        ],
        [
         "Ray",
         "1"
        ],
        [
         "Bheem",
         "1"
        ],
        [
         "Vijayendra",
         "1"
        ],
        [
         "revolutionaries,",
         "1"
        ],
        [
         "British",
         "1"
        ],
        [
         "who",
         "1"
        ],
        [
         "onscreen",
         "1"
        ],
        [
         "Komaram",
         "1"
        ],
        [
         "Morris.",
         "1"
        ],
        [
         "produced",
         "1"
        ],
        [
         "stars",
         "1"
        ],
        [
         "Charan,",
         "1"
        ],
        [
         "Sitarama",
         "1"
        ],
        [
         "Rudhiram)",
         "1"
        ],
        [
         "with",
         "1"
        ],
        [
         "epic",
         "1"
        ],
        [
         "Entertainment.",
         "1"
        ],
        [
         "fight",
         "1"
        ],
        [
         "Prasad.",
         "1"
        ],
        [
         "Danayya",
         "1"
        ],
        [
         "Alluri",
         "1"
        ],
        [
         "Shriya",
         "1"
        ],
        [
         "Raj.",
         "1"
        ],
        [
         "revolves",
         "1"
        ],
        [
         "fictional",
         "1"
        ],
        [
         "Telugu-language",
         "1"
        ],
        [
         "around",
         "1"
        ],
        [
         "Roudram",
         "1"
        ],
        [
         "directed",
         "1"
        ],
        [
         "Rao",
         "1"
        ],
        [
         "drama",
         "1"
        ],
        [
         "Stevenson,",
         "1"
        ],
        [
         "Ranam",
         "1"
        ],
        [
         "Jr.,",
         "1"
        ],
        [
         "Rama",
         "1"
        ],
        [
         "period",
         "1"
        ],
        [
         "action",
         "1"
        ],
        [
         "Ajay",
         "1"
        ],
        [
         "Saran,",
         "1"
        ],
        [
         "Samuthirakani,",
         "1"
        ],
        [
         "(Charan)",
         "1"
        ],
        [
         "against",
         "1"
        ],
        [
         "two",
         "1"
        ],
        [
         "(Rama",
         "1"
        ],
        [
         "is",
         "1"
        ],
        [
         "versions",
         "1"
        ],
        [
         "",
         "1"
        ],
        [
         "imagining",
         "1"
        ],
        [
         "coincidences",
         "1"
        ],
        [
         "they",
         "1"
        ],
        [
         "about",
         "1"
        ],
        [
         "effects.",
         "1"
        ],
        [
         "been",
         "1"
        ],
        [
         "Raju",
         "1"
        ],
        [
         "Rajamouli",
         "1"
        ],
        [
         "continued",
         "1"
        ],
        [
         "a",
         "1"
        ],
        [
         "Cyril",
         "1"
        ],
        [
         "supervised",
         "1"
        ],
        [
         "A.",
         "1"
        ],
        [
         "designer",
         "1"
        ],
        [
         "Principal",
         "1"
        ],
        [
         "2018",
         "1"
        ],
        [
         "composed",
         "1"
        ],
        [
         "visual",
         "1"
        ],
        [
         "V.",
         "1"
        ],
        [
         "August",
         "1"
        ],
        [
         "score",
         "1"
        ],
        [
         "what",
         "1"
        ],
        [
         "to",
         "1"
        ],
        [
         "background",
         "1"
        ],
        [
         "met,",
         "1"
        ],
        [
         "owing",
         "1"
        ],
        [
         "India,",
         "1"
        ],
        [
         "Bheem",
         "1"
        ],
        [
         "Srinivas",
         "1"
        ],
        [
         "photography",
         "1"
        ],
        [
         "editing",
         "1"
        ],
        [
         "pandemic.",
         "1"
        ],
        [
         "began",
         "1"
        ],
        [
         "Kumar",
         "1"
        ],
        [
         "Keeravani,",
         "1"
        ],
        [
         "Sreekar",
         "1"
        ],
        [
         "connected",
         "1"
        ],
        [
         "happened",
         "1"
        ],
        [
         "November",
         "1"
        ],
        [
         "It",
         "1"
        ],
        [
         "extensively",
         "1"
        ],
        [
         "whilst",
         "1"
        ],
        [
         "between",
         "1"
        ],
        [
         "Prasad.",
         "1"
        ],
        [
         "had",
         "1"
        ],
        [
         "have",
         "1"
        ],
        [
         "Ukraine",
         "1"
        ],
        [
         "March",
         "1"
        ],
        [
         "Mohan",
         "1"
        ],
        [
         "Senthil",
         "1"
        ],
        [
         "came",
         "1"
        ],
        [
         "lives",
         "1"
        ],
        [
         "until",
         "1"
        ],
        [
         "sequences",
         "1"
        ],
        [
         "production",
         "1"
        ],
        [
         "2021,",
         "1"
        ],
        [
         "few",
         "1"
        ],
        [
         "soundtrack",
         "1"
        ],
        [
         "them,",
         "1"
        ],
        [
         "were",
         "1"
        ],
        [
         "cinematography",
         "1"
        ],
        [
         "Sabu",
         "1"
        ],
        [
         "Rama",
         "1"
        ],
        [
         "caused",
         "1"
        ],
        [
         "Bulgaria.",
         "1"
        ],
        [
         "2018.",
         "1"
        ],
        [
         "delays",
         "1"
        ],
        [
         "would",
         "1"
        ],
        [
         "friends.",
         "1"
        ],
        [
         "COVID-19",
         "1"
        ],
        [
         "announced",
         "1"
        ],
        [
         "Hyderabad",
         "1"
        ],
        [
         "is",
         "1"
        ],
        [
         "stories",
         "1"
        ]
       ],
       "datasetInfos": [],
       "dbfsResultPath": null,
       "isJsonSchema": true,
       "metadata": {},
       "overflow": false,
       "plotOptions": {
        "customPlotOptions": {},
        "displayType": "table",
        "pivotAggregation": null,
        "pivotColumns": null,
        "xColumns": null,
        "yColumns": null
       },
       "removedWidgets": [],
       "schema": [
        {
         "metadata": "{}",
         "name": "word",
         "type": "\"string\""
        },
        {
         "metadata": "{}",
         "name": "count",
         "type": "\"string\""
        }
       ],
       "type": "table"
      }
     },
     "output_type": "display_data"
    }
   ],
   "source": [
    "#Step 2 - Apply the UDF to get Word Count:\n",
    "#import required Functions\n",
    "from pyspark.sql.functions import explode\n",
    "\n",
    "#Apply UDF and get count of words in file\n",
    "df_count_word=(\n",
    "  df.withColumn('wordCount',explode(count_words(split(col('value'), ' '))))\n",
    " .withColumn('word',col(\"wordCount\")[0])\n",
    " .withColumn('count',col(\"wordCount\")[1])\n",
    " .drop(\"value\",\"wordCount\")\n",
    " .sort('count', ascending=False)\n",
    ")\n",
    "\n",
    "#display output\n",
    "df_count_word.display()"
   ]
  }
 ],
 "metadata": {
  "application/vnd.databricks.v1+notebook": {
   "dashboards": [],
   "language": "python",
   "notebookMetadata": {
    "pythonIndentUnit": 4
   },
   "notebookName": "6 : pyspark word count program example by dataframe",
   "widgets": {}
  }
 },
 "nbformat": 4,
 "nbformat_minor": 0
}
