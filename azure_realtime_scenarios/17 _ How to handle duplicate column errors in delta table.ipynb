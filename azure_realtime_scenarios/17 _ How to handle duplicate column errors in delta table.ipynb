{
 "cells": [
  {
   "cell_type": "code",
   "execution_count": 0,
   "metadata": {
    "application/vnd.databricks.v1+cell": {
     "cellMetadata": {
      "byteLimit": 2048000,
      "rowLimit": 10000
     },
     "inputWidgets": {},
     "nuid": "4e7cd681-1da4-4cec-83b7-e861ac24b27a",
     "showTitle": false,
     "title": ""
    }
   },
   "outputs": [
    {
     "output_type": "display_data",
     "data": {
      "text/html": [
       "<style scoped>\n",
       "  .table-result-container {\n",
       "    max-height: 300px;\n",
       "    overflow: auto;\n",
       "  }\n",
       "  table, th, td {\n",
       "    border: 1px solid black;\n",
       "    border-collapse: collapse;\n",
       "  }\n",
       "  th, td {\n",
       "    padding: 5px;\n",
       "  }\n",
       "  th {\n",
       "    text-align: left;\n",
       "  }\n",
       "</style><div class='table-result-container'><table class='table-result'><thead style='background-color: white'><tr><th>path</th><th>name</th><th>size</th><th>modificationTime</th></tr></thead><tbody><tr><td>dbfs:/FileStore/tables/Browser_Extensions.pdf</td><td>Browser_Extensions.pdf</td><td>1979249</td><td>1654101077000</td></tr><tr><td>dbfs:/FileStore/tables/Employee.csv</td><td>Employee.csv</td><td>359</td><td>1689653118000</td></tr><tr><td>dbfs:/FileStore/tables/Orders_CSV-1.csv</td><td>Orders_CSV-1.csv</td><td>332292</td><td>1689652872000</td></tr><tr><td>dbfs:/FileStore/tables/Orders_CSV.csv</td><td>Orders_CSV.csv</td><td>332292</td><td>1689652604000</td></tr><tr><td>dbfs:/FileStore/tables/Orders_With_Nulls-1.xlsx</td><td>Orders_With_Nulls-1.xlsx</td><td>304054</td><td>1689599426000</td></tr><tr><td>dbfs:/FileStore/tables/Orders_With_Nulls.xlsx</td><td>Orders_With_Nulls.xlsx</td><td>304054</td><td>1689599348000</td></tr><tr><td>dbfs:/FileStore/tables/Test/</td><td>Test/</td><td>0</td><td>0</td></tr><tr><td>dbfs:/FileStore/tables/Test_Table-1.txt</td><td>Test_Table-1.txt</td><td>25</td><td>1689580949000</td></tr><tr><td>dbfs:/FileStore/tables/Test_Table-2.txt</td><td>Test_Table-2.txt</td><td>25</td><td>1689581188000</td></tr><tr><td>dbfs:/FileStore/tables/Test_Table-3.txt</td><td>Test_Table-3.txt</td><td>25</td><td>1689581357000</td></tr><tr><td>dbfs:/FileStore/tables/Test_Table.txt</td><td>Test_Table.txt</td><td>25</td><td>1689580911000</td></tr><tr><td>dbfs:/FileStore/tables/dept.csv</td><td>dept.csv</td><td>709</td><td>1701776526000</td></tr><tr><td>dbfs:/FileStore/tables/emp-1.csv</td><td>emp-1.csv</td><td>1950</td><td>1701696905000</td></tr><tr><td>dbfs:/FileStore/tables/emp.csv</td><td>emp.csv</td><td>1950</td><td>1701267946000</td></tr><tr><td>dbfs:/FileStore/tables/rrr.txt</td><td>rrr.txt</td><td>1314</td><td>1701430975000</td></tr><tr><td>dbfs:/FileStore/tables/rrr_dynamic.txt</td><td>rrr_dynamic.txt</td><td>1344</td><td>1701431247000</td></tr><tr><td>dbfs:/FileStore/tables/sample.txt</td><td>sample.txt</td><td>45</td><td>1701358002000</td></tr></tbody></table></div>"
      ]
     },
     "metadata": {
      "application/vnd.databricks.v1+output": {
       "addedWidgets": {},
       "aggData": [],
       "aggError": "",
       "aggOverflow": false,
       "aggSchema": [],
       "aggSeriesLimitReached": false,
       "aggType": "",
       "arguments": {},
       "columnCustomDisplayInfos": {},
       "data": [
        [
         "dbfs:/FileStore/tables/Browser_Extensions.pdf",
         "Browser_Extensions.pdf",
         1979249,
         1654101077000
        ],
        [
         "dbfs:/FileStore/tables/Employee.csv",
         "Employee.csv",
         359,
         1689653118000
        ],
        [
         "dbfs:/FileStore/tables/Orders_CSV-1.csv",
         "Orders_CSV-1.csv",
         332292,
         1689652872000
        ],
        [
         "dbfs:/FileStore/tables/Orders_CSV.csv",
         "Orders_CSV.csv",
         332292,
         1689652604000
        ],
        [
         "dbfs:/FileStore/tables/Orders_With_Nulls-1.xlsx",
         "Orders_With_Nulls-1.xlsx",
         304054,
         1689599426000
        ],
        [
         "dbfs:/FileStore/tables/Orders_With_Nulls.xlsx",
         "Orders_With_Nulls.xlsx",
         304054,
         1689599348000
        ],
        [
         "dbfs:/FileStore/tables/Test/",
         "Test/",
         0,
         0
        ],
        [
         "dbfs:/FileStore/tables/Test_Table-1.txt",
         "Test_Table-1.txt",
         25,
         1689580949000
        ],
        [
         "dbfs:/FileStore/tables/Test_Table-2.txt",
         "Test_Table-2.txt",
         25,
         1689581188000
        ],
        [
         "dbfs:/FileStore/tables/Test_Table-3.txt",
         "Test_Table-3.txt",
         25,
         1689581357000
        ],
        [
         "dbfs:/FileStore/tables/Test_Table.txt",
         "Test_Table.txt",
         25,
         1689580911000
        ],
        [
         "dbfs:/FileStore/tables/dept.csv",
         "dept.csv",
         709,
         1701776526000
        ],
        [
         "dbfs:/FileStore/tables/emp-1.csv",
         "emp-1.csv",
         1950,
         1701696905000
        ],
        [
         "dbfs:/FileStore/tables/emp.csv",
         "emp.csv",
         1950,
         1701267946000
        ],
        [
         "dbfs:/FileStore/tables/rrr.txt",
         "rrr.txt",
         1314,
         1701430975000
        ],
        [
         "dbfs:/FileStore/tables/rrr_dynamic.txt",
         "rrr_dynamic.txt",
         1344,
         1701431247000
        ],
        [
         "dbfs:/FileStore/tables/sample.txt",
         "sample.txt",
         45,
         1701358002000
        ]
       ],
       "datasetInfos": [],
       "dbfsResultPath": null,
       "isJsonSchema": true,
       "metadata": {
        "isDbfsCommandResult": false
       },
       "overflow": false,
       "plotOptions": {
        "customPlotOptions": {},
        "displayType": "table",
        "pivotAggregation": null,
        "pivotColumns": null,
        "xColumns": null,
        "yColumns": null
       },
       "removedWidgets": [],
       "schema": [
        {
         "metadata": "{}",
         "name": "path",
         "type": "\"string\""
        },
        {
         "metadata": "{}",
         "name": "name",
         "type": "\"string\""
        },
        {
         "metadata": "{}",
         "name": "size",
         "type": "\"long\""
        },
        {
         "metadata": "{}",
         "name": "modificationTime",
         "type": "\"long\""
        }
       ],
       "type": "table"
      }
     },
     "output_type": "display_data"
    }
   ],
   "source": [
    "%fs ls \"/FileStore/tables\""
   ]
  },
  {
   "cell_type": "code",
   "execution_count": 0,
   "metadata": {
    "application/vnd.databricks.v1+cell": {
     "cellMetadata": {
      "byteLimit": 2048000,
      "rowLimit": 10000
     },
     "inputWidgets": {},
     "nuid": "0174ece7-a6c2-41e3-8031-8d3bf035e632",
     "showTitle": false,
     "title": ""
    }
   },
   "outputs": [
    {
     "output_type": "display_data",
     "data": {
      "text/html": [
       "<style scoped>\n",
       "  .ansiout {\n",
       "    display: block;\n",
       "    unicode-bidi: embed;\n",
       "    white-space: pre-wrap;\n",
       "    word-wrap: break-word;\n",
       "    word-break: break-all;\n",
       "    font-family: \"Menlo\", \"Monaco\", \"Consolas\", \"Ubuntu Mono\", \"Source Code Pro\", monospace;\n",
       "    font-size: 13px;\n",
       "    color: #555;\n",
       "    margin-left: 4px;\n",
       "    line-height: 19px;\n",
       "  }\n",
       "</style>\n",
       "<div class=\"ansiout\">EMPNO,ENAME,JOB,MGR,HIREDATE,SAL,COMM,DEPTNO,UPDATED_DATE\r\n",
       "7369,SMITH,CLERK,7902,17-12-1980,800,null,20,2022-01-01\r\n",
       "7499,ALLEN,SALESMAN,7698,20-02-1981,1600,300,30,2022-01-01\r\n",
       "7521,WARD,SALESMAN,7698,22-02-1981,1250,500,30,2022-01-01\r\n",
       "7566,JONES,MANAGER,7839,04-02-1981,2975,null,20,2022-01-05\r\n",
       "7654,MARTIN,SALESMAN,7698,21-09-1981,1250,1400,30,2022-01-03\r\n",
       "7698,SGR,MANAGER,7839,05-01-1981,2850,null,30,2022-01-04\r\n",
       "7782,RAVI,MANAGER,7839,06-09-1981,2450,null,10,2022-01-02\r\n",
       "7788,SCOTT,ANALYST,7566,19-04-1987,3000,null,20,2022-01-02\r\n",
       "7839,KING,PRESIDENT,null,01-11-1981,5000,null,10,2022-01-02\r\n",
       "7844,TURNER,SALESMAN,7698,09-08-1981,1500,0,30,2022-01-02\r\n",
       "7876,ADAMS,CLERK,7788,23-05-1987,1100,null,20,2022-01-03\r\n",
       "7900,JAMES,CLERK,7698,12-03-1981,950,null,30,2022-01-03\r\n",
       "7902,FORD,ANALYST,7566,12-03-1981,3000,null,20,2022-01-03\r\n",
       "7934,MILLER,CLERK,7782,01-03-1982,1300,null,10,2022-01-03\r\n",
       "1234,SEKHAR,doctor,7777,null,667,78,80,2022-01-03\r\n",
       "7369,SMITH,CLERK,7902,17-12-1980,800,null,20,2022-01-04\r\n",
       "7499,ALLEN,SALESMAN,7698,20-02-1981,1600,300,30,2022-01-04\r\n",
       "7521,WARD,SALESMAN,7698,22-02-1981,1250,500,30,2022-01-04\r\n",
       "7566,JONES,MANAGER,7839,04-02-1981,2975,null,20,2022-01-04\r\n",
       "7654,MARTIN,SALESMAN,7698,21-09-1981,1250,1400,30,2022-01-05\r\n",
       "7698,SGR,MANAGER,7839,05-01-1981,2850,null,30,2022-01-05\r\n",
       "7782,RAVI,MANAGER,7839,06-09-1981,2450,null,10,2022-01-05\r\n",
       "7788,SCOTT,ANALYST,7566,19-04-1987,3000,null,20,2022-01-06\r\n",
       "7839,KING,PRESIDENT,null,01-11-1981,5000,null,10,2022-01-06\r\n",
       "7844,TURNER,SALESMAN,7698,09-08-1981,1500,0,30,2022-01-06\r\n",
       "7876,ADAMS,CLERK,7788,23-05-1987,1100,null,20,2022-01-06\r\n",
       "7900,JAMES,CLERK,7698,12-03-1981,950,null,30,2022-01-07\r\n",
       "7902,FORD,ANALYST,7566,12-03-1981,3000,null,20,2022-01-07\r\n",
       "7934,MILLER,CLERK,7782,01-03-1982,1300,null,10,2022-01-07\r\n",
       "1234,RAM,CLERK,7457,null,494,588,80,2022-01-07\r\n",
       "null,null,null,null,null,null,null,null,null\r\n",
       "null,null,null,null,null,null,null,null,null\r\n",
       "null,null,null,null,null,null,null,null,null\n",
       "</div>"
      ]
     },
     "metadata": {
      "application/vnd.databricks.v1+output": {
       "addedWidgets": {},
       "arguments": {},
       "data": "<div class=\"ansiout\">EMPNO,ENAME,JOB,MGR,HIREDATE,SAL,COMM,DEPTNO,UPDATED_DATE\r\n7369,SMITH,CLERK,7902,17-12-1980,800,null,20,2022-01-01\r\n7499,ALLEN,SALESMAN,7698,20-02-1981,1600,300,30,2022-01-01\r\n7521,WARD,SALESMAN,7698,22-02-1981,1250,500,30,2022-01-01\r\n7566,JONES,MANAGER,7839,04-02-1981,2975,null,20,2022-01-05\r\n7654,MARTIN,SALESMAN,7698,21-09-1981,1250,1400,30,2022-01-03\r\n7698,SGR,MANAGER,7839,05-01-1981,2850,null,30,2022-01-04\r\n7782,RAVI,MANAGER,7839,06-09-1981,2450,null,10,2022-01-02\r\n7788,SCOTT,ANALYST,7566,19-04-1987,3000,null,20,2022-01-02\r\n7839,KING,PRESIDENT,null,01-11-1981,5000,null,10,2022-01-02\r\n7844,TURNER,SALESMAN,7698,09-08-1981,1500,0,30,2022-01-02\r\n7876,ADAMS,CLERK,7788,23-05-1987,1100,null,20,2022-01-03\r\n7900,JAMES,CLERK,7698,12-03-1981,950,null,30,2022-01-03\r\n7902,FORD,ANALYST,7566,12-03-1981,3000,null,20,2022-01-03\r\n7934,MILLER,CLERK,7782,01-03-1982,1300,null,10,2022-01-03\r\n1234,SEKHAR,doctor,7777,null,667,78,80,2022-01-03\r\n7369,SMITH,CLERK,7902,17-12-1980,800,null,20,2022-01-04\r\n7499,ALLEN,SALESMAN,7698,20-02-1981,1600,300,30,2022-01-04\r\n7521,WARD,SALESMAN,7698,22-02-1981,1250,500,30,2022-01-04\r\n7566,JONES,MANAGER,7839,04-02-1981,2975,null,20,2022-01-04\r\n7654,MARTIN,SALESMAN,7698,21-09-1981,1250,1400,30,2022-01-05\r\n7698,SGR,MANAGER,7839,05-01-1981,2850,null,30,2022-01-05\r\n7782,RAVI,MANAGER,7839,06-09-1981,2450,null,10,2022-01-05\r\n7788,SCOTT,ANALYST,7566,19-04-1987,3000,null,20,2022-01-06\r\n7839,KING,PRESIDENT,null,01-11-1981,5000,null,10,2022-01-06\r\n7844,TURNER,SALESMAN,7698,09-08-1981,1500,0,30,2022-01-06\r\n7876,ADAMS,CLERK,7788,23-05-1987,1100,null,20,2022-01-06\r\n7900,JAMES,CLERK,7698,12-03-1981,950,null,30,2022-01-07\r\n7902,FORD,ANALYST,7566,12-03-1981,3000,null,20,2022-01-07\r\n7934,MILLER,CLERK,7782,01-03-1982,1300,null,10,2022-01-07\r\n1234,RAM,CLERK,7457,null,494,588,80,2022-01-07\r\nnull,null,null,null,null,null,null,null,null\r\nnull,null,null,null,null,null,null,null,null\r\nnull,null,null,null,null,null,null,null,null\n</div>",
       "datasetInfos": [],
       "metadata": {
        "isDbfsCommandResult": false
       },
       "removedWidgets": [],
       "type": "html"
      }
     },
     "output_type": "display_data"
    }
   ],
   "source": [
    "%fs head \"/FileStore/tables/emp.csv\""
   ]
  },
  {
   "cell_type": "code",
   "execution_count": 0,
   "metadata": {
    "application/vnd.databricks.v1+cell": {
     "cellMetadata": {
      "byteLimit": 2048000,
      "rowLimit": 10000
     },
     "inputWidgets": {},
     "nuid": "30ef55a7-edf7-41da-a904-0eb16e46e3eb",
     "showTitle": false,
     "title": ""
    }
   },
   "outputs": [
    {
     "output_type": "display_data",
     "data": {
      "text/html": [
       "<style scoped>\n",
       "  .ansiout {\n",
       "    display: block;\n",
       "    unicode-bidi: embed;\n",
       "    white-space: pre-wrap;\n",
       "    word-wrap: break-word;\n",
       "    word-break: break-all;\n",
       "    font-family: \"Menlo\", \"Monaco\", \"Consolas\", \"Ubuntu Mono\", \"Source Code Pro\", monospace;\n",
       "    font-size: 13px;\n",
       "    color: #555;\n",
       "    margin-left: 4px;\n",
       "    line-height: 19px;\n",
       "  }\n",
       "</style>\n",
       "<div class=\"ansiout\">DEPTNO,DEPARTMENT_NAME,MANAGER_ID,LOCATION_ID\r\n",
       "10,Administration,200,1700\r\n",
       "20,Marketing,201,1800\r\n",
       "30,Purchasing,114,1700\r\n",
       "40,Human Resources,203,2400\r\n",
       "50,Shipping,121,1500\r\n",
       "60,IT,103,1400\r\n",
       "70,Public Relations,204,2700\r\n",
       "80,Sales,145,2500\r\n",
       "90,Executive,100,1700\r\n",
       "100,Finance,108,1700\r\n",
       "110,Accounting,205,1700\r\n",
       "120,Treasury, - ,1700\r\n",
       "130,Corporate Tax, - ,1700\r\n",
       "140,Control And Credit, - ,1700\r\n",
       "150,Shareholder Services, - ,1700\r\n",
       "160,Benefits, - ,1700\r\n",
       "170,Manufacturing, - ,1700\r\n",
       "180,Construction, - ,1700\r\n",
       "190,Contracting, - ,1700\r\n",
       "200,Operations, - ,1700\r\n",
       "210,IT Support, - ,1700\r\n",
       "220,NOC, - ,1700\r\n",
       "230,IT Helpdesk, - ,1700\r\n",
       "240,Government Sales, - ,1700\r\n",
       "250,Retail Sales, - ,1700\r\n",
       "260,Recruiting, - ,1700\r\n",
       "270,Payroll, - ,1700\r\n",
       "\n",
       "</div>"
      ]
     },
     "metadata": {
      "application/vnd.databricks.v1+output": {
       "addedWidgets": {},
       "arguments": {},
       "data": "<div class=\"ansiout\">DEPTNO,DEPARTMENT_NAME,MANAGER_ID,LOCATION_ID\r\n10,Administration,200,1700\r\n20,Marketing,201,1800\r\n30,Purchasing,114,1700\r\n40,Human Resources,203,2400\r\n50,Shipping,121,1500\r\n60,IT,103,1400\r\n70,Public Relations,204,2700\r\n80,Sales,145,2500\r\n90,Executive,100,1700\r\n100,Finance,108,1700\r\n110,Accounting,205,1700\r\n120,Treasury, - ,1700\r\n130,Corporate Tax, - ,1700\r\n140,Control And Credit, - ,1700\r\n150,Shareholder Services, - ,1700\r\n160,Benefits, - ,1700\r\n170,Manufacturing, - ,1700\r\n180,Construction, - ,1700\r\n190,Contracting, - ,1700\r\n200,Operations, - ,1700\r\n210,IT Support, - ,1700\r\n220,NOC, - ,1700\r\n230,IT Helpdesk, - ,1700\r\n240,Government Sales, - ,1700\r\n250,Retail Sales, - ,1700\r\n260,Recruiting, - ,1700\r\n270,Payroll, - ,1700\r\n\n</div>",
       "datasetInfos": [],
       "metadata": {
        "isDbfsCommandResult": false
       },
       "removedWidgets": [],
       "type": "html"
      }
     },
     "output_type": "display_data"
    }
   ],
   "source": [
    "%fs head \"/FileStore/tables/dept.csv\""
   ]
  },
  {
   "cell_type": "code",
   "execution_count": 0,
   "metadata": {
    "application/vnd.databricks.v1+cell": {
     "cellMetadata": {
      "byteLimit": 2048000,
      "rowLimit": 10000
     },
     "inputWidgets": {},
     "nuid": "2bbb9c8e-1439-41db-951e-362361ffb8ee",
     "showTitle": false,
     "title": ""
    }
   },
   "outputs": [],
   "source": [
    "from pyspark.sql.functions import col\n",
    "df_emp=spark.read.csv('/FileStore/tables/emp.csv',header=True)\n",
    "dff_emp=df_emp.withColumn('EMP_DEPTNO',col('DEPTNO').cast(IntegerType()))"
   ]
  },
  {
   "cell_type": "code",
   "execution_count": 0,
   "metadata": {
    "application/vnd.databricks.v1+cell": {
     "cellMetadata": {
      "byteLimit": 2048000,
      "rowLimit": 10000
     },
     "inputWidgets": {},
     "nuid": "a070fbe5-01b7-4eca-a316-52d3065d5491",
     "showTitle": false,
     "title": ""
    }
   },
   "outputs": [
    {
     "output_type": "display_data",
     "data": {
      "text/html": [
       "<style scoped>\n",
       "  .table-result-container {\n",
       "    max-height: 300px;\n",
       "    overflow: auto;\n",
       "  }\n",
       "  table, th, td {\n",
       "    border: 1px solid black;\n",
       "    border-collapse: collapse;\n",
       "  }\n",
       "  th, td {\n",
       "    padding: 5px;\n",
       "  }\n",
       "  th {\n",
       "    text-align: left;\n",
       "  }\n",
       "</style><div class='table-result-container'><table class='table-result'><thead style='background-color: white'><tr><th>EMPNO</th><th>ENAME</th><th>JOB</th><th>MGR</th><th>HIREDATE</th><th>SAL</th><th>COMM</th><th>DEPTNO</th><th>UPDATED_DATE</th><th>EMP_DEPNTNO</th></tr></thead><tbody><tr><td>7369</td><td>SMITH</td><td>CLERK</td><td>7902</td><td>17-12-1980</td><td>800</td><td>null</td><td>20</td><td>2022-01-01</td><td>20</td></tr><tr><td>7499</td><td>ALLEN</td><td>SALESMAN</td><td>7698</td><td>20-02-1981</td><td>1600</td><td>300</td><td>30</td><td>2022-01-01</td><td>30</td></tr><tr><td>7521</td><td>WARD</td><td>SALESMAN</td><td>7698</td><td>22-02-1981</td><td>1250</td><td>500</td><td>30</td><td>2022-01-01</td><td>30</td></tr><tr><td>7566</td><td>JONES</td><td>MANAGER</td><td>7839</td><td>04-02-1981</td><td>2975</td><td>null</td><td>20</td><td>2022-01-05</td><td>20</td></tr><tr><td>7654</td><td>MARTIN</td><td>SALESMAN</td><td>7698</td><td>21-09-1981</td><td>1250</td><td>1400</td><td>30</td><td>2022-01-03</td><td>30</td></tr><tr><td>7698</td><td>SGR</td><td>MANAGER</td><td>7839</td><td>05-01-1981</td><td>2850</td><td>null</td><td>30</td><td>2022-01-04</td><td>30</td></tr><tr><td>7782</td><td>RAVI</td><td>MANAGER</td><td>7839</td><td>06-09-1981</td><td>2450</td><td>null</td><td>10</td><td>2022-01-02</td><td>10</td></tr><tr><td>7788</td><td>SCOTT</td><td>ANALYST</td><td>7566</td><td>19-04-1987</td><td>3000</td><td>null</td><td>20</td><td>2022-01-02</td><td>20</td></tr><tr><td>7839</td><td>KING</td><td>PRESIDENT</td><td>null</td><td>01-11-1981</td><td>5000</td><td>null</td><td>10</td><td>2022-01-02</td><td>10</td></tr><tr><td>7844</td><td>TURNER</td><td>SALESMAN</td><td>7698</td><td>09-08-1981</td><td>1500</td><td>0</td><td>30</td><td>2022-01-02</td><td>30</td></tr><tr><td>7876</td><td>ADAMS</td><td>CLERK</td><td>7788</td><td>23-05-1987</td><td>1100</td><td>null</td><td>20</td><td>2022-01-03</td><td>20</td></tr><tr><td>7900</td><td>JAMES</td><td>CLERK</td><td>7698</td><td>12-03-1981</td><td>950</td><td>null</td><td>30</td><td>2022-01-03</td><td>30</td></tr><tr><td>7902</td><td>FORD</td><td>ANALYST</td><td>7566</td><td>12-03-1981</td><td>3000</td><td>null</td><td>20</td><td>2022-01-03</td><td>20</td></tr><tr><td>7934</td><td>MILLER</td><td>CLERK</td><td>7782</td><td>01-03-1982</td><td>1300</td><td>null</td><td>10</td><td>2022-01-03</td><td>10</td></tr><tr><td>1234</td><td>SEKHAR</td><td>doctor</td><td>7777</td><td>null</td><td>667</td><td>78</td><td>80</td><td>2022-01-03</td><td>80</td></tr><tr><td>7369</td><td>SMITH</td><td>CLERK</td><td>7902</td><td>17-12-1980</td><td>800</td><td>null</td><td>20</td><td>2022-01-04</td><td>20</td></tr><tr><td>7499</td><td>ALLEN</td><td>SALESMAN</td><td>7698</td><td>20-02-1981</td><td>1600</td><td>300</td><td>30</td><td>2022-01-04</td><td>30</td></tr><tr><td>7521</td><td>WARD</td><td>SALESMAN</td><td>7698</td><td>22-02-1981</td><td>1250</td><td>500</td><td>30</td><td>2022-01-04</td><td>30</td></tr><tr><td>7566</td><td>JONES</td><td>MANAGER</td><td>7839</td><td>04-02-1981</td><td>2975</td><td>null</td><td>20</td><td>2022-01-04</td><td>20</td></tr><tr><td>7654</td><td>MARTIN</td><td>SALESMAN</td><td>7698</td><td>21-09-1981</td><td>1250</td><td>1400</td><td>30</td><td>2022-01-05</td><td>30</td></tr><tr><td>7698</td><td>SGR</td><td>MANAGER</td><td>7839</td><td>05-01-1981</td><td>2850</td><td>null</td><td>30</td><td>2022-01-05</td><td>30</td></tr><tr><td>7782</td><td>RAVI</td><td>MANAGER</td><td>7839</td><td>06-09-1981</td><td>2450</td><td>null</td><td>10</td><td>2022-01-05</td><td>10</td></tr><tr><td>7788</td><td>SCOTT</td><td>ANALYST</td><td>7566</td><td>19-04-1987</td><td>3000</td><td>null</td><td>20</td><td>2022-01-06</td><td>20</td></tr><tr><td>7839</td><td>KING</td><td>PRESIDENT</td><td>null</td><td>01-11-1981</td><td>5000</td><td>null</td><td>10</td><td>2022-01-06</td><td>10</td></tr><tr><td>7844</td><td>TURNER</td><td>SALESMAN</td><td>7698</td><td>09-08-1981</td><td>1500</td><td>0</td><td>30</td><td>2022-01-06</td><td>30</td></tr><tr><td>7876</td><td>ADAMS</td><td>CLERK</td><td>7788</td><td>23-05-1987</td><td>1100</td><td>null</td><td>20</td><td>2022-01-06</td><td>20</td></tr><tr><td>7900</td><td>JAMES</td><td>CLERK</td><td>7698</td><td>12-03-1981</td><td>950</td><td>null</td><td>30</td><td>2022-01-07</td><td>30</td></tr><tr><td>7902</td><td>FORD</td><td>ANALYST</td><td>7566</td><td>12-03-1981</td><td>3000</td><td>null</td><td>20</td><td>2022-01-07</td><td>20</td></tr><tr><td>7934</td><td>MILLER</td><td>CLERK</td><td>7782</td><td>01-03-1982</td><td>1300</td><td>null</td><td>10</td><td>2022-01-07</td><td>10</td></tr><tr><td>1234</td><td>RAM</td><td>CLERK</td><td>7457</td><td>null</td><td>494</td><td>588</td><td>80</td><td>2022-01-07</td><td>80</td></tr><tr><td>null</td><td>null</td><td>null</td><td>null</td><td>null</td><td>null</td><td>null</td><td>null</td><td>null</td><td>null</td></tr><tr><td>null</td><td>null</td><td>null</td><td>null</td><td>null</td><td>null</td><td>null</td><td>null</td><td>null</td><td>null</td></tr><tr><td>null</td><td>null</td><td>null</td><td>null</td><td>null</td><td>null</td><td>null</td><td>null</td><td>null</td><td>null</td></tr></tbody></table></div>"
      ]
     },
     "metadata": {
      "application/vnd.databricks.v1+output": {
       "addedWidgets": {},
       "aggData": [],
       "aggError": "",
       "aggOverflow": false,
       "aggSchema": [],
       "aggSeriesLimitReached": false,
       "aggType": "",
       "arguments": {},
       "columnCustomDisplayInfos": {},
       "data": [
        [
         "7369",
         "SMITH",
         "CLERK",
         "7902",
         "17-12-1980",
         "800",
         "null",
         "20",
         "2022-01-01",
         20
        ],
        [
         "7499",
         "ALLEN",
         "SALESMAN",
         "7698",
         "20-02-1981",
         "1600",
         "300",
         "30",
         "2022-01-01",
         30
        ],
        [
         "7521",
         "WARD",
         "SALESMAN",
         "7698",
         "22-02-1981",
         "1250",
         "500",
         "30",
         "2022-01-01",
         30
        ],
        [
         "7566",
         "JONES",
         "MANAGER",
         "7839",
         "04-02-1981",
         "2975",
         "null",
         "20",
         "2022-01-05",
         20
        ],
        [
         "7654",
         "MARTIN",
         "SALESMAN",
         "7698",
         "21-09-1981",
         "1250",
         "1400",
         "30",
         "2022-01-03",
         30
        ],
        [
         "7698",
         "SGR",
         "MANAGER",
         "7839",
         "05-01-1981",
         "2850",
         "null",
         "30",
         "2022-01-04",
         30
        ],
        [
         "7782",
         "RAVI",
         "MANAGER",
         "7839",
         "06-09-1981",
         "2450",
         "null",
         "10",
         "2022-01-02",
         10
        ],
        [
         "7788",
         "SCOTT",
         "ANALYST",
         "7566",
         "19-04-1987",
         "3000",
         "null",
         "20",
         "2022-01-02",
         20
        ],
        [
         "7839",
         "KING",
         "PRESIDENT",
         "null",
         "01-11-1981",
         "5000",
         "null",
         "10",
         "2022-01-02",
         10
        ],
        [
         "7844",
         "TURNER",
         "SALESMAN",
         "7698",
         "09-08-1981",
         "1500",
         "0",
         "30",
         "2022-01-02",
         30
        ],
        [
         "7876",
         "ADAMS",
         "CLERK",
         "7788",
         "23-05-1987",
         "1100",
         "null",
         "20",
         "2022-01-03",
         20
        ],
        [
         "7900",
         "JAMES",
         "CLERK",
         "7698",
         "12-03-1981",
         "950",
         "null",
         "30",
         "2022-01-03",
         30
        ],
        [
         "7902",
         "FORD",
         "ANALYST",
         "7566",
         "12-03-1981",
         "3000",
         "null",
         "20",
         "2022-01-03",
         20
        ],
        [
         "7934",
         "MILLER",
         "CLERK",
         "7782",
         "01-03-1982",
         "1300",
         "null",
         "10",
         "2022-01-03",
         10
        ],
        [
         "1234",
         "SEKHAR",
         "doctor",
         "7777",
         "null",
         "667",
         "78",
         "80",
         "2022-01-03",
         80
        ],
        [
         "7369",
         "SMITH",
         "CLERK",
         "7902",
         "17-12-1980",
         "800",
         "null",
         "20",
         "2022-01-04",
         20
        ],
        [
         "7499",
         "ALLEN",
         "SALESMAN",
         "7698",
         "20-02-1981",
         "1600",
         "300",
         "30",
         "2022-01-04",
         30
        ],
        [
         "7521",
         "WARD",
         "SALESMAN",
         "7698",
         "22-02-1981",
         "1250",
         "500",
         "30",
         "2022-01-04",
         30
        ],
        [
         "7566",
         "JONES",
         "MANAGER",
         "7839",
         "04-02-1981",
         "2975",
         "null",
         "20",
         "2022-01-04",
         20
        ],
        [
         "7654",
         "MARTIN",
         "SALESMAN",
         "7698",
         "21-09-1981",
         "1250",
         "1400",
         "30",
         "2022-01-05",
         30
        ],
        [
         "7698",
         "SGR",
         "MANAGER",
         "7839",
         "05-01-1981",
         "2850",
         "null",
         "30",
         "2022-01-05",
         30
        ],
        [
         "7782",
         "RAVI",
         "MANAGER",
         "7839",
         "06-09-1981",
         "2450",
         "null",
         "10",
         "2022-01-05",
         10
        ],
        [
         "7788",
         "SCOTT",
         "ANALYST",
         "7566",
         "19-04-1987",
         "3000",
         "null",
         "20",
         "2022-01-06",
         20
        ],
        [
         "7839",
         "KING",
         "PRESIDENT",
         "null",
         "01-11-1981",
         "5000",
         "null",
         "10",
         "2022-01-06",
         10
        ],
        [
         "7844",
         "TURNER",
         "SALESMAN",
         "7698",
         "09-08-1981",
         "1500",
         "0",
         "30",
         "2022-01-06",
         30
        ],
        [
         "7876",
         "ADAMS",
         "CLERK",
         "7788",
         "23-05-1987",
         "1100",
         "null",
         "20",
         "2022-01-06",
         20
        ],
        [
         "7900",
         "JAMES",
         "CLERK",
         "7698",
         "12-03-1981",
         "950",
         "null",
         "30",
         "2022-01-07",
         30
        ],
        [
         "7902",
         "FORD",
         "ANALYST",
         "7566",
         "12-03-1981",
         "3000",
         "null",
         "20",
         "2022-01-07",
         20
        ],
        [
         "7934",
         "MILLER",
         "CLERK",
         "7782",
         "01-03-1982",
         "1300",
         "null",
         "10",
         "2022-01-07",
         10
        ],
        [
         "1234",
         "RAM",
         "CLERK",
         "7457",
         "null",
         "494",
         "588",
         "80",
         "2022-01-07",
         80
        ],
        [
         "null",
         "null",
         "null",
         "null",
         "null",
         "null",
         "null",
         "null",
         "null",
         null
        ],
        [
         "null",
         "null",
         "null",
         "null",
         "null",
         "null",
         "null",
         "null",
         "null",
         null
        ],
        [
         "null",
         "null",
         "null",
         "null",
         "null",
         "null",
         "null",
         "null",
         "null",
         null
        ]
       ],
       "datasetInfos": [],
       "dbfsResultPath": null,
       "isJsonSchema": true,
       "metadata": {},
       "overflow": false,
       "plotOptions": {
        "customPlotOptions": {},
        "displayType": "table",
        "pivotAggregation": null,
        "pivotColumns": null,
        "xColumns": null,
        "yColumns": null
       },
       "removedWidgets": [],
       "schema": [
        {
         "metadata": "{}",
         "name": "EMPNO",
         "type": "\"string\""
        },
        {
         "metadata": "{}",
         "name": "ENAME",
         "type": "\"string\""
        },
        {
         "metadata": "{}",
         "name": "JOB",
         "type": "\"string\""
        },
        {
         "metadata": "{}",
         "name": "MGR",
         "type": "\"string\""
        },
        {
         "metadata": "{}",
         "name": "HIREDATE",
         "type": "\"string\""
        },
        {
         "metadata": "{}",
         "name": "SAL",
         "type": "\"string\""
        },
        {
         "metadata": "{}",
         "name": "COMM",
         "type": "\"string\""
        },
        {
         "metadata": "{}",
         "name": "DEPTNO",
         "type": "\"string\""
        },
        {
         "metadata": "{}",
         "name": "UPDATED_DATE",
         "type": "\"string\""
        },
        {
         "metadata": "{}",
         "name": "EMP_DEPNTNO",
         "type": "\"integer\""
        }
       ],
       "type": "table"
      }
     },
     "output_type": "display_data"
    },
    {
     "output_type": "stream",
     "name": "stdout",
     "output_type": "stream",
     "text": [
      "root\n |-- EMPNO: string (nullable = true)\n |-- ENAME: string (nullable = true)\n |-- JOB: string (nullable = true)\n |-- MGR: string (nullable = true)\n |-- HIREDATE: string (nullable = true)\n |-- SAL: string (nullable = true)\n |-- COMM: string (nullable = true)\n |-- DEPTNO: string (nullable = true)\n |-- UPDATED_DATE: string (nullable = true)\n |-- EMP_DEPNTNO: integer (nullable = true)\n\n"
     ]
    }
   ],
   "source": [
    "dff_emp.display()\n",
    "dff_emp.printSchema()"
   ]
  },
  {
   "cell_type": "code",
   "execution_count": 0,
   "metadata": {
    "application/vnd.databricks.v1+cell": {
     "cellMetadata": {
      "byteLimit": 2048000,
      "rowLimit": 10000
     },
     "inputWidgets": {},
     "nuid": "060131e2-b37f-4484-9f5c-6a55d7e1cd6b",
     "showTitle": false,
     "title": ""
    }
   },
   "outputs": [
    {
     "output_type": "display_data",
     "data": {
      "text/html": [
       "<style scoped>\n",
       "  .table-result-container {\n",
       "    max-height: 300px;\n",
       "    overflow: auto;\n",
       "  }\n",
       "  table, th, td {\n",
       "    border: 1px solid black;\n",
       "    border-collapse: collapse;\n",
       "  }\n",
       "  th, td {\n",
       "    padding: 5px;\n",
       "  }\n",
       "  th {\n",
       "    text-align: left;\n",
       "  }\n",
       "</style><div class='table-result-container'><table class='table-result'><thead style='background-color: white'><tr><th>DEPTNO</th><th>DEPARTMENT_NAME</th><th>MANAGER_ID</th><th>LOCATION_ID</th></tr></thead><tbody><tr><td>10</td><td>Administration</td><td>200</td><td>1700</td></tr><tr><td>20</td><td>Marketing</td><td>201</td><td>1800</td></tr><tr><td>30</td><td>Purchasing</td><td>114</td><td>1700</td></tr><tr><td>40</td><td>Human Resources</td><td>203</td><td>2400</td></tr><tr><td>50</td><td>Shipping</td><td>121</td><td>1500</td></tr><tr><td>60</td><td>IT</td><td>103</td><td>1400</td></tr><tr><td>70</td><td>Public Relations</td><td>204</td><td>2700</td></tr><tr><td>80</td><td>Sales</td><td>145</td><td>2500</td></tr><tr><td>90</td><td>Executive</td><td>100</td><td>1700</td></tr><tr><td>100</td><td>Finance</td><td>108</td><td>1700</td></tr><tr><td>110</td><td>Accounting</td><td>205</td><td>1700</td></tr><tr><td>120</td><td>Treasury</td><td> - </td><td>1700</td></tr><tr><td>130</td><td>Corporate Tax</td><td> - </td><td>1700</td></tr><tr><td>140</td><td>Control And Credit</td><td> - </td><td>1700</td></tr><tr><td>150</td><td>Shareholder Services</td><td> - </td><td>1700</td></tr><tr><td>160</td><td>Benefits</td><td> - </td><td>1700</td></tr><tr><td>170</td><td>Manufacturing</td><td> - </td><td>1700</td></tr><tr><td>180</td><td>Construction</td><td> - </td><td>1700</td></tr><tr><td>190</td><td>Contracting</td><td> - </td><td>1700</td></tr><tr><td>200</td><td>Operations</td><td> - </td><td>1700</td></tr><tr><td>210</td><td>IT Support</td><td> - </td><td>1700</td></tr><tr><td>220</td><td>NOC</td><td> - </td><td>1700</td></tr><tr><td>230</td><td>IT Helpdesk</td><td> - </td><td>1700</td></tr><tr><td>240</td><td>Government Sales</td><td> - </td><td>1700</td></tr><tr><td>250</td><td>Retail Sales</td><td> - </td><td>1700</td></tr><tr><td>260</td><td>Recruiting</td><td> - </td><td>1700</td></tr><tr><td>270</td><td>Payroll</td><td> - </td><td>1700</td></tr></tbody></table></div>"
      ]
     },
     "metadata": {
      "application/vnd.databricks.v1+output": {
       "addedWidgets": {},
       "aggData": [],
       "aggError": "",
       "aggOverflow": false,
       "aggSchema": [],
       "aggSeriesLimitReached": false,
       "aggType": "",
       "arguments": {},
       "columnCustomDisplayInfos": {},
       "data": [
        [
         10,
         "Administration",
         "200",
         1700
        ],
        [
         20,
         "Marketing",
         "201",
         1800
        ],
        [
         30,
         "Purchasing",
         "114",
         1700
        ],
        [
         40,
         "Human Resources",
         "203",
         2400
        ],
        [
         50,
         "Shipping",
         "121",
         1500
        ],
        [
         60,
         "IT",
         "103",
         1400
        ],
        [
         70,
         "Public Relations",
         "204",
         2700
        ],
        [
         80,
         "Sales",
         "145",
         2500
        ],
        [
         90,
         "Executive",
         "100",
         1700
        ],
        [
         100,
         "Finance",
         "108",
         1700
        ],
        [
         110,
         "Accounting",
         "205",
         1700
        ],
        [
         120,
         "Treasury",
         " - ",
         1700
        ],
        [
         130,
         "Corporate Tax",
         " - ",
         1700
        ],
        [
         140,
         "Control And Credit",
         " - ",
         1700
        ],
        [
         150,
         "Shareholder Services",
         " - ",
         1700
        ],
        [
         160,
         "Benefits",
         " - ",
         1700
        ],
        [
         170,
         "Manufacturing",
         " - ",
         1700
        ],
        [
         180,
         "Construction",
         " - ",
         1700
        ],
        [
         190,
         "Contracting",
         " - ",
         1700
        ],
        [
         200,
         "Operations",
         " - ",
         1700
        ],
        [
         210,
         "IT Support",
         " - ",
         1700
        ],
        [
         220,
         "NOC",
         " - ",
         1700
        ],
        [
         230,
         "IT Helpdesk",
         " - ",
         1700
        ],
        [
         240,
         "Government Sales",
         " - ",
         1700
        ],
        [
         250,
         "Retail Sales",
         " - ",
         1700
        ],
        [
         260,
         "Recruiting",
         " - ",
         1700
        ],
        [
         270,
         "Payroll",
         " - ",
         1700
        ]
       ],
       "datasetInfos": [],
       "dbfsResultPath": null,
       "isJsonSchema": true,
       "metadata": {},
       "overflow": false,
       "plotOptions": {
        "customPlotOptions": {},
        "displayType": "table",
        "pivotAggregation": null,
        "pivotColumns": null,
        "xColumns": null,
        "yColumns": null
       },
       "removedWidgets": [],
       "schema": [
        {
         "metadata": "{}",
         "name": "DEPTNO",
         "type": "\"integer\""
        },
        {
         "metadata": "{}",
         "name": "DEPARTMENT_NAME",
         "type": "\"string\""
        },
        {
         "metadata": "{}",
         "name": "MANAGER_ID",
         "type": "\"string\""
        },
        {
         "metadata": "{}",
         "name": "LOCATION_ID",
         "type": "\"integer\""
        }
       ],
       "type": "table"
      }
     },
     "output_type": "display_data"
    }
   ],
   "source": [
    "df_dept=spark.read.csv('/FileStore/tables/dept.csv',header=True,inferSchema=True)\n",
    "df_dept.display()"
   ]
  },
  {
   "cell_type": "code",
   "execution_count": 0,
   "metadata": {
    "application/vnd.databricks.v1+cell": {
     "cellMetadata": {
      "byteLimit": 2048000,
      "rowLimit": 10000
     },
     "inputWidgets": {},
     "nuid": "62d3cee1-aa86-42f0-b5a0-243d523474eb",
     "showTitle": false,
     "title": ""
    }
   },
   "outputs": [
    {
     "output_type": "stream",
     "name": "stdout",
     "output_type": "stream",
     "text": [
      "root\n |-- DEPTNO: integer (nullable = true)\n |-- DEPARTMENT_NAME: string (nullable = true)\n |-- MANAGER_ID: string (nullable = true)\n |-- LOCATION_ID: integer (nullable = true)\n\n"
     ]
    }
   ],
   "source": [
    "df_dept.printSchema()"
   ]
  },
  {
   "cell_type": "code",
   "execution_count": 0,
   "metadata": {
    "application/vnd.databricks.v1+cell": {
     "cellMetadata": {
      "byteLimit": 2048000,
      "rowLimit": 10000
     },
     "inputWidgets": {},
     "nuid": "53beff31-c9ac-4b67-96dc-4823f6e07b32",
     "showTitle": false,
     "title": ""
    }
   },
   "outputs": [
    {
     "output_type": "display_data",
     "data": {
      "text/html": [
       "<style scoped>\n",
       "  .table-result-container {\n",
       "    max-height: 300px;\n",
       "    overflow: auto;\n",
       "  }\n",
       "  table, th, td {\n",
       "    border: 1px solid black;\n",
       "    border-collapse: collapse;\n",
       "  }\n",
       "  th, td {\n",
       "    padding: 5px;\n",
       "  }\n",
       "  th {\n",
       "    text-align: left;\n",
       "  }\n",
       "</style><div class='table-result-container'><table class='table-result'><thead style='background-color: white'><tr><th>EMPNO</th><th>ENAME</th><th>JOB</th><th>MGR</th><th>HIREDATE</th><th>SAL</th><th>COMM</th><th>DEPTNO</th><th>UPDATED_DATE</th><th>EMP_DEPTNO</th><th>DEPTNO</th><th>DEPARTMENT_NAME</th><th>MANAGER_ID</th><th>LOCATION_ID</th></tr></thead><tbody><tr><td>7369</td><td>SMITH</td><td>CLERK</td><td>7902</td><td>17-12-1980</td><td>800</td><td>null</td><td>20</td><td>2022-01-01</td><td>20</td><td>20</td><td>Marketing</td><td>201</td><td>1800</td></tr><tr><td>7499</td><td>ALLEN</td><td>SALESMAN</td><td>7698</td><td>20-02-1981</td><td>1600</td><td>300</td><td>30</td><td>2022-01-01</td><td>30</td><td>30</td><td>Purchasing</td><td>114</td><td>1700</td></tr><tr><td>7521</td><td>WARD</td><td>SALESMAN</td><td>7698</td><td>22-02-1981</td><td>1250</td><td>500</td><td>30</td><td>2022-01-01</td><td>30</td><td>30</td><td>Purchasing</td><td>114</td><td>1700</td></tr><tr><td>7566</td><td>JONES</td><td>MANAGER</td><td>7839</td><td>04-02-1981</td><td>2975</td><td>null</td><td>20</td><td>2022-01-05</td><td>20</td><td>20</td><td>Marketing</td><td>201</td><td>1800</td></tr><tr><td>7654</td><td>MARTIN</td><td>SALESMAN</td><td>7698</td><td>21-09-1981</td><td>1250</td><td>1400</td><td>30</td><td>2022-01-03</td><td>30</td><td>30</td><td>Purchasing</td><td>114</td><td>1700</td></tr><tr><td>7698</td><td>SGR</td><td>MANAGER</td><td>7839</td><td>05-01-1981</td><td>2850</td><td>null</td><td>30</td><td>2022-01-04</td><td>30</td><td>30</td><td>Purchasing</td><td>114</td><td>1700</td></tr><tr><td>7782</td><td>RAVI</td><td>MANAGER</td><td>7839</td><td>06-09-1981</td><td>2450</td><td>null</td><td>10</td><td>2022-01-02</td><td>10</td><td>10</td><td>Administration</td><td>200</td><td>1700</td></tr><tr><td>7788</td><td>SCOTT</td><td>ANALYST</td><td>7566</td><td>19-04-1987</td><td>3000</td><td>null</td><td>20</td><td>2022-01-02</td><td>20</td><td>20</td><td>Marketing</td><td>201</td><td>1800</td></tr><tr><td>7839</td><td>KING</td><td>PRESIDENT</td><td>null</td><td>01-11-1981</td><td>5000</td><td>null</td><td>10</td><td>2022-01-02</td><td>10</td><td>10</td><td>Administration</td><td>200</td><td>1700</td></tr><tr><td>7844</td><td>TURNER</td><td>SALESMAN</td><td>7698</td><td>09-08-1981</td><td>1500</td><td>0</td><td>30</td><td>2022-01-02</td><td>30</td><td>30</td><td>Purchasing</td><td>114</td><td>1700</td></tr><tr><td>7876</td><td>ADAMS</td><td>CLERK</td><td>7788</td><td>23-05-1987</td><td>1100</td><td>null</td><td>20</td><td>2022-01-03</td><td>20</td><td>20</td><td>Marketing</td><td>201</td><td>1800</td></tr><tr><td>7900</td><td>JAMES</td><td>CLERK</td><td>7698</td><td>12-03-1981</td><td>950</td><td>null</td><td>30</td><td>2022-01-03</td><td>30</td><td>30</td><td>Purchasing</td><td>114</td><td>1700</td></tr><tr><td>7902</td><td>FORD</td><td>ANALYST</td><td>7566</td><td>12-03-1981</td><td>3000</td><td>null</td><td>20</td><td>2022-01-03</td><td>20</td><td>20</td><td>Marketing</td><td>201</td><td>1800</td></tr><tr><td>7934</td><td>MILLER</td><td>CLERK</td><td>7782</td><td>01-03-1982</td><td>1300</td><td>null</td><td>10</td><td>2022-01-03</td><td>10</td><td>10</td><td>Administration</td><td>200</td><td>1700</td></tr><tr><td>1234</td><td>SEKHAR</td><td>doctor</td><td>7777</td><td>null</td><td>667</td><td>78</td><td>80</td><td>2022-01-03</td><td>80</td><td>80</td><td>Sales</td><td>145</td><td>2500</td></tr><tr><td>7369</td><td>SMITH</td><td>CLERK</td><td>7902</td><td>17-12-1980</td><td>800</td><td>null</td><td>20</td><td>2022-01-04</td><td>20</td><td>20</td><td>Marketing</td><td>201</td><td>1800</td></tr><tr><td>7499</td><td>ALLEN</td><td>SALESMAN</td><td>7698</td><td>20-02-1981</td><td>1600</td><td>300</td><td>30</td><td>2022-01-04</td><td>30</td><td>30</td><td>Purchasing</td><td>114</td><td>1700</td></tr><tr><td>7521</td><td>WARD</td><td>SALESMAN</td><td>7698</td><td>22-02-1981</td><td>1250</td><td>500</td><td>30</td><td>2022-01-04</td><td>30</td><td>30</td><td>Purchasing</td><td>114</td><td>1700</td></tr><tr><td>7566</td><td>JONES</td><td>MANAGER</td><td>7839</td><td>04-02-1981</td><td>2975</td><td>null</td><td>20</td><td>2022-01-04</td><td>20</td><td>20</td><td>Marketing</td><td>201</td><td>1800</td></tr><tr><td>7654</td><td>MARTIN</td><td>SALESMAN</td><td>7698</td><td>21-09-1981</td><td>1250</td><td>1400</td><td>30</td><td>2022-01-05</td><td>30</td><td>30</td><td>Purchasing</td><td>114</td><td>1700</td></tr><tr><td>7698</td><td>SGR</td><td>MANAGER</td><td>7839</td><td>05-01-1981</td><td>2850</td><td>null</td><td>30</td><td>2022-01-05</td><td>30</td><td>30</td><td>Purchasing</td><td>114</td><td>1700</td></tr><tr><td>7782</td><td>RAVI</td><td>MANAGER</td><td>7839</td><td>06-09-1981</td><td>2450</td><td>null</td><td>10</td><td>2022-01-05</td><td>10</td><td>10</td><td>Administration</td><td>200</td><td>1700</td></tr><tr><td>7788</td><td>SCOTT</td><td>ANALYST</td><td>7566</td><td>19-04-1987</td><td>3000</td><td>null</td><td>20</td><td>2022-01-06</td><td>20</td><td>20</td><td>Marketing</td><td>201</td><td>1800</td></tr><tr><td>7839</td><td>KING</td><td>PRESIDENT</td><td>null</td><td>01-11-1981</td><td>5000</td><td>null</td><td>10</td><td>2022-01-06</td><td>10</td><td>10</td><td>Administration</td><td>200</td><td>1700</td></tr><tr><td>7844</td><td>TURNER</td><td>SALESMAN</td><td>7698</td><td>09-08-1981</td><td>1500</td><td>0</td><td>30</td><td>2022-01-06</td><td>30</td><td>30</td><td>Purchasing</td><td>114</td><td>1700</td></tr><tr><td>7876</td><td>ADAMS</td><td>CLERK</td><td>7788</td><td>23-05-1987</td><td>1100</td><td>null</td><td>20</td><td>2022-01-06</td><td>20</td><td>20</td><td>Marketing</td><td>201</td><td>1800</td></tr><tr><td>7900</td><td>JAMES</td><td>CLERK</td><td>7698</td><td>12-03-1981</td><td>950</td><td>null</td><td>30</td><td>2022-01-07</td><td>30</td><td>30</td><td>Purchasing</td><td>114</td><td>1700</td></tr><tr><td>7902</td><td>FORD</td><td>ANALYST</td><td>7566</td><td>12-03-1981</td><td>3000</td><td>null</td><td>20</td><td>2022-01-07</td><td>20</td><td>20</td><td>Marketing</td><td>201</td><td>1800</td></tr><tr><td>7934</td><td>MILLER</td><td>CLERK</td><td>7782</td><td>01-03-1982</td><td>1300</td><td>null</td><td>10</td><td>2022-01-07</td><td>10</td><td>10</td><td>Administration</td><td>200</td><td>1700</td></tr><tr><td>1234</td><td>RAM</td><td>CLERK</td><td>7457</td><td>null</td><td>494</td><td>588</td><td>80</td><td>2022-01-07</td><td>80</td><td>80</td><td>Sales</td><td>145</td><td>2500</td></tr></tbody></table></div>"
      ]
     },
     "metadata": {
      "application/vnd.databricks.v1+output": {
       "addedWidgets": {},
       "aggData": [],
       "aggError": "",
       "aggOverflow": false,
       "aggSchema": [],
       "aggSeriesLimitReached": false,
       "aggType": "",
       "arguments": {},
       "columnCustomDisplayInfos": {},
       "data": [
        [
         "7369",
         "SMITH",
         "CLERK",
         "7902",
         "17-12-1980",
         "800",
         "null",
         "20",
         "2022-01-01",
         20,
         20,
         "Marketing",
         "201",
         1800
        ],
        [
         "7499",
         "ALLEN",
         "SALESMAN",
         "7698",
         "20-02-1981",
         "1600",
         "300",
         "30",
         "2022-01-01",
         30,
         30,
         "Purchasing",
         "114",
         1700
        ],
        [
         "7521",
         "WARD",
         "SALESMAN",
         "7698",
         "22-02-1981",
         "1250",
         "500",
         "30",
         "2022-01-01",
         30,
         30,
         "Purchasing",
         "114",
         1700
        ],
        [
         "7566",
         "JONES",
         "MANAGER",
         "7839",
         "04-02-1981",
         "2975",
         "null",
         "20",
         "2022-01-05",
         20,
         20,
         "Marketing",
         "201",
         1800
        ],
        [
         "7654",
         "MARTIN",
         "SALESMAN",
         "7698",
         "21-09-1981",
         "1250",
         "1400",
         "30",
         "2022-01-03",
         30,
         30,
         "Purchasing",
         "114",
         1700
        ],
        [
         "7698",
         "SGR",
         "MANAGER",
         "7839",
         "05-01-1981",
         "2850",
         "null",
         "30",
         "2022-01-04",
         30,
         30,
         "Purchasing",
         "114",
         1700
        ],
        [
         "7782",
         "RAVI",
         "MANAGER",
         "7839",
         "06-09-1981",
         "2450",
         "null",
         "10",
         "2022-01-02",
         10,
         10,
         "Administration",
         "200",
         1700
        ],
        [
         "7788",
         "SCOTT",
         "ANALYST",
         "7566",
         "19-04-1987",
         "3000",
         "null",
         "20",
         "2022-01-02",
         20,
         20,
         "Marketing",
         "201",
         1800
        ],
        [
         "7839",
         "KING",
         "PRESIDENT",
         "null",
         "01-11-1981",
         "5000",
         "null",
         "10",
         "2022-01-02",
         10,
         10,
         "Administration",
         "200",
         1700
        ],
        [
         "7844",
         "TURNER",
         "SALESMAN",
         "7698",
         "09-08-1981",
         "1500",
         "0",
         "30",
         "2022-01-02",
         30,
         30,
         "Purchasing",
         "114",
         1700
        ],
        [
         "7876",
         "ADAMS",
         "CLERK",
         "7788",
         "23-05-1987",
         "1100",
         "null",
         "20",
         "2022-01-03",
         20,
         20,
         "Marketing",
         "201",
         1800
        ],
        [
         "7900",
         "JAMES",
         "CLERK",
         "7698",
         "12-03-1981",
         "950",
         "null",
         "30",
         "2022-01-03",
         30,
         30,
         "Purchasing",
         "114",
         1700
        ],
        [
         "7902",
         "FORD",
         "ANALYST",
         "7566",
         "12-03-1981",
         "3000",
         "null",
         "20",
         "2022-01-03",
         20,
         20,
         "Marketing",
         "201",
         1800
        ],
        [
         "7934",
         "MILLER",
         "CLERK",
         "7782",
         "01-03-1982",
         "1300",
         "null",
         "10",
         "2022-01-03",
         10,
         10,
         "Administration",
         "200",
         1700
        ],
        [
         "1234",
         "SEKHAR",
         "doctor",
         "7777",
         "null",
         "667",
         "78",
         "80",
         "2022-01-03",
         80,
         80,
         "Sales",
         "145",
         2500
        ],
        [
         "7369",
         "SMITH",
         "CLERK",
         "7902",
         "17-12-1980",
         "800",
         "null",
         "20",
         "2022-01-04",
         20,
         20,
         "Marketing",
         "201",
         1800
        ],
        [
         "7499",
         "ALLEN",
         "SALESMAN",
         "7698",
         "20-02-1981",
         "1600",
         "300",
         "30",
         "2022-01-04",
         30,
         30,
         "Purchasing",
         "114",
         1700
        ],
        [
         "7521",
         "WARD",
         "SALESMAN",
         "7698",
         "22-02-1981",
         "1250",
         "500",
         "30",
         "2022-01-04",
         30,
         30,
         "Purchasing",
         "114",
         1700
        ],
        [
         "7566",
         "JONES",
         "MANAGER",
         "7839",
         "04-02-1981",
         "2975",
         "null",
         "20",
         "2022-01-04",
         20,
         20,
         "Marketing",
         "201",
         1800
        ],
        [
         "7654",
         "MARTIN",
         "SALESMAN",
         "7698",
         "21-09-1981",
         "1250",
         "1400",
         "30",
         "2022-01-05",
         30,
         30,
         "Purchasing",
         "114",
         1700
        ],
        [
         "7698",
         "SGR",
         "MANAGER",
         "7839",
         "05-01-1981",
         "2850",
         "null",
         "30",
         "2022-01-05",
         30,
         30,
         "Purchasing",
         "114",
         1700
        ],
        [
         "7782",
         "RAVI",
         "MANAGER",
         "7839",
         "06-09-1981",
         "2450",
         "null",
         "10",
         "2022-01-05",
         10,
         10,
         "Administration",
         "200",
         1700
        ],
        [
         "7788",
         "SCOTT",
         "ANALYST",
         "7566",
         "19-04-1987",
         "3000",
         "null",
         "20",
         "2022-01-06",
         20,
         20,
         "Marketing",
         "201",
         1800
        ],
        [
         "7839",
         "KING",
         "PRESIDENT",
         "null",
         "01-11-1981",
         "5000",
         "null",
         "10",
         "2022-01-06",
         10,
         10,
         "Administration",
         "200",
         1700
        ],
        [
         "7844",
         "TURNER",
         "SALESMAN",
         "7698",
         "09-08-1981",
         "1500",
         "0",
         "30",
         "2022-01-06",
         30,
         30,
         "Purchasing",
         "114",
         1700
        ],
        [
         "7876",
         "ADAMS",
         "CLERK",
         "7788",
         "23-05-1987",
         "1100",
         "null",
         "20",
         "2022-01-06",
         20,
         20,
         "Marketing",
         "201",
         1800
        ],
        [
         "7900",
         "JAMES",
         "CLERK",
         "7698",
         "12-03-1981",
         "950",
         "null",
         "30",
         "2022-01-07",
         30,
         30,
         "Purchasing",
         "114",
         1700
        ],
        [
         "7902",
         "FORD",
         "ANALYST",
         "7566",
         "12-03-1981",
         "3000",
         "null",
         "20",
         "2022-01-07",
         20,
         20,
         "Marketing",
         "201",
         1800
        ],
        [
         "7934",
         "MILLER",
         "CLERK",
         "7782",
         "01-03-1982",
         "1300",
         "null",
         "10",
         "2022-01-07",
         10,
         10,
         "Administration",
         "200",
         1700
        ],
        [
         "1234",
         "RAM",
         "CLERK",
         "7457",
         "null",
         "494",
         "588",
         "80",
         "2022-01-07",
         80,
         80,
         "Sales",
         "145",
         2500
        ]
       ],
       "datasetInfos": [],
       "dbfsResultPath": null,
       "isJsonSchema": true,
       "metadata": {},
       "overflow": false,
       "plotOptions": {
        "customPlotOptions": {},
        "displayType": "table",
        "pivotAggregation": null,
        "pivotColumns": null,
        "xColumns": null,
        "yColumns": null
       },
       "removedWidgets": [],
       "schema": [
        {
         "metadata": "{}",
         "name": "EMPNO",
         "type": "\"string\""
        },
        {
         "metadata": "{}",
         "name": "ENAME",
         "type": "\"string\""
        },
        {
         "metadata": "{}",
         "name": "JOB",
         "type": "\"string\""
        },
        {
         "metadata": "{}",
         "name": "MGR",
         "type": "\"string\""
        },
        {
         "metadata": "{}",
         "name": "HIREDATE",
         "type": "\"string\""
        },
        {
         "metadata": "{}",
         "name": "SAL",
         "type": "\"string\""
        },
        {
         "metadata": "{}",
         "name": "COMM",
         "type": "\"string\""
        },
        {
         "metadata": "{}",
         "name": "DEPTNO",
         "type": "\"string\""
        },
        {
         "metadata": "{}",
         "name": "UPDATED_DATE",
         "type": "\"string\""
        },
        {
         "metadata": "{}",
         "name": "EMP_DEPTNO",
         "type": "\"integer\""
        },
        {
         "metadata": "{}",
         "name": "DEPTNO",
         "type": "\"integer\""
        },
        {
         "metadata": "{}",
         "name": "DEPARTMENT_NAME",
         "type": "\"string\""
        },
        {
         "metadata": "{}",
         "name": "MANAGER_ID",
         "type": "\"string\""
        },
        {
         "metadata": "{}",
         "name": "LOCATION_ID",
         "type": "\"integer\""
        }
       ],
       "type": "table"
      }
     },
     "output_type": "display_data"
    }
   ],
   "source": [
    "df_final=dff_emp.join(df_dept,dff_emp[\"EMP_DEPTNO\"]==df_dept[\"DEPTNO\"],'inner')\n",
    "df_final.display()\n"
   ]
  },
  {
   "cell_type": "code",
   "execution_count": 0,
   "metadata": {
    "application/vnd.databricks.v1+cell": {
     "cellMetadata": {
      "byteLimit": 2048000,
      "rowLimit": 10000
     },
     "inputWidgets": {},
     "nuid": "24aa4624-8849-4db3-b3fd-3c2babd80576",
     "showTitle": false,
     "title": ""
    }
   },
   "outputs": [
    {
     "output_type": "display_data",
     "data": {
      "text/plain": [
       "\u001B[0;31m---------------------------------------------------------------------------\u001B[0m\n",
       "\u001B[0;31mAnalysisException\u001B[0m                         Traceback (most recent call last)\n",
       "File \u001B[0;32m<command-2278425189029361>:2\u001B[0m\n",
       "\u001B[1;32m      1\u001B[0m \u001B[38;5;66;03m#write delta format\u001B[39;00m\n",
       "\u001B[0;32m----> 2\u001B[0m \u001B[43mdf_final\u001B[49m\u001B[38;5;241;43m.\u001B[39;49m\u001B[43mwrite\u001B[49m\u001B[38;5;241;43m.\u001B[39;49m\u001B[43mformat\u001B[49m\u001B[43m(\u001B[49m\u001B[38;5;124;43m\"\u001B[39;49m\u001B[38;5;124;43mdelta\u001B[39;49m\u001B[38;5;124;43m\"\u001B[39;49m\u001B[43m)\u001B[49m\u001B[38;5;241;43m.\u001B[39;49m\u001B[43msaveAsTable\u001B[49m\u001B[43m(\u001B[49m\u001B[38;5;124;43m\"\u001B[39;49m\u001B[38;5;124;43mdelta_join_table\u001B[39;49m\u001B[38;5;124;43m\"\u001B[39;49m\u001B[43m)\u001B[49m\n",
       "\n",
       "File \u001B[0;32m/databricks/spark/python/pyspark/instrumentation_utils.py:48\u001B[0m, in \u001B[0;36m_wrap_function.<locals>.wrapper\u001B[0;34m(*args, **kwargs)\u001B[0m\n",
       "\u001B[1;32m     46\u001B[0m start \u001B[38;5;241m=\u001B[39m time\u001B[38;5;241m.\u001B[39mperf_counter()\n",
       "\u001B[1;32m     47\u001B[0m \u001B[38;5;28;01mtry\u001B[39;00m:\n",
       "\u001B[0;32m---> 48\u001B[0m     res \u001B[38;5;241m=\u001B[39m \u001B[43mfunc\u001B[49m\u001B[43m(\u001B[49m\u001B[38;5;241;43m*\u001B[39;49m\u001B[43margs\u001B[49m\u001B[43m,\u001B[49m\u001B[43m \u001B[49m\u001B[38;5;241;43m*\u001B[39;49m\u001B[38;5;241;43m*\u001B[39;49m\u001B[43mkwargs\u001B[49m\u001B[43m)\u001B[49m\n",
       "\u001B[1;32m     49\u001B[0m     logger\u001B[38;5;241m.\u001B[39mlog_success(\n",
       "\u001B[1;32m     50\u001B[0m         module_name, class_name, function_name, time\u001B[38;5;241m.\u001B[39mperf_counter() \u001B[38;5;241m-\u001B[39m start, signature\n",
       "\u001B[1;32m     51\u001B[0m     )\n",
       "\u001B[1;32m     52\u001B[0m     \u001B[38;5;28;01mreturn\u001B[39;00m res\n",
       "\n",
       "File \u001B[0;32m/databricks/spark/python/pyspark/sql/readwriter.py:1520\u001B[0m, in \u001B[0;36mDataFrameWriter.saveAsTable\u001B[0;34m(self, name, format, mode, partitionBy, **options)\u001B[0m\n",
       "\u001B[1;32m   1518\u001B[0m \u001B[38;5;28;01mif\u001B[39;00m \u001B[38;5;28mformat\u001B[39m \u001B[38;5;129;01mis\u001B[39;00m \u001B[38;5;129;01mnot\u001B[39;00m \u001B[38;5;28;01mNone\u001B[39;00m:\n",
       "\u001B[1;32m   1519\u001B[0m     \u001B[38;5;28mself\u001B[39m\u001B[38;5;241m.\u001B[39mformat(\u001B[38;5;28mformat\u001B[39m)\n",
       "\u001B[0;32m-> 1520\u001B[0m \u001B[38;5;28;43mself\u001B[39;49m\u001B[38;5;241;43m.\u001B[39;49m\u001B[43m_jwrite\u001B[49m\u001B[38;5;241;43m.\u001B[39;49m\u001B[43msaveAsTable\u001B[49m\u001B[43m(\u001B[49m\u001B[43mname\u001B[49m\u001B[43m)\u001B[49m\n",
       "\n",
       "File \u001B[0;32m/databricks/spark/python/lib/py4j-0.10.9.5-src.zip/py4j/java_gateway.py:1321\u001B[0m, in \u001B[0;36mJavaMember.__call__\u001B[0;34m(self, *args)\u001B[0m\n",
       "\u001B[1;32m   1315\u001B[0m command \u001B[38;5;241m=\u001B[39m proto\u001B[38;5;241m.\u001B[39mCALL_COMMAND_NAME \u001B[38;5;241m+\u001B[39m\\\n",
       "\u001B[1;32m   1316\u001B[0m     \u001B[38;5;28mself\u001B[39m\u001B[38;5;241m.\u001B[39mcommand_header \u001B[38;5;241m+\u001B[39m\\\n",
       "\u001B[1;32m   1317\u001B[0m     args_command \u001B[38;5;241m+\u001B[39m\\\n",
       "\u001B[1;32m   1318\u001B[0m     proto\u001B[38;5;241m.\u001B[39mEND_COMMAND_PART\n",
       "\u001B[1;32m   1320\u001B[0m answer \u001B[38;5;241m=\u001B[39m \u001B[38;5;28mself\u001B[39m\u001B[38;5;241m.\u001B[39mgateway_client\u001B[38;5;241m.\u001B[39msend_command(command)\n",
       "\u001B[0;32m-> 1321\u001B[0m return_value \u001B[38;5;241m=\u001B[39m \u001B[43mget_return_value\u001B[49m\u001B[43m(\u001B[49m\n",
       "\u001B[1;32m   1322\u001B[0m \u001B[43m    \u001B[49m\u001B[43manswer\u001B[49m\u001B[43m,\u001B[49m\u001B[43m \u001B[49m\u001B[38;5;28;43mself\u001B[39;49m\u001B[38;5;241;43m.\u001B[39;49m\u001B[43mgateway_client\u001B[49m\u001B[43m,\u001B[49m\u001B[43m \u001B[49m\u001B[38;5;28;43mself\u001B[39;49m\u001B[38;5;241;43m.\u001B[39;49m\u001B[43mtarget_id\u001B[49m\u001B[43m,\u001B[49m\u001B[43m \u001B[49m\u001B[38;5;28;43mself\u001B[39;49m\u001B[38;5;241;43m.\u001B[39;49m\u001B[43mname\u001B[49m\u001B[43m)\u001B[49m\n",
       "\u001B[1;32m   1324\u001B[0m \u001B[38;5;28;01mfor\u001B[39;00m temp_arg \u001B[38;5;129;01min\u001B[39;00m temp_args:\n",
       "\u001B[1;32m   1325\u001B[0m     temp_arg\u001B[38;5;241m.\u001B[39m_detach()\n",
       "\n",
       "File \u001B[0;32m/databricks/spark/python/pyspark/errors/exceptions.py:234\u001B[0m, in \u001B[0;36mcapture_sql_exception.<locals>.deco\u001B[0;34m(*a, **kw)\u001B[0m\n",
       "\u001B[1;32m    230\u001B[0m converted \u001B[38;5;241m=\u001B[39m convert_exception(e\u001B[38;5;241m.\u001B[39mjava_exception)\n",
       "\u001B[1;32m    231\u001B[0m \u001B[38;5;28;01mif\u001B[39;00m \u001B[38;5;129;01mnot\u001B[39;00m \u001B[38;5;28misinstance\u001B[39m(converted, UnknownException):\n",
       "\u001B[1;32m    232\u001B[0m     \u001B[38;5;66;03m# Hide where the exception came from that shows a non-Pythonic\u001B[39;00m\n",
       "\u001B[1;32m    233\u001B[0m     \u001B[38;5;66;03m# JVM exception message.\u001B[39;00m\n",
       "\u001B[0;32m--> 234\u001B[0m     \u001B[38;5;28;01mraise\u001B[39;00m converted \u001B[38;5;28;01mfrom\u001B[39;00m \u001B[38;5;28mNone\u001B[39m\n",
       "\u001B[1;32m    235\u001B[0m \u001B[38;5;28;01melse\u001B[39;00m:\n",
       "\u001B[1;32m    236\u001B[0m     \u001B[38;5;28;01mraise\u001B[39;00m\n",
       "\n",
       "\u001B[0;31mAnalysisException\u001B[0m: [COLUMN_ALREADY_EXISTS] The column `deptno` already exists. Consider to choose another name or rename the existing column."
      ]
     },
     "metadata": {
      "application/vnd.databricks.v1+output": {
       "arguments": {},
       "data": "\u001B[0;31m---------------------------------------------------------------------------\u001B[0m\n\u001B[0;31mAnalysisException\u001B[0m                         Traceback (most recent call last)\nFile \u001B[0;32m<command-2278425189029361>:2\u001B[0m\n\u001B[1;32m      1\u001B[0m \u001B[38;5;66;03m#write delta format\u001B[39;00m\n\u001B[0;32m----> 2\u001B[0m \u001B[43mdf_final\u001B[49m\u001B[38;5;241;43m.\u001B[39;49m\u001B[43mwrite\u001B[49m\u001B[38;5;241;43m.\u001B[39;49m\u001B[43mformat\u001B[49m\u001B[43m(\u001B[49m\u001B[38;5;124;43m\"\u001B[39;49m\u001B[38;5;124;43mdelta\u001B[39;49m\u001B[38;5;124;43m\"\u001B[39;49m\u001B[43m)\u001B[49m\u001B[38;5;241;43m.\u001B[39;49m\u001B[43msaveAsTable\u001B[49m\u001B[43m(\u001B[49m\u001B[38;5;124;43m\"\u001B[39;49m\u001B[38;5;124;43mdelta_join_table\u001B[39;49m\u001B[38;5;124;43m\"\u001B[39;49m\u001B[43m)\u001B[49m\n\nFile \u001B[0;32m/databricks/spark/python/pyspark/instrumentation_utils.py:48\u001B[0m, in \u001B[0;36m_wrap_function.<locals>.wrapper\u001B[0;34m(*args, **kwargs)\u001B[0m\n\u001B[1;32m     46\u001B[0m start \u001B[38;5;241m=\u001B[39m time\u001B[38;5;241m.\u001B[39mperf_counter()\n\u001B[1;32m     47\u001B[0m \u001B[38;5;28;01mtry\u001B[39;00m:\n\u001B[0;32m---> 48\u001B[0m     res \u001B[38;5;241m=\u001B[39m \u001B[43mfunc\u001B[49m\u001B[43m(\u001B[49m\u001B[38;5;241;43m*\u001B[39;49m\u001B[43margs\u001B[49m\u001B[43m,\u001B[49m\u001B[43m \u001B[49m\u001B[38;5;241;43m*\u001B[39;49m\u001B[38;5;241;43m*\u001B[39;49m\u001B[43mkwargs\u001B[49m\u001B[43m)\u001B[49m\n\u001B[1;32m     49\u001B[0m     logger\u001B[38;5;241m.\u001B[39mlog_success(\n\u001B[1;32m     50\u001B[0m         module_name, class_name, function_name, time\u001B[38;5;241m.\u001B[39mperf_counter() \u001B[38;5;241m-\u001B[39m start, signature\n\u001B[1;32m     51\u001B[0m     )\n\u001B[1;32m     52\u001B[0m     \u001B[38;5;28;01mreturn\u001B[39;00m res\n\nFile \u001B[0;32m/databricks/spark/python/pyspark/sql/readwriter.py:1520\u001B[0m, in \u001B[0;36mDataFrameWriter.saveAsTable\u001B[0;34m(self, name, format, mode, partitionBy, **options)\u001B[0m\n\u001B[1;32m   1518\u001B[0m \u001B[38;5;28;01mif\u001B[39;00m \u001B[38;5;28mformat\u001B[39m \u001B[38;5;129;01mis\u001B[39;00m \u001B[38;5;129;01mnot\u001B[39;00m \u001B[38;5;28;01mNone\u001B[39;00m:\n\u001B[1;32m   1519\u001B[0m     \u001B[38;5;28mself\u001B[39m\u001B[38;5;241m.\u001B[39mformat(\u001B[38;5;28mformat\u001B[39m)\n\u001B[0;32m-> 1520\u001B[0m \u001B[38;5;28;43mself\u001B[39;49m\u001B[38;5;241;43m.\u001B[39;49m\u001B[43m_jwrite\u001B[49m\u001B[38;5;241;43m.\u001B[39;49m\u001B[43msaveAsTable\u001B[49m\u001B[43m(\u001B[49m\u001B[43mname\u001B[49m\u001B[43m)\u001B[49m\n\nFile \u001B[0;32m/databricks/spark/python/lib/py4j-0.10.9.5-src.zip/py4j/java_gateway.py:1321\u001B[0m, in \u001B[0;36mJavaMember.__call__\u001B[0;34m(self, *args)\u001B[0m\n\u001B[1;32m   1315\u001B[0m command \u001B[38;5;241m=\u001B[39m proto\u001B[38;5;241m.\u001B[39mCALL_COMMAND_NAME \u001B[38;5;241m+\u001B[39m\\\n\u001B[1;32m   1316\u001B[0m     \u001B[38;5;28mself\u001B[39m\u001B[38;5;241m.\u001B[39mcommand_header \u001B[38;5;241m+\u001B[39m\\\n\u001B[1;32m   1317\u001B[0m     args_command \u001B[38;5;241m+\u001B[39m\\\n\u001B[1;32m   1318\u001B[0m     proto\u001B[38;5;241m.\u001B[39mEND_COMMAND_PART\n\u001B[1;32m   1320\u001B[0m answer \u001B[38;5;241m=\u001B[39m \u001B[38;5;28mself\u001B[39m\u001B[38;5;241m.\u001B[39mgateway_client\u001B[38;5;241m.\u001B[39msend_command(command)\n\u001B[0;32m-> 1321\u001B[0m return_value \u001B[38;5;241m=\u001B[39m \u001B[43mget_return_value\u001B[49m\u001B[43m(\u001B[49m\n\u001B[1;32m   1322\u001B[0m \u001B[43m    \u001B[49m\u001B[43manswer\u001B[49m\u001B[43m,\u001B[49m\u001B[43m \u001B[49m\u001B[38;5;28;43mself\u001B[39;49m\u001B[38;5;241;43m.\u001B[39;49m\u001B[43mgateway_client\u001B[49m\u001B[43m,\u001B[49m\u001B[43m \u001B[49m\u001B[38;5;28;43mself\u001B[39;49m\u001B[38;5;241;43m.\u001B[39;49m\u001B[43mtarget_id\u001B[49m\u001B[43m,\u001B[49m\u001B[43m \u001B[49m\u001B[38;5;28;43mself\u001B[39;49m\u001B[38;5;241;43m.\u001B[39;49m\u001B[43mname\u001B[49m\u001B[43m)\u001B[49m\n\u001B[1;32m   1324\u001B[0m \u001B[38;5;28;01mfor\u001B[39;00m temp_arg \u001B[38;5;129;01min\u001B[39;00m temp_args:\n\u001B[1;32m   1325\u001B[0m     temp_arg\u001B[38;5;241m.\u001B[39m_detach()\n\nFile \u001B[0;32m/databricks/spark/python/pyspark/errors/exceptions.py:234\u001B[0m, in \u001B[0;36mcapture_sql_exception.<locals>.deco\u001B[0;34m(*a, **kw)\u001B[0m\n\u001B[1;32m    230\u001B[0m converted \u001B[38;5;241m=\u001B[39m convert_exception(e\u001B[38;5;241m.\u001B[39mjava_exception)\n\u001B[1;32m    231\u001B[0m \u001B[38;5;28;01mif\u001B[39;00m \u001B[38;5;129;01mnot\u001B[39;00m \u001B[38;5;28misinstance\u001B[39m(converted, UnknownException):\n\u001B[1;32m    232\u001B[0m     \u001B[38;5;66;03m# Hide where the exception came from that shows a non-Pythonic\u001B[39;00m\n\u001B[1;32m    233\u001B[0m     \u001B[38;5;66;03m# JVM exception message.\u001B[39;00m\n\u001B[0;32m--> 234\u001B[0m     \u001B[38;5;28;01mraise\u001B[39;00m converted \u001B[38;5;28;01mfrom\u001B[39;00m \u001B[38;5;28mNone\u001B[39m\n\u001B[1;32m    235\u001B[0m \u001B[38;5;28;01melse\u001B[39;00m:\n\u001B[1;32m    236\u001B[0m     \u001B[38;5;28;01mraise\u001B[39;00m\n\n\u001B[0;31mAnalysisException\u001B[0m: [COLUMN_ALREADY_EXISTS] The column `deptno` already exists. Consider to choose another name or rename the existing column.",
       "errorSummary": "<span class='ansi-red-fg'>AnalysisException</span>: [COLUMN_ALREADY_EXISTS] The column `deptno` already exists. Consider to choose another name or rename the existing column.",
       "errorTraceType": "ansi",
       "metadata": {},
       "type": "ipynbError"
      }
     },
     "output_type": "display_data"
    }
   ],
   "source": [
    "#write delta format\n",
    "df_final.write.format(\"delta\").saveAsTable(\"delta_join_table\")"
   ]
  },
  {
   "cell_type": "code",
   "execution_count": 0,
   "metadata": {
    "application/vnd.databricks.v1+cell": {
     "cellMetadata": {
      "byteLimit": 2048000,
      "rowLimit": 10000
     },
     "inputWidgets": {},
     "nuid": "6adee75a-d841-45f2-94be-01b05ae07e0a",
     "showTitle": false,
     "title": ""
    }
   },
   "outputs": [],
   "source": [
    "#fix is remove additional EMP_DEPTNO condition or remove one of the column which is duplicate causing\n",
    "df_final=dff_emp.join(df_dept,[\"DEPTNO\"],'inner')"
   ]
  },
  {
   "cell_type": "code",
   "execution_count": 0,
   "metadata": {
    "application/vnd.databricks.v1+cell": {
     "cellMetadata": {
      "byteLimit": 2048000,
      "rowLimit": 10000
     },
     "inputWidgets": {},
     "nuid": "919be3c7-8fd5-4214-96a7-2b63348430c6",
     "showTitle": false,
     "title": ""
    }
   },
   "outputs": [],
   "source": [
    "#write delta format\n",
    "df_final.write.format(\"delta\").saveAsTable(\"delta_join_table\")\n"
   ]
  },
  {
   "cell_type": "code",
   "execution_count": 0,
   "metadata": {
    "application/vnd.databricks.v1+cell": {
     "cellMetadata": {
      "byteLimit": 2048000,
      "implicitDf": true,
      "rowLimit": 10000
     },
     "inputWidgets": {},
     "nuid": "cc884723-e7be-423e-bbd6-ca30bb2b03b4",
     "showTitle": false,
     "title": ""
    }
   },
   "outputs": [
    {
     "output_type": "display_data",
     "data": {
      "text/html": [
       "<style scoped>\n",
       "  .table-result-container {\n",
       "    max-height: 300px;\n",
       "    overflow: auto;\n",
       "  }\n",
       "  table, th, td {\n",
       "    border: 1px solid black;\n",
       "    border-collapse: collapse;\n",
       "  }\n",
       "  th, td {\n",
       "    padding: 5px;\n",
       "  }\n",
       "  th {\n",
       "    text-align: left;\n",
       "  }\n",
       "</style><div class='table-result-container'><table class='table-result'><thead style='background-color: white'><tr><th>DEPTNO</th><th>EMPNO</th><th>ENAME</th><th>JOB</th><th>MGR</th><th>HIREDATE</th><th>SAL</th><th>COMM</th><th>UPDATED_DATE</th><th>EMP_DEPTNO</th><th>DEPARTMENT_NAME</th><th>MANAGER_ID</th><th>LOCATION_ID</th></tr></thead><tbody><tr><td>20</td><td>7369</td><td>SMITH</td><td>CLERK</td><td>7902</td><td>17-12-1980</td><td>800</td><td>null</td><td>2022-01-01</td><td>20</td><td>Marketing</td><td>201</td><td>1800</td></tr><tr><td>30</td><td>7499</td><td>ALLEN</td><td>SALESMAN</td><td>7698</td><td>20-02-1981</td><td>1600</td><td>300</td><td>2022-01-01</td><td>30</td><td>Purchasing</td><td>114</td><td>1700</td></tr><tr><td>30</td><td>7521</td><td>WARD</td><td>SALESMAN</td><td>7698</td><td>22-02-1981</td><td>1250</td><td>500</td><td>2022-01-01</td><td>30</td><td>Purchasing</td><td>114</td><td>1700</td></tr><tr><td>20</td><td>7566</td><td>JONES</td><td>MANAGER</td><td>7839</td><td>04-02-1981</td><td>2975</td><td>null</td><td>2022-01-05</td><td>20</td><td>Marketing</td><td>201</td><td>1800</td></tr><tr><td>30</td><td>7654</td><td>MARTIN</td><td>SALESMAN</td><td>7698</td><td>21-09-1981</td><td>1250</td><td>1400</td><td>2022-01-03</td><td>30</td><td>Purchasing</td><td>114</td><td>1700</td></tr><tr><td>30</td><td>7698</td><td>SGR</td><td>MANAGER</td><td>7839</td><td>05-01-1981</td><td>2850</td><td>null</td><td>2022-01-04</td><td>30</td><td>Purchasing</td><td>114</td><td>1700</td></tr><tr><td>10</td><td>7782</td><td>RAVI</td><td>MANAGER</td><td>7839</td><td>06-09-1981</td><td>2450</td><td>null</td><td>2022-01-02</td><td>10</td><td>Administration</td><td>200</td><td>1700</td></tr><tr><td>20</td><td>7788</td><td>SCOTT</td><td>ANALYST</td><td>7566</td><td>19-04-1987</td><td>3000</td><td>null</td><td>2022-01-02</td><td>20</td><td>Marketing</td><td>201</td><td>1800</td></tr><tr><td>10</td><td>7839</td><td>KING</td><td>PRESIDENT</td><td>null</td><td>01-11-1981</td><td>5000</td><td>null</td><td>2022-01-02</td><td>10</td><td>Administration</td><td>200</td><td>1700</td></tr><tr><td>30</td><td>7844</td><td>TURNER</td><td>SALESMAN</td><td>7698</td><td>09-08-1981</td><td>1500</td><td>0</td><td>2022-01-02</td><td>30</td><td>Purchasing</td><td>114</td><td>1700</td></tr><tr><td>20</td><td>7876</td><td>ADAMS</td><td>CLERK</td><td>7788</td><td>23-05-1987</td><td>1100</td><td>null</td><td>2022-01-03</td><td>20</td><td>Marketing</td><td>201</td><td>1800</td></tr><tr><td>30</td><td>7900</td><td>JAMES</td><td>CLERK</td><td>7698</td><td>12-03-1981</td><td>950</td><td>null</td><td>2022-01-03</td><td>30</td><td>Purchasing</td><td>114</td><td>1700</td></tr><tr><td>20</td><td>7902</td><td>FORD</td><td>ANALYST</td><td>7566</td><td>12-03-1981</td><td>3000</td><td>null</td><td>2022-01-03</td><td>20</td><td>Marketing</td><td>201</td><td>1800</td></tr><tr><td>10</td><td>7934</td><td>MILLER</td><td>CLERK</td><td>7782</td><td>01-03-1982</td><td>1300</td><td>null</td><td>2022-01-03</td><td>10</td><td>Administration</td><td>200</td><td>1700</td></tr><tr><td>80</td><td>1234</td><td>SEKHAR</td><td>doctor</td><td>7777</td><td>null</td><td>667</td><td>78</td><td>2022-01-03</td><td>80</td><td>Sales</td><td>145</td><td>2500</td></tr><tr><td>20</td><td>7369</td><td>SMITH</td><td>CLERK</td><td>7902</td><td>17-12-1980</td><td>800</td><td>null</td><td>2022-01-04</td><td>20</td><td>Marketing</td><td>201</td><td>1800</td></tr><tr><td>30</td><td>7499</td><td>ALLEN</td><td>SALESMAN</td><td>7698</td><td>20-02-1981</td><td>1600</td><td>300</td><td>2022-01-04</td><td>30</td><td>Purchasing</td><td>114</td><td>1700</td></tr><tr><td>30</td><td>7521</td><td>WARD</td><td>SALESMAN</td><td>7698</td><td>22-02-1981</td><td>1250</td><td>500</td><td>2022-01-04</td><td>30</td><td>Purchasing</td><td>114</td><td>1700</td></tr><tr><td>20</td><td>7566</td><td>JONES</td><td>MANAGER</td><td>7839</td><td>04-02-1981</td><td>2975</td><td>null</td><td>2022-01-04</td><td>20</td><td>Marketing</td><td>201</td><td>1800</td></tr><tr><td>30</td><td>7654</td><td>MARTIN</td><td>SALESMAN</td><td>7698</td><td>21-09-1981</td><td>1250</td><td>1400</td><td>2022-01-05</td><td>30</td><td>Purchasing</td><td>114</td><td>1700</td></tr><tr><td>30</td><td>7698</td><td>SGR</td><td>MANAGER</td><td>7839</td><td>05-01-1981</td><td>2850</td><td>null</td><td>2022-01-05</td><td>30</td><td>Purchasing</td><td>114</td><td>1700</td></tr><tr><td>10</td><td>7782</td><td>RAVI</td><td>MANAGER</td><td>7839</td><td>06-09-1981</td><td>2450</td><td>null</td><td>2022-01-05</td><td>10</td><td>Administration</td><td>200</td><td>1700</td></tr><tr><td>20</td><td>7788</td><td>SCOTT</td><td>ANALYST</td><td>7566</td><td>19-04-1987</td><td>3000</td><td>null</td><td>2022-01-06</td><td>20</td><td>Marketing</td><td>201</td><td>1800</td></tr><tr><td>10</td><td>7839</td><td>KING</td><td>PRESIDENT</td><td>null</td><td>01-11-1981</td><td>5000</td><td>null</td><td>2022-01-06</td><td>10</td><td>Administration</td><td>200</td><td>1700</td></tr><tr><td>30</td><td>7844</td><td>TURNER</td><td>SALESMAN</td><td>7698</td><td>09-08-1981</td><td>1500</td><td>0</td><td>2022-01-06</td><td>30</td><td>Purchasing</td><td>114</td><td>1700</td></tr><tr><td>20</td><td>7876</td><td>ADAMS</td><td>CLERK</td><td>7788</td><td>23-05-1987</td><td>1100</td><td>null</td><td>2022-01-06</td><td>20</td><td>Marketing</td><td>201</td><td>1800</td></tr><tr><td>30</td><td>7900</td><td>JAMES</td><td>CLERK</td><td>7698</td><td>12-03-1981</td><td>950</td><td>null</td><td>2022-01-07</td><td>30</td><td>Purchasing</td><td>114</td><td>1700</td></tr><tr><td>20</td><td>7902</td><td>FORD</td><td>ANALYST</td><td>7566</td><td>12-03-1981</td><td>3000</td><td>null</td><td>2022-01-07</td><td>20</td><td>Marketing</td><td>201</td><td>1800</td></tr><tr><td>10</td><td>7934</td><td>MILLER</td><td>CLERK</td><td>7782</td><td>01-03-1982</td><td>1300</td><td>null</td><td>2022-01-07</td><td>10</td><td>Administration</td><td>200</td><td>1700</td></tr><tr><td>80</td><td>1234</td><td>RAM</td><td>CLERK</td><td>7457</td><td>null</td><td>494</td><td>588</td><td>2022-01-07</td><td>80</td><td>Sales</td><td>145</td><td>2500</td></tr></tbody></table></div>"
      ]
     },
     "metadata": {
      "application/vnd.databricks.v1+output": {
       "addedWidgets": {},
       "aggData": [],
       "aggError": "",
       "aggOverflow": false,
       "aggSchema": [],
       "aggSeriesLimitReached": false,
       "aggType": "",
       "arguments": {},
       "columnCustomDisplayInfos": {},
       "data": [
        [
         "20",
         "7369",
         "SMITH",
         "CLERK",
         "7902",
         "17-12-1980",
         "800",
         "null",
         "2022-01-01",
         20,
         "Marketing",
         "201",
         1800
        ],
        [
         "30",
         "7499",
         "ALLEN",
         "SALESMAN",
         "7698",
         "20-02-1981",
         "1600",
         "300",
         "2022-01-01",
         30,
         "Purchasing",
         "114",
         1700
        ],
        [
         "30",
         "7521",
         "WARD",
         "SALESMAN",
         "7698",
         "22-02-1981",
         "1250",
         "500",
         "2022-01-01",
         30,
         "Purchasing",
         "114",
         1700
        ],
        [
         "20",
         "7566",
         "JONES",
         "MANAGER",
         "7839",
         "04-02-1981",
         "2975",
         "null",
         "2022-01-05",
         20,
         "Marketing",
         "201",
         1800
        ],
        [
         "30",
         "7654",
         "MARTIN",
         "SALESMAN",
         "7698",
         "21-09-1981",
         "1250",
         "1400",
         "2022-01-03",
         30,
         "Purchasing",
         "114",
         1700
        ],
        [
         "30",
         "7698",
         "SGR",
         "MANAGER",
         "7839",
         "05-01-1981",
         "2850",
         "null",
         "2022-01-04",
         30,
         "Purchasing",
         "114",
         1700
        ],
        [
         "10",
         "7782",
         "RAVI",
         "MANAGER",
         "7839",
         "06-09-1981",
         "2450",
         "null",
         "2022-01-02",
         10,
         "Administration",
         "200",
         1700
        ],
        [
         "20",
         "7788",
         "SCOTT",
         "ANALYST",
         "7566",
         "19-04-1987",
         "3000",
         "null",
         "2022-01-02",
         20,
         "Marketing",
         "201",
         1800
        ],
        [
         "10",
         "7839",
         "KING",
         "PRESIDENT",
         "null",
         "01-11-1981",
         "5000",
         "null",
         "2022-01-02",
         10,
         "Administration",
         "200",
         1700
        ],
        [
         "30",
         "7844",
         "TURNER",
         "SALESMAN",
         "7698",
         "09-08-1981",
         "1500",
         "0",
         "2022-01-02",
         30,
         "Purchasing",
         "114",
         1700
        ],
        [
         "20",
         "7876",
         "ADAMS",
         "CLERK",
         "7788",
         "23-05-1987",
         "1100",
         "null",
         "2022-01-03",
         20,
         "Marketing",
         "201",
         1800
        ],
        [
         "30",
         "7900",
         "JAMES",
         "CLERK",
         "7698",
         "12-03-1981",
         "950",
         "null",
         "2022-01-03",
         30,
         "Purchasing",
         "114",
         1700
        ],
        [
         "20",
         "7902",
         "FORD",
         "ANALYST",
         "7566",
         "12-03-1981",
         "3000",
         "null",
         "2022-01-03",
         20,
         "Marketing",
         "201",
         1800
        ],
        [
         "10",
         "7934",
         "MILLER",
         "CLERK",
         "7782",
         "01-03-1982",
         "1300",
         "null",
         "2022-01-03",
         10,
         "Administration",
         "200",
         1700
        ],
        [
         "80",
         "1234",
         "SEKHAR",
         "doctor",
         "7777",
         "null",
         "667",
         "78",
         "2022-01-03",
         80,
         "Sales",
         "145",
         2500
        ],
        [
         "20",
         "7369",
         "SMITH",
         "CLERK",
         "7902",
         "17-12-1980",
         "800",
         "null",
         "2022-01-04",
         20,
         "Marketing",
         "201",
         1800
        ],
        [
         "30",
         "7499",
         "ALLEN",
         "SALESMAN",
         "7698",
         "20-02-1981",
         "1600",
         "300",
         "2022-01-04",
         30,
         "Purchasing",
         "114",
         1700
        ],
        [
         "30",
         "7521",
         "WARD",
         "SALESMAN",
         "7698",
         "22-02-1981",
         "1250",
         "500",
         "2022-01-04",
         30,
         "Purchasing",
         "114",
         1700
        ],
        [
         "20",
         "7566",
         "JONES",
         "MANAGER",
         "7839",
         "04-02-1981",
         "2975",
         "null",
         "2022-01-04",
         20,
         "Marketing",
         "201",
         1800
        ],
        [
         "30",
         "7654",
         "MARTIN",
         "SALESMAN",
         "7698",
         "21-09-1981",
         "1250",
         "1400",
         "2022-01-05",
         30,
         "Purchasing",
         "114",
         1700
        ],
        [
         "30",
         "7698",
         "SGR",
         "MANAGER",
         "7839",
         "05-01-1981",
         "2850",
         "null",
         "2022-01-05",
         30,
         "Purchasing",
         "114",
         1700
        ],
        [
         "10",
         "7782",
         "RAVI",
         "MANAGER",
         "7839",
         "06-09-1981",
         "2450",
         "null",
         "2022-01-05",
         10,
         "Administration",
         "200",
         1700
        ],
        [
         "20",
         "7788",
         "SCOTT",
         "ANALYST",
         "7566",
         "19-04-1987",
         "3000",
         "null",
         "2022-01-06",
         20,
         "Marketing",
         "201",
         1800
        ],
        [
         "10",
         "7839",
         "KING",
         "PRESIDENT",
         "null",
         "01-11-1981",
         "5000",
         "null",
         "2022-01-06",
         10,
         "Administration",
         "200",
         1700
        ],
        [
         "30",
         "7844",
         "TURNER",
         "SALESMAN",
         "7698",
         "09-08-1981",
         "1500",
         "0",
         "2022-01-06",
         30,
         "Purchasing",
         "114",
         1700
        ],
        [
         "20",
         "7876",
         "ADAMS",
         "CLERK",
         "7788",
         "23-05-1987",
         "1100",
         "null",
         "2022-01-06",
         20,
         "Marketing",
         "201",
         1800
        ],
        [
         "30",
         "7900",
         "JAMES",
         "CLERK",
         "7698",
         "12-03-1981",
         "950",
         "null",
         "2022-01-07",
         30,
         "Purchasing",
         "114",
         1700
        ],
        [
         "20",
         "7902",
         "FORD",
         "ANALYST",
         "7566",
         "12-03-1981",
         "3000",
         "null",
         "2022-01-07",
         20,
         "Marketing",
         "201",
         1800
        ],
        [
         "10",
         "7934",
         "MILLER",
         "CLERK",
         "7782",
         "01-03-1982",
         "1300",
         "null",
         "2022-01-07",
         10,
         "Administration",
         "200",
         1700
        ],
        [
         "80",
         "1234",
         "RAM",
         "CLERK",
         "7457",
         "null",
         "494",
         "588",
         "2022-01-07",
         80,
         "Sales",
         "145",
         2500
        ]
       ],
       "datasetInfos": [],
       "dbfsResultPath": null,
       "isJsonSchema": true,
       "metadata": {},
       "overflow": false,
       "plotOptions": {
        "customPlotOptions": {},
        "displayType": "table",
        "pivotAggregation": null,
        "pivotColumns": null,
        "xColumns": null,
        "yColumns": null
       },
       "removedWidgets": [],
       "schema": [
        {
         "metadata": "{}",
         "name": "DEPTNO",
         "type": "\"string\""
        },
        {
         "metadata": "{}",
         "name": "EMPNO",
         "type": "\"string\""
        },
        {
         "metadata": "{}",
         "name": "ENAME",
         "type": "\"string\""
        },
        {
         "metadata": "{}",
         "name": "JOB",
         "type": "\"string\""
        },
        {
         "metadata": "{}",
         "name": "MGR",
         "type": "\"string\""
        },
        {
         "metadata": "{}",
         "name": "HIREDATE",
         "type": "\"string\""
        },
        {
         "metadata": "{}",
         "name": "SAL",
         "type": "\"string\""
        },
        {
         "metadata": "{}",
         "name": "COMM",
         "type": "\"string\""
        },
        {
         "metadata": "{}",
         "name": "UPDATED_DATE",
         "type": "\"string\""
        },
        {
         "metadata": "{}",
         "name": "EMP_DEPTNO",
         "type": "\"integer\""
        },
        {
         "metadata": "{}",
         "name": "DEPARTMENT_NAME",
         "type": "\"string\""
        },
        {
         "metadata": "{}",
         "name": "MANAGER_ID",
         "type": "\"string\""
        },
        {
         "metadata": "{}",
         "name": "LOCATION_ID",
         "type": "\"integer\""
        }
       ],
       "type": "table"
      }
     },
     "output_type": "display_data"
    }
   ],
   "source": [
    "%sql\n",
    "select * from delta_join_table"
   ]
  }
 ],
 "metadata": {
  "application/vnd.databricks.v1+notebook": {
   "dashboards": [],
   "language": "python",
   "notebookMetadata": {
    "mostRecentlyExecutedCommandWithImplicitDF": {
     "commandId": 2278425189029364,
     "dataframes": [
      "_sqldf"
     ]
    },
    "pythonIndentUnit": 4
   },
   "notebookName": "17 : How to handle duplicate column errors in delta table",
   "widgets": {}
  }
 },
 "nbformat": 4,
 "nbformat_minor": 0
}
