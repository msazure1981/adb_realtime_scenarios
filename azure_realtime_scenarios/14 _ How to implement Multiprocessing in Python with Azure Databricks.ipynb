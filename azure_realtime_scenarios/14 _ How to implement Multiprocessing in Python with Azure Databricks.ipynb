{
 "cells": [
  {
   "cell_type": "code",
   "execution_count": 0,
   "metadata": {
    "application/vnd.databricks.v1+cell": {
     "cellMetadata": {
      "byteLimit": 2048000,
      "rowLimit": 10000
     },
     "inputWidgets": {},
     "nuid": "8e9bac08-a1e3-4d22-9904-ea0054d4af0f",
     "showTitle": false,
     "title": ""
    }
   },
   "outputs": [],
   "source": [
    "# create new data file using python dynamically.\n",
    "def createFile(filename):\n",
    "    f=open(\"/tmp/files/\"+filename+\".txt\",\"w\")\n",
    "    for i in range(100000):\n",
    "        f.write(\"sample data writting : \"+str(i))\n",
    "    f.close()\n",
    "    print(\"File Created as : \"+str(filename))\n",
    "    return filename"
   ]
  },
  {
   "cell_type": "code",
   "execution_count": 0,
   "metadata": {
    "application/vnd.databricks.v1+cell": {
     "cellMetadata": {
      "byteLimit": 2048000,
      "rowLimit": 10000
     },
     "inputWidgets": {},
     "nuid": "b1a455a0-4e90-4529-87a4-29aa8f95c025",
     "showTitle": false,
     "title": ""
    }
   },
   "outputs": [
    {
     "output_type": "display_data",
     "data": {
      "text/html": [
       "<style scoped>\n",
       "  .ansiout {\n",
       "    display: block;\n",
       "    unicode-bidi: embed;\n",
       "    white-space: pre-wrap;\n",
       "    word-wrap: break-word;\n",
       "    word-break: break-all;\n",
       "    font-family: \"Menlo\", \"Monaco\", \"Consolas\", \"Ubuntu Mono\", \"Source Code Pro\", monospace;\n",
       "    font-size: 13px;\n",
       "    color: #555;\n",
       "    margin-left: 4px;\n",
       "    line-height: 19px;\n",
       "  }\n",
       "</style>\n",
       "<div class=\"ansiout\">res1: Boolean = true\n",
       "</div>"
      ]
     },
     "metadata": {
      "application/vnd.databricks.v1+output": {
       "addedWidgets": {},
       "arguments": {},
       "data": "<div class=\"ansiout\">res1: Boolean = true\n</div>",
       "datasetInfos": [],
       "metadata": {
        "isDbfsCommandResult": false
       },
       "removedWidgets": [],
       "type": "html"
      }
     },
     "output_type": "display_data"
    }
   ],
   "source": [
    "%fs mkdirs file:/tmp/files/"
   ]
  },
  {
   "cell_type": "code",
   "execution_count": 0,
   "metadata": {
    "application/vnd.databricks.v1+cell": {
     "cellMetadata": {
      "byteLimit": 2048000,
      "rowLimit": 10000
     },
     "inputWidgets": {},
     "nuid": "bd88cf73-5ec1-4b11-bb69-6e61851de6fb",
     "showTitle": false,
     "title": ""
    }
   },
   "outputs": [
    {
     "output_type": "display_data",
     "data": {
      "text/html": [
       "<style scoped>\n",
       "  .table-result-container {\n",
       "    max-height: 300px;\n",
       "    overflow: auto;\n",
       "  }\n",
       "  table, th, td {\n",
       "    border: 1px solid black;\n",
       "    border-collapse: collapse;\n",
       "  }\n",
       "  th, td {\n",
       "    padding: 5px;\n",
       "  }\n",
       "  th {\n",
       "    text-align: left;\n",
       "  }\n",
       "</style><div class='table-result-container'><table class='table-result'><thead style='background-color: white'><tr></tr></thead><tbody></tbody></table></div>"
      ]
     },
     "metadata": {
      "application/vnd.databricks.v1+output": {
       "addedWidgets": {},
       "aggData": [],
       "aggError": "",
       "aggOverflow": false,
       "aggSchema": [],
       "aggSeriesLimitReached": false,
       "aggType": "",
       "arguments": {},
       "columnCustomDisplayInfos": {},
       "data": [],
       "datasetInfos": [],
       "dbfsResultPath": null,
       "isJsonSchema": true,
       "metadata": {
        "isDbfsCommandResult": false
       },
       "overflow": false,
       "plotOptions": {
        "customPlotOptions": {},
        "displayType": "table",
        "pivotAggregation": null,
        "pivotColumns": null,
        "xColumns": null,
        "yColumns": null
       },
       "removedWidgets": [],
       "schema": [],
       "type": "table"
      }
     },
     "output_type": "display_data"
    }
   ],
   "source": [
    "%fs ls file:/tmp/files/"
   ]
  },
  {
   "cell_type": "code",
   "execution_count": 0,
   "metadata": {
    "application/vnd.databricks.v1+cell": {
     "cellMetadata": {
      "byteLimit": 2048000,
      "rowLimit": 10000
     },
     "inputWidgets": {},
     "nuid": "48fbf096-8fca-46e8-96b3-9e3a4f5f1f34",
     "showTitle": false,
     "title": ""
    }
   },
   "outputs": [
    {
     "output_type": "stream",
     "name": "stdout",
     "output_type": "stream",
     "text": [
      "File Created as : sample\nOut[3]: 'sample'"
     ]
    }
   ],
   "source": [
    "createFile(\"sample\")"
   ]
  },
  {
   "cell_type": "code",
   "execution_count": 0,
   "metadata": {
    "application/vnd.databricks.v1+cell": {
     "cellMetadata": {
      "byteLimit": 2048000,
      "rowLimit": 10000
     },
     "inputWidgets": {},
     "nuid": "302002f7-87a9-4037-a3cb-d8a11ec8a461",
     "showTitle": false,
     "title": ""
    }
   },
   "outputs": [
    {
     "output_type": "stream",
     "name": "stdout",
     "output_type": "stream",
     "text": [
      "File Created as : sample4\nFile Created as : sample28\nFile Created as : sample8\nFile Created as : sample20\nFile Created as : sample0\nFile Created as : sample24\nFile Created as : sample12\nFile Created as : sample16\nFile Created as : sample5\nFile Created as : sample1\nFile Created as : sample9\nFile Created as : sample13\nFile Created as : sample21\nFile Created as : sample29\nFile Created as : sample25\nFile Created as : sample17\nFile Created as : sample6\nFile Created as : sample2\nFile Created as : sample14\nFile Created as : sample30\nFile Created as : sample10\nFile Created as : sample22\nFile Created as : sample26\nFile Created as : sample18\nFile Created as : sample7\nFile Created as : sample3\nFile Created as : sample31\nFile Created as : sample15\nFile Created as : sample23\nFile Created as : sample11\nFile Created as : sample27\nFile Created as : sample19\nFile Created as : sample32\nFile Created as : sample36\nFile Created as : sample40\nFile Created as : sample48\nFile Created as : sample44\nFile Created as : sample56\nFile Created as : sample52\nFile Created as : sample60\nFile Created as : sample37\nFile Created as : sample33\nFile Created as : sample49\nFile Created as : sample41\nFile Created as : sample57\nFile Created as : sample45\nFile Created as : sample53\nFile Created as : sample61\nFile Created as : sample34\nFile Created as : sample38\nFile Created as : sample42\nFile Created as : sample50\nFile Created as : sample58\nFile Created as : sample54\nFile Created as : sample46\nFile Created as : sample62\nFile Created as : sample35\nFile Created as : sample39\nFile Created as : sample51\nFile Created as : sample43\nFile Created as : sample55\nFile Created as : sample59\nFile Created as : sample47\nFile Created as : sample63\nFile Created as : sample64\nFile Created as : sample68\nFile Created as : sample72\nFile Created as : sample76\nFile Created as : sample84\nFile Created as : sample80\nFile Created as : sample88\nFile Created as : sample92\nFile Created as : sample65\nFile Created as : sample69\nFile Created as : sample85\nFile Created as : sample77\nFile Created as : sample73\nFile Created as : sample81\nFile Created as : sample93\nFile Created as : sample89\nFile Created as : sample66\nFile Created as : sample78\nFile Created as : sample70\nFile Created as : sample86\nFile Created as : sample74\nFile Created as : sample82\nFile Created as : sample94\nFile Created as : sample90\nFile Created as : sample67\nFile Created as : sample71\nFile Created as : sample79\nFile Created as : sample87\nFile Created as : sample75\nFile Created as : sample83\nFile Created as : sample95\nFile Created as : sample91\nFile Created as : sample96\nFile Created as : sample97\nFile Created as : sample98\nFile Created as : sample99\nOut[4]: ['sample0',\n 'sample1',\n 'sample2',\n 'sample3',\n 'sample4',\n 'sample5',\n 'sample6',\n 'sample7',\n 'sample8',\n 'sample9',\n 'sample10',\n 'sample11',\n 'sample12',\n 'sample13',\n 'sample14',\n 'sample15',\n 'sample16',\n 'sample17',\n 'sample18',\n 'sample19',\n 'sample20',\n 'sample21',\n 'sample22',\n 'sample23',\n 'sample24',\n 'sample25',\n 'sample26',\n 'sample27',\n 'sample28',\n 'sample29',\n 'sample30',\n 'sample31',\n 'sample32',\n 'sample33',\n 'sample34',\n 'sample35',\n 'sample36',\n 'sample37',\n 'sample38',\n 'sample39',\n 'sample40',\n 'sample41',\n 'sample42',\n 'sample43',\n 'sample44',\n 'sample45',\n 'sample46',\n 'sample47',\n 'sample48',\n 'sample49',\n 'sample50',\n 'sample51',\n 'sample52',\n 'sample53',\n 'sample54',\n 'sample55',\n 'sample56',\n 'sample57',\n 'sample58',\n 'sample59',\n 'sample60',\n 'sample61',\n 'sample62',\n 'sample63',\n 'sample64',\n 'sample65',\n 'sample66',\n 'sample67',\n 'sample68',\n 'sample69',\n 'sample70',\n 'sample71',\n 'sample72',\n 'sample73',\n 'sample74',\n 'sample75',\n 'sample76',\n 'sample77',\n 'sample78',\n 'sample79',\n 'sample80',\n 'sample81',\n 'sample82',\n 'sample83',\n 'sample84',\n 'sample85',\n 'sample86',\n 'sample87',\n 'sample88',\n 'sample89',\n 'sample90',\n 'sample91',\n 'sample92',\n 'sample93',\n 'sample94',\n 'sample95',\n 'sample96',\n 'sample97',\n 'sample98',\n 'sample99']"
     ]
    }
   ],
   "source": [
    "from multiprocessing.pool import ThreadPool\n",
    "parallels = ThreadPool(8)\n",
    "parallels.map(createFile,[ \"sample\"+str(i) for i in range(100)])"
   ]
  },
  {
   "cell_type": "code",
   "execution_count": 0,
   "metadata": {
    "application/vnd.databricks.v1+cell": {
     "cellMetadata": {
      "byteLimit": 2048000,
      "rowLimit": 10000
     },
     "inputWidgets": {},
     "nuid": "fa3a0f4c-c2e8-4f6e-bd0c-2382e23488ac",
     "showTitle": false,
     "title": ""
    }
   },
   "outputs": [
    {
     "output_type": "display_data",
     "data": {
      "text/html": [
       "<style scoped>\n",
       "  .table-result-container {\n",
       "    max-height: 300px;\n",
       "    overflow: auto;\n",
       "  }\n",
       "  table, th, td {\n",
       "    border: 1px solid black;\n",
       "    border-collapse: collapse;\n",
       "  }\n",
       "  th, td {\n",
       "    padding: 5px;\n",
       "  }\n",
       "  th {\n",
       "    text-align: left;\n",
       "  }\n",
       "</style><div class='table-result-container'><table class='table-result'><thead style='background-color: white'><tr><th>path</th><th>name</th><th>size</th><th>modificationTime</th></tr></thead><tbody><tr><td>file:/tmp/files/sample88.txt</td><td>sample88.txt</td><td>2788890</td><td>1701671380166</td></tr><tr><td>file:/tmp/files/sample86.txt</td><td>sample86.txt</td><td>2788890</td><td>1701671381174</td></tr><tr><td>file:/tmp/files/sample27.txt</td><td>sample27.txt</td><td>2788890</td><td>1701671377618</td></tr><tr><td>file:/tmp/files/sample93.txt</td><td>sample93.txt</td><td>2788890</td><td>1701671380758</td></tr><tr><td>file:/tmp/files/sample21.txt</td><td>sample21.txt</td><td>2788890</td><td>1701671376542</td></tr><tr><td>file:/tmp/files/sample82.txt</td><td>sample82.txt</td><td>2788890</td><td>1701671381214</td></tr><tr><td>file:/tmp/files/sample19.txt</td><td>sample19.txt</td><td>2788890</td><td>1701671377662</td></tr><tr><td>file:/tmp/files/sample1.txt</td><td>sample1.txt</td><td>2788890</td><td>1701671376510</td></tr><tr><td>file:/tmp/files/sample61.txt</td><td>sample61.txt</td><td>2788890</td><td>1701671378738</td></tr><tr><td>file:/tmp/files/sample12.txt</td><td>sample12.txt</td><td>2788890</td><td>1701671376062</td></tr><tr><td>file:/tmp/files/sample8.txt</td><td>sample8.txt</td><td>2788890</td><td>1701671376042</td></tr><tr><td>file:/tmp/files/sample17.txt</td><td>sample17.txt</td><td>2788890</td><td>1701671376586</td></tr><tr><td>file:/tmp/files/sample43.txt</td><td>sample43.txt</td><td>2788890</td><td>1701671379630</td></tr><tr><td>file:/tmp/files/sample73.txt</td><td>sample73.txt</td><td>2788890</td><td>1701671380698</td></tr><tr><td>file:/tmp/files/sample47.txt</td><td>sample47.txt</td><td>2788890</td><td>1701671379666</td></tr><tr><td>file:/tmp/files/sample84.txt</td><td>sample84.txt</td><td>2788890</td><td>1701671380154</td></tr><tr><td>file:/tmp/files/sample44.txt</td><td>sample44.txt</td><td>2788890</td><td>1701671378202</td></tr><tr><td>file:/tmp/files/sample90.txt</td><td>sample90.txt</td><td>2788890</td><td>1701671381250</td></tr><tr><td>file:/tmp/files/sample30.txt</td><td>sample30.txt</td><td>2788890</td><td>1701671377046</td></tr><tr><td>file:/tmp/files/sample79.txt</td><td>sample79.txt</td><td>2788890</td><td>1701671381642</td></tr><tr><td>file:/tmp/files/sample91.txt</td><td>sample91.txt</td><td>2788890</td><td>1701671381690</td></tr><tr><td>file:/tmp/files/sample66.txt</td><td>sample66.txt</td><td>2788890</td><td>1701671381114</td></tr><tr><td>file:/tmp/files/sample77.txt</td><td>sample77.txt</td><td>2788890</td><td>1701671380690</td></tr><tr><td>file:/tmp/files/sample76.txt</td><td>sample76.txt</td><td>2788890</td><td>1701671380150</td></tr><tr><td>file:/tmp/files/sample31.txt</td><td>sample31.txt</td><td>2788890</td><td>1701671377594</td></tr><tr><td>file:/tmp/files/sample14.txt</td><td>sample14.txt</td><td>2788890</td><td>1701671377042</td></tr><tr><td>file:/tmp/files/sample0.txt</td><td>sample0.txt</td><td>2788890</td><td>1701671376046</td></tr><tr><td>file:/tmp/files/sample99.txt</td><td>sample99.txt</td><td>2788890</td><td>1701671381882</td></tr><tr><td>file:/tmp/files/sample32.txt</td><td>sample32.txt</td><td>2788890</td><td>1701671378094</td></tr><tr><td>file:/tmp/files/sample9.txt</td><td>sample9.txt</td><td>2788890</td><td>1701671376518</td></tr><tr><td>file:/tmp/files/sample13.txt</td><td>sample13.txt</td><td>2788890</td><td>1701671376538</td></tr><tr><td>file:/tmp/files/sample37.txt</td><td>sample37.txt</td><td>2788890</td><td>1701671378578</td></tr><tr><td>file:/tmp/files/sample46.txt</td><td>sample46.txt</td><td>2788890</td><td>1701671379194</td></tr><tr><td>file:/tmp/files/sample78.txt</td><td>sample78.txt</td><td>2788890</td><td>1701671381162</td></tr><tr><td>file:/tmp/files/sample42.txt</td><td>sample42.txt</td><td>2788890</td><td>1701671379134</td></tr><tr><td>file:/tmp/files/sample64.txt</td><td>sample64.txt</td><td>2788890</td><td>1701671380042</td></tr><tr><td>file:/tmp/files/sample71.txt</td><td>sample71.txt</td><td>2788890</td><td>1701671381622</td></tr><tr><td>file:/tmp/files/sample52.txt</td><td>sample52.txt</td><td>2788890</td><td>1701671378226</td></tr><tr><td>file:/tmp/files/sample50.txt</td><td>sample50.txt</td><td>2788890</td><td>1701671379154</td></tr><tr><td>file:/tmp/files/sample80.txt</td><td>sample80.txt</td><td>2788890</td><td>1701671380162</td></tr><tr><td>file:/tmp/files/sample7.txt</td><td>sample7.txt</td><td>2788890</td><td>1701671377514</td></tr><tr><td>file:/tmp/files/sample29.txt</td><td>sample29.txt</td><td>2788890</td><td>1701671376542</td></tr><tr><td>file:/tmp/files/sample45.txt</td><td>sample45.txt</td><td>2788890</td><td>1701671378690</td></tr><tr><td>file:/tmp/files/sample54.txt</td><td>sample54.txt</td><td>2788890</td><td>1701671379178</td></tr><tr><td>file:/tmp/files/sample40.txt</td><td>sample40.txt</td><td>2788890</td><td>1701671378186</td></tr><tr><td>file:/tmp/files/sample89.txt</td><td>sample89.txt</td><td>2788890</td><td>1701671380762</td></tr><tr><td>file:/tmp/files/sample10.txt</td><td>sample10.txt</td><td>2788890</td><td>1701671377054</td></tr><tr><td>file:/tmp/files/sample49.txt</td><td>sample49.txt</td><td>2788890</td><td>1701671378642</td></tr><tr><td>file:/tmp/files/sample20.txt</td><td>sample20.txt</td><td>2788890</td><td>1701671376046</td></tr><tr><td>file:/tmp/files/sample57.txt</td><td>sample57.txt</td><td>2788890</td><td>1701671378662</td></tr><tr><td>file:/tmp/files/sample35.txt</td><td>sample35.txt</td><td>2788890</td><td>1701671379546</td></tr><tr><td>file:/tmp/files/sample81.txt</td><td>sample81.txt</td><td>2788890</td><td>1701671380722</td></tr><tr><td>file:/tmp/files/sample60.txt</td><td>sample60.txt</td><td>2788890</td><td>1701671378254</td></tr><tr><td>file:/tmp/files/sample15.txt</td><td>sample15.txt</td><td>2788890</td><td>1701671377598</td></tr><tr><td>file:/tmp/files/sample33.txt</td><td>sample33.txt</td><td>2788890</td><td>1701671378582</td></tr><tr><td>file:/tmp/files/sample63.txt</td><td>sample63.txt</td><td>2788890</td><td>1701671379702</td></tr><tr><td>file:/tmp/files/sample55.txt</td><td>sample55.txt</td><td>2788890</td><td>1701671379638</td></tr><tr><td>file:/tmp/files/sample70.txt</td><td>sample70.txt</td><td>2788890</td><td>1701671381166</td></tr><tr><td>file:/tmp/files/sample74.txt</td><td>sample74.txt</td><td>2788890</td><td>1701671381202</td></tr><tr><td>file:/tmp/files/sample34.txt</td><td>sample34.txt</td><td>2788890</td><td>1701671379070</td></tr><tr><td>file:/tmp/files/sample83.txt</td><td>sample83.txt</td><td>2788890</td><td>1701671381674</td></tr><tr><td>file:/tmp/files/sample62.txt</td><td>sample62.txt</td><td>2788890</td><td>1701671379230</td></tr><tr><td>file:/tmp/files/sample22.txt</td><td>sample22.txt</td><td>2788890</td><td>1701671377058</td></tr><tr><td>file:/tmp/files/sample75.txt</td><td>sample75.txt</td><td>2788890</td><td>1701671381666</td></tr><tr><td>file:/tmp/files/sample92.txt</td><td>sample92.txt</td><td>2788890</td><td>1701671380222</td></tr><tr><td>file:/tmp/files/sample23.txt</td><td>sample23.txt</td><td>2788890</td><td>1701671377598</td></tr><tr><td>file:/tmp/files/sample18.txt</td><td>sample18.txt</td><td>2788890</td><td>1701671377122</td></tr><tr><td>file:/tmp/files/sample59.txt</td><td>sample59.txt</td><td>2788890</td><td>1701671379658</td></tr><tr><td>file:/tmp/files/sample24.txt</td><td>sample24.txt</td><td>2788890</td><td>1701671376054</td></tr><tr><td>file:/tmp/files/sample94.txt</td><td>sample94.txt</td><td>2788890</td><td>1701671381250</td></tr><tr><td>file:/tmp/files/sample56.txt</td><td>sample56.txt</td><td>2788890</td><td>1701671378210</td></tr><tr><td>file:/tmp/files/sample25.txt</td><td>sample25.txt</td><td>2788890</td><td>1701671376550</td></tr><tr><td>file:/tmp/files/sample41.txt</td><td>sample41.txt</td><td>2788890</td><td>1701671378666</td></tr><tr><td>file:/tmp/files/sample16.txt</td><td>sample16.txt</td><td>2788890</td><td>1701671376066</td></tr><tr><td>file:/tmp/files/sample48.txt</td><td>sample48.txt</td><td>2788890</td><td>1701671378190</td></tr><tr><td>file:/tmp/files/sample67.txt</td><td>sample67.txt</td><td>2788890</td><td>1701671381602</td></tr><tr><td>file:/tmp/files/sample4.txt</td><td>sample4.txt</td><td>2788890</td><td>1701671376022</td></tr><tr><td>file:/tmp/files/sample28.txt</td><td>sample28.txt</td><td>2788890</td><td>1701671376030</td></tr><tr><td>file:/tmp/files/sample85.txt</td><td>sample85.txt</td><td>2788890</td><td>1701671380674</td></tr><tr><td>file:/tmp/files/sample36.txt</td><td>sample36.txt</td><td>2788890</td><td>1701671378098</td></tr><tr><td>file:/tmp/files/sample58.txt</td><td>sample58.txt</td><td>2788890</td><td>1701671379174</td></tr><tr><td>file:/tmp/files/sample87.txt</td><td>sample87.txt</td><td>2788890</td><td>1701671381654</td></tr><tr><td>file:/tmp/files/sample6.txt</td><td>sample6.txt</td><td>2788890</td><td>1701671376994</td></tr><tr><td>file:/tmp/files/sample11.txt</td><td>sample11.txt</td><td>2788890</td><td>1701671377602</td></tr><tr><td>file:/tmp/files/sample98.txt</td><td>sample98.txt</td><td>2788890</td><td>1701671381830</td></tr><tr><td>file:/tmp/files/sample53.txt</td><td>sample53.txt</td><td>2788890</td><td>1701671378702</td></tr><tr><td>file:/tmp/files/sample97.txt</td><td>sample97.txt</td><td>2788890</td><td>1701671381774</td></tr><tr><td>file:/tmp/files/sample72.txt</td><td>sample72.txt</td><td>2788890</td><td>1701671380114</td></tr><tr><td>file:/tmp/files/sample69.txt</td><td>sample69.txt</td><td>2788890</td><td>1701671380658</td></tr><tr><td>file:/tmp/files/sample65.txt</td><td>sample65.txt</td><td>2788890</td><td>1701671380638</td></tr><tr><td>file:/tmp/files/sample95.txt</td><td>sample95.txt</td><td>2788890</td><td>1701671381686</td></tr><tr><td>file:/tmp/files/sample.txt</td><td>sample.txt</td><td>2788890</td><td>1701671306654</td></tr><tr><td>file:/tmp/files/sample5.txt</td><td>sample5.txt</td><td>2788890</td><td>1701671376478</td></tr><tr><td>file:/tmp/files/sample3.txt</td><td>sample3.txt</td><td>2788890</td><td>1701671377570</td></tr><tr><td>file:/tmp/files/sample38.txt</td><td>sample38.txt</td><td>2788890</td><td>1701671379094</td></tr><tr><td>file:/tmp/files/sample39.txt</td><td>sample39.txt</td><td>2788890</td><td>1701671379574</td></tr><tr><td>file:/tmp/files/sample26.txt</td><td>sample26.txt</td><td>2788890</td><td>1701671377078</td></tr><tr><td>file:/tmp/files/sample96.txt</td><td>sample96.txt</td><td>2788890</td><td>1701671381726</td></tr><tr><td>file:/tmp/files/sample68.txt</td><td>sample68.txt</td><td>2788890</td><td>1701671380098</td></tr><tr><td>file:/tmp/files/sample51.txt</td><td>sample51.txt</td><td>2788890</td><td>1701671379614</td></tr><tr><td>file:/tmp/files/sample2.txt</td><td>sample2.txt</td><td>2788890</td><td>1701671377026</td></tr></tbody></table></div>"
      ]
     },
     "metadata": {
      "application/vnd.databricks.v1+output": {
       "addedWidgets": {},
       "aggData": [],
       "aggError": "",
       "aggOverflow": false,
       "aggSchema": [],
       "aggSeriesLimitReached": false,
       "aggType": "",
       "arguments": {},
       "columnCustomDisplayInfos": {},
       "data": [
        [
         "file:/tmp/files/sample88.txt",
         "sample88.txt",
         2788890,
         1701671380166
        ],
        [
         "file:/tmp/files/sample86.txt",
         "sample86.txt",
         2788890,
         1701671381174
        ],
        [
         "file:/tmp/files/sample27.txt",
         "sample27.txt",
         2788890,
         1701671377618
        ],
        [
         "file:/tmp/files/sample93.txt",
         "sample93.txt",
         2788890,
         1701671380758
        ],
        [
         "file:/tmp/files/sample21.txt",
         "sample21.txt",
         2788890,
         1701671376542
        ],
        [
         "file:/tmp/files/sample82.txt",
         "sample82.txt",
         2788890,
         1701671381214
        ],
        [
         "file:/tmp/files/sample19.txt",
         "sample19.txt",
         2788890,
         1701671377662
        ],
        [
         "file:/tmp/files/sample1.txt",
         "sample1.txt",
         2788890,
         1701671376510
        ],
        [
         "file:/tmp/files/sample61.txt",
         "sample61.txt",
         2788890,
         1701671378738
        ],
        [
         "file:/tmp/files/sample12.txt",
         "sample12.txt",
         2788890,
         1701671376062
        ],
        [
         "file:/tmp/files/sample8.txt",
         "sample8.txt",
         2788890,
         1701671376042
        ],
        [
         "file:/tmp/files/sample17.txt",
         "sample17.txt",
         2788890,
         1701671376586
        ],
        [
         "file:/tmp/files/sample43.txt",
         "sample43.txt",
         2788890,
         1701671379630
        ],
        [
         "file:/tmp/files/sample73.txt",
         "sample73.txt",
         2788890,
         1701671380698
        ],
        [
         "file:/tmp/files/sample47.txt",
         "sample47.txt",
         2788890,
         1701671379666
        ],
        [
         "file:/tmp/files/sample84.txt",
         "sample84.txt",
         2788890,
         1701671380154
        ],
        [
         "file:/tmp/files/sample44.txt",
         "sample44.txt",
         2788890,
         1701671378202
        ],
        [
         "file:/tmp/files/sample90.txt",
         "sample90.txt",
         2788890,
         1701671381250
        ],
        [
         "file:/tmp/files/sample30.txt",
         "sample30.txt",
         2788890,
         1701671377046
        ],
        [
         "file:/tmp/files/sample79.txt",
         "sample79.txt",
         2788890,
         1701671381642
        ],
        [
         "file:/tmp/files/sample91.txt",
         "sample91.txt",
         2788890,
         1701671381690
        ],
        [
         "file:/tmp/files/sample66.txt",
         "sample66.txt",
         2788890,
         1701671381114
        ],
        [
         "file:/tmp/files/sample77.txt",
         "sample77.txt",
         2788890,
         1701671380690
        ],
        [
         "file:/tmp/files/sample76.txt",
         "sample76.txt",
         2788890,
         1701671380150
        ],
        [
         "file:/tmp/files/sample31.txt",
         "sample31.txt",
         2788890,
         1701671377594
        ],
        [
         "file:/tmp/files/sample14.txt",
         "sample14.txt",
         2788890,
         1701671377042
        ],
        [
         "file:/tmp/files/sample0.txt",
         "sample0.txt",
         2788890,
         1701671376046
        ],
        [
         "file:/tmp/files/sample99.txt",
         "sample99.txt",
         2788890,
         1701671381882
        ],
        [
         "file:/tmp/files/sample32.txt",
         "sample32.txt",
         2788890,
         1701671378094
        ],
        [
         "file:/tmp/files/sample9.txt",
         "sample9.txt",
         2788890,
         1701671376518
        ],
        [
         "file:/tmp/files/sample13.txt",
         "sample13.txt",
         2788890,
         1701671376538
        ],
        [
         "file:/tmp/files/sample37.txt",
         "sample37.txt",
         2788890,
         1701671378578
        ],
        [
         "file:/tmp/files/sample46.txt",
         "sample46.txt",
         2788890,
         1701671379194
        ],
        [
         "file:/tmp/files/sample78.txt",
         "sample78.txt",
         2788890,
         1701671381162
        ],
        [
         "file:/tmp/files/sample42.txt",
         "sample42.txt",
         2788890,
         1701671379134
        ],
        [
         "file:/tmp/files/sample64.txt",
         "sample64.txt",
         2788890,
         1701671380042
        ],
        [
         "file:/tmp/files/sample71.txt",
         "sample71.txt",
         2788890,
         1701671381622
        ],
        [
         "file:/tmp/files/sample52.txt",
         "sample52.txt",
         2788890,
         1701671378226
        ],
        [
         "file:/tmp/files/sample50.txt",
         "sample50.txt",
         2788890,
         1701671379154
        ],
        [
         "file:/tmp/files/sample80.txt",
         "sample80.txt",
         2788890,
         1701671380162
        ],
        [
         "file:/tmp/files/sample7.txt",
         "sample7.txt",
         2788890,
         1701671377514
        ],
        [
         "file:/tmp/files/sample29.txt",
         "sample29.txt",
         2788890,
         1701671376542
        ],
        [
         "file:/tmp/files/sample45.txt",
         "sample45.txt",
         2788890,
         1701671378690
        ],
        [
         "file:/tmp/files/sample54.txt",
         "sample54.txt",
         2788890,
         1701671379178
        ],
        [
         "file:/tmp/files/sample40.txt",
         "sample40.txt",
         2788890,
         1701671378186
        ],
        [
         "file:/tmp/files/sample89.txt",
         "sample89.txt",
         2788890,
         1701671380762
        ],
        [
         "file:/tmp/files/sample10.txt",
         "sample10.txt",
         2788890,
         1701671377054
        ],
        [
         "file:/tmp/files/sample49.txt",
         "sample49.txt",
         2788890,
         1701671378642
        ],
        [
         "file:/tmp/files/sample20.txt",
         "sample20.txt",
         2788890,
         1701671376046
        ],
        [
         "file:/tmp/files/sample57.txt",
         "sample57.txt",
         2788890,
         1701671378662
        ],
        [
         "file:/tmp/files/sample35.txt",
         "sample35.txt",
         2788890,
         1701671379546
        ],
        [
         "file:/tmp/files/sample81.txt",
         "sample81.txt",
         2788890,
         1701671380722
        ],
        [
         "file:/tmp/files/sample60.txt",
         "sample60.txt",
         2788890,
         1701671378254
        ],
        [
         "file:/tmp/files/sample15.txt",
         "sample15.txt",
         2788890,
         1701671377598
        ],
        [
         "file:/tmp/files/sample33.txt",
         "sample33.txt",
         2788890,
         1701671378582
        ],
        [
         "file:/tmp/files/sample63.txt",
         "sample63.txt",
         2788890,
         1701671379702
        ],
        [
         "file:/tmp/files/sample55.txt",
         "sample55.txt",
         2788890,
         1701671379638
        ],
        [
         "file:/tmp/files/sample70.txt",
         "sample70.txt",
         2788890,
         1701671381166
        ],
        [
         "file:/tmp/files/sample74.txt",
         "sample74.txt",
         2788890,
         1701671381202
        ],
        [
         "file:/tmp/files/sample34.txt",
         "sample34.txt",
         2788890,
         1701671379070
        ],
        [
         "file:/tmp/files/sample83.txt",
         "sample83.txt",
         2788890,
         1701671381674
        ],
        [
         "file:/tmp/files/sample62.txt",
         "sample62.txt",
         2788890,
         1701671379230
        ],
        [
         "file:/tmp/files/sample22.txt",
         "sample22.txt",
         2788890,
         1701671377058
        ],
        [
         "file:/tmp/files/sample75.txt",
         "sample75.txt",
         2788890,
         1701671381666
        ],
        [
         "file:/tmp/files/sample92.txt",
         "sample92.txt",
         2788890,
         1701671380222
        ],
        [
         "file:/tmp/files/sample23.txt",
         "sample23.txt",
         2788890,
         1701671377598
        ],
        [
         "file:/tmp/files/sample18.txt",
         "sample18.txt",
         2788890,
         1701671377122
        ],
        [
         "file:/tmp/files/sample59.txt",
         "sample59.txt",
         2788890,
         1701671379658
        ],
        [
         "file:/tmp/files/sample24.txt",
         "sample24.txt",
         2788890,
         1701671376054
        ],
        [
         "file:/tmp/files/sample94.txt",
         "sample94.txt",
         2788890,
         1701671381250
        ],
        [
         "file:/tmp/files/sample56.txt",
         "sample56.txt",
         2788890,
         1701671378210
        ],
        [
         "file:/tmp/files/sample25.txt",
         "sample25.txt",
         2788890,
         1701671376550
        ],
        [
         "file:/tmp/files/sample41.txt",
         "sample41.txt",
         2788890,
         1701671378666
        ],
        [
         "file:/tmp/files/sample16.txt",
         "sample16.txt",
         2788890,
         1701671376066
        ],
        [
         "file:/tmp/files/sample48.txt",
         "sample48.txt",
         2788890,
         1701671378190
        ],
        [
         "file:/tmp/files/sample67.txt",
         "sample67.txt",
         2788890,
         1701671381602
        ],
        [
         "file:/tmp/files/sample4.txt",
         "sample4.txt",
         2788890,
         1701671376022
        ],
        [
         "file:/tmp/files/sample28.txt",
         "sample28.txt",
         2788890,
         1701671376030
        ],
        [
         "file:/tmp/files/sample85.txt",
         "sample85.txt",
         2788890,
         1701671380674
        ],
        [
         "file:/tmp/files/sample36.txt",
         "sample36.txt",
         2788890,
         1701671378098
        ],
        [
         "file:/tmp/files/sample58.txt",
         "sample58.txt",
         2788890,
         1701671379174
        ],
        [
         "file:/tmp/files/sample87.txt",
         "sample87.txt",
         2788890,
         1701671381654
        ],
        [
         "file:/tmp/files/sample6.txt",
         "sample6.txt",
         2788890,
         1701671376994
        ],
        [
         "file:/tmp/files/sample11.txt",
         "sample11.txt",
         2788890,
         1701671377602
        ],
        [
         "file:/tmp/files/sample98.txt",
         "sample98.txt",
         2788890,
         1701671381830
        ],
        [
         "file:/tmp/files/sample53.txt",
         "sample53.txt",
         2788890,
         1701671378702
        ],
        [
         "file:/tmp/files/sample97.txt",
         "sample97.txt",
         2788890,
         1701671381774
        ],
        [
         "file:/tmp/files/sample72.txt",
         "sample72.txt",
         2788890,
         1701671380114
        ],
        [
         "file:/tmp/files/sample69.txt",
         "sample69.txt",
         2788890,
         1701671380658
        ],
        [
         "file:/tmp/files/sample65.txt",
         "sample65.txt",
         2788890,
         1701671380638
        ],
        [
         "file:/tmp/files/sample95.txt",
         "sample95.txt",
         2788890,
         1701671381686
        ],
        [
         "file:/tmp/files/sample.txt",
         "sample.txt",
         2788890,
         1701671306654
        ],
        [
         "file:/tmp/files/sample5.txt",
         "sample5.txt",
         2788890,
         1701671376478
        ],
        [
         "file:/tmp/files/sample3.txt",
         "sample3.txt",
         2788890,
         1701671377570
        ],
        [
         "file:/tmp/files/sample38.txt",
         "sample38.txt",
         2788890,
         1701671379094
        ],
        [
         "file:/tmp/files/sample39.txt",
         "sample39.txt",
         2788890,
         1701671379574
        ],
        [
         "file:/tmp/files/sample26.txt",
         "sample26.txt",
         2788890,
         1701671377078
        ],
        [
         "file:/tmp/files/sample96.txt",
         "sample96.txt",
         2788890,
         1701671381726
        ],
        [
         "file:/tmp/files/sample68.txt",
         "sample68.txt",
         2788890,
         1701671380098
        ],
        [
         "file:/tmp/files/sample51.txt",
         "sample51.txt",
         2788890,
         1701671379614
        ],
        [
         "file:/tmp/files/sample2.txt",
         "sample2.txt",
         2788890,
         1701671377026
        ]
       ],
       "datasetInfos": [],
       "dbfsResultPath": null,
       "isJsonSchema": true,
       "metadata": {
        "isDbfsCommandResult": false
       },
       "overflow": false,
       "plotOptions": {
        "customPlotOptions": {},
        "displayType": "table",
        "pivotAggregation": null,
        "pivotColumns": null,
        "xColumns": null,
        "yColumns": null
       },
       "removedWidgets": [],
       "schema": [
        {
         "metadata": "{}",
         "name": "path",
         "type": "\"string\""
        },
        {
         "metadata": "{}",
         "name": "name",
         "type": "\"string\""
        },
        {
         "metadata": "{}",
         "name": "size",
         "type": "\"long\""
        },
        {
         "metadata": "{}",
         "name": "modificationTime",
         "type": "\"long\""
        }
       ],
       "type": "table"
      }
     },
     "output_type": "display_data"
    }
   ],
   "source": [
    "%fs ls file:/tmp/files/"
   ]
  }
 ],
 "metadata": {
  "application/vnd.databricks.v1+notebook": {
   "dashboards": [],
   "language": "python",
   "notebookMetadata": {
    "mostRecentlyExecutedCommandWithImplicitDF": {
     "commandId": 3398337899375293,
     "dataframes": [
      "_sqldf"
     ]
    },
    "pythonIndentUnit": 4
   },
   "notebookName": "14 : How to implement Multiprocessing in Python with Azure Databricks",
   "widgets": {}
  }
 },
 "nbformat": 4,
 "nbformat_minor": 0
}
