{
 "cells": [
  {
   "cell_type": "code",
   "execution_count": 0,
   "metadata": {
    "application/vnd.databricks.v1+cell": {
     "cellMetadata": {},
     "inputWidgets": {},
     "nuid": "4cfcc1b8-6619-4455-b2fd-15da12760ba2",
     "showTitle": false,
     "title": ""
    }
   },
   "outputs": [],
   "source": [
    "#refer https://www.youtube.com/watch?v=bErn1bHAyqw&list=PL50mYnndduIF868zbDUPMBpJpwJwd4NZh&index=1"
   ]
  }
 ],
 "metadata": {
  "application/vnd.databricks.v1+notebook": {
   "dashboards": [],
   "language": "python",
   "notebookMetadata": {
    "pythonIndentUnit": 4
   },
   "notebookName": "23 : How do I select a column name with spaces_backtick or acute_acent",
   "widgets": {}
  }
 },
 "nbformat": 4,
 "nbformat_minor": 0
}
