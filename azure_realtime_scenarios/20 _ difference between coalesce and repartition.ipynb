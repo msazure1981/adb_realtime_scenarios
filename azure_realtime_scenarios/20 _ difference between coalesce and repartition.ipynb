{
 "cells": [
  {
   "cell_type": "code",
   "execution_count": 0,
   "metadata": {
    "application/vnd.databricks.v1+cell": {
     "cellMetadata": {},
     "inputWidgets": {},
     "nuid": "e3a54558-5089-43c6-9b21-cd273b92d321",
     "showTitle": false,
     "title": ""
    }
   },
   "outputs": [],
   "source": [
    "# RDD LEVEL:\n",
    "#     COALESCE()\n",
    "#     1.Can not increase partitons by default,only for descrease partitons\n",
    "#     2.Uses the nearest partitons,it wount do shuffle\n",
    "#     NOTE:keep shuffle parametr True in COALESCE(),it will work for increase partitons\n",
    "\n",
    "#     REPARTITION()\n",
    "#     1.Increase/Descrease partitons\n",
    "#     2.Always recreates partitons either increase/descrease,it will shuffle always\n",
    "    \n",
    "# DATAFRAME LEVEL:\n",
    "#     COALESCE()\n",
    "#     1.Can not increase partitons,only for descrease partitons\n",
    "#     2.Uses the nearest partitons,it wount do shuffle\n",
    "#     NOTE:convert DF to RDD then,it will work for increase partitons, and finally convert to DF by toDF()\n",
    "\n",
    "#     REPARTITION()\n",
    "#     1.Increase/Descrease partitons\n",
    "#     2.Always recreates partitons either increase/descrease,it will shuffle always\n",
    "#     NOTE:Has additional parametr col name(DEPT..etc) in REPARTITION(),it will work for column based partitons\n",
    "    "
   ]
  },
  {
   "cell_type": "code",
   "execution_count": 0,
   "metadata": {
    "application/vnd.databricks.v1+cell": {
     "cellMetadata": {
      "byteLimit": 2048000,
      "rowLimit": 10000
     },
     "inputWidgets": {},
     "nuid": "9191cd54-cc15-4c0a-a260-ea536e33c846",
     "showTitle": false,
     "title": ""
    }
   },
   "outputs": [],
   "source": [
    "rdd = sc.parallelize(range(10),4)"
   ]
  },
  {
   "cell_type": "code",
   "execution_count": 0,
   "metadata": {
    "application/vnd.databricks.v1+cell": {
     "cellMetadata": {
      "byteLimit": 2048000,
      "rowLimit": 10000
     },
     "inputWidgets": {},
     "nuid": "14fe3bcd-c54a-4b18-bc78-80e45fba07f3",
     "showTitle": false,
     "title": ""
    }
   },
   "outputs": [
    {
     "output_type": "stream",
     "name": "stdout",
     "output_type": "stream",
     "text": [
      "Out[3]: [[0, 1], [2, 3, 4], [5, 6], [7, 8, 9]]"
     ]
    }
   ],
   "source": [
    "\n",
    "rdd.glom().collect()"
   ]
  },
  {
   "cell_type": "code",
   "execution_count": 0,
   "metadata": {
    "application/vnd.databricks.v1+cell": {
     "cellMetadata": {
      "byteLimit": 2048000,
      "rowLimit": 10000
     },
     "inputWidgets": {},
     "nuid": "ad32ba23-112f-417c-a4bf-e2da3808a89e",
     "showTitle": false,
     "title": ""
    }
   },
   "outputs": [],
   "source": [
    "rdd1 = rdd.coalesce(6,True)  # default it works for only decreasing no of partitions\n",
    "rdd2 = rdd.repartition(6) # it works for increasing/decreasing no of partitions"
   ]
  },
  {
   "cell_type": "code",
   "execution_count": 0,
   "metadata": {
    "application/vnd.databricks.v1+cell": {
     "cellMetadata": {
      "byteLimit": 2048000,
      "rowLimit": 10000
     },
     "inputWidgets": {},
     "nuid": "e3661c9c-241e-4f74-8aa5-b7f1828fd1c3",
     "showTitle": false,
     "title": ""
    }
   },
   "outputs": [
    {
     "output_type": "stream",
     "name": "stdout",
     "output_type": "stream",
     "text": [
      "original rdd :  [[0, 1], [2, 3, 4], [5, 6], [7, 8, 9]]\ncoalesce 2 :  [[7, 8, 9], [], [], [0, 1], [2, 3, 4], [5, 6]]\nrepartition 2  :  [[7, 8, 9], [], [], [0, 1], [2, 3, 4], [5, 6]]\n"
     ]
    }
   ],
   "source": [
    "print('original rdd : ',rdd.glom().collect())\n",
    "print('coalesce 2 : ',rdd1.glom().collect())\n",
    "print('repartition 2  : ',rdd2.glom().collect())"
   ]
  },
  {
   "cell_type": "code",
   "execution_count": 0,
   "metadata": {
    "application/vnd.databricks.v1+cell": {
     "cellMetadata": {
      "byteLimit": 2048000,
      "rowLimit": 10000
     },
     "inputWidgets": {},
     "nuid": "8b4e2ed3-325b-432b-9703-6ffb358815ce",
     "showTitle": false,
     "title": ""
    }
   },
   "outputs": [],
   "source": [
    "df = spark.read.csv(\"dbfs:/FileStore/tables/emp-1.csv\",header=True)"
   ]
  },
  {
   "cell_type": "code",
   "execution_count": 0,
   "metadata": {
    "application/vnd.databricks.v1+cell": {
     "cellMetadata": {
      "byteLimit": 2048000,
      "rowLimit": 10000
     },
     "inputWidgets": {},
     "nuid": "9bc4e32b-92a4-4e60-85f2-d502cb725bc4",
     "showTitle": false,
     "title": ""
    }
   },
   "outputs": [],
   "source": [
    "#repartition\n",
    "from pyspark.sql.functions import spark_partition_id\n",
    "df1=df.repartition(4,\"DEPTNO\").withColumn(\"partition_id\",spark_partition_id())"
   ]
  },
  {
   "cell_type": "code",
   "execution_count": 0,
   "metadata": {
    "application/vnd.databricks.v1+cell": {
     "cellMetadata": {
      "byteLimit": 2048000,
      "rowLimit": 10000
     },
     "inputWidgets": {},
     "nuid": "f0cb3a20-58ee-4511-bff9-6a06e737a654",
     "showTitle": false,
     "title": ""
    }
   },
   "outputs": [
    {
     "output_type": "stream",
     "name": "stdout",
     "output_type": "stream",
     "text": [
      "+-----+------+--------+----+----------+----+----+------+------------+------------+\n|EMPNO| ENAME|     JOB| MGR|  HIREDATE| SAL|COMM|DEPTNO|UPDATED_DATE|partition_id|\n+-----+------+--------+----+----------+----+----+------+------------+------------+\n| 1234|SEKHAR|  doctor|7777|      null| 667|  78|    80|  2022-01-03|           0|\n| 1234|   RAM|   CLERK|7457|      null| 494| 588|    80|  2022-01-07|           0|\n| null|  null|    null|null|      null|null|null|  null|        null|           1|\n| null|  null|    null|null|      null|null|null|  null|        null|           1|\n| null|  null|    null|null|      null|null|null|  null|        null|           1|\n| 7369| SMITH|   CLERK|7902|17-12-1980| 800|null|    20|  2022-01-01|           2|\n| 7566| JONES| MANAGER|7839|04-02-1981|2975|null|    20|  2022-01-05|           2|\n| 7788| SCOTT| ANALYST|7566|19-04-1987|3000|null|    20|  2022-01-02|           2|\n| 7876| ADAMS|   CLERK|7788|23-05-1987|1100|null|    20|  2022-01-03|           2|\n| 7902|  FORD| ANALYST|7566|12-03-1981|3000|null|    20|  2022-01-03|           2|\n| 7369| SMITH|   CLERK|7902|17-12-1980| 800|null|    20|  2022-01-04|           2|\n| 7566| JONES| MANAGER|7839|04-02-1981|2975|null|    20|  2022-01-04|           2|\n| 7788| SCOTT| ANALYST|7566|19-04-1987|3000|null|    20|  2022-01-06|           2|\n| 7876| ADAMS|   CLERK|7788|23-05-1987|1100|null|    20|  2022-01-06|           2|\n| 7902|  FORD| ANALYST|7566|12-03-1981|3000|null|    20|  2022-01-07|           2|\n| 7499| ALLEN|SALESMAN|7698|20-02-1981|1600| 300|    30|  2022-01-01|           3|\n| 7521|  WARD|SALESMAN|7698|22-02-1981|1250| 500|    30|  2022-01-01|           3|\n| 7654|MARTIN|SALESMAN|7698|21-09-1981|1250|1400|    30|  2022-01-03|           3|\n| 7698|   SGR| MANAGER|7839|05-01-1981|2850|null|    30|  2022-01-04|           3|\n| 7782|  RAVI| MANAGER|7839|06-09-1981|2450|null|    10|  2022-01-02|           3|\n+-----+------+--------+----+----------+----+----+------+------------+------------+\nonly showing top 20 rows\n\n"
     ]
    }
   ],
   "source": [
    "df1.show()"
   ]
  },
  {
   "cell_type": "code",
   "execution_count": 0,
   "metadata": {
    "application/vnd.databricks.v1+cell": {
     "cellMetadata": {
      "byteLimit": 2048000,
      "rowLimit": 10000
     },
     "inputWidgets": {},
     "nuid": "024ef940-edd0-4288-b76d-172060ae2478",
     "showTitle": false,
     "title": ""
    }
   },
   "outputs": [],
   "source": [
    "#coalesce\n",
    "from pyspark.sql.functions import spark_partition_id\n",
    "df2=df.coalesce(4).withColumn(\"partition_id\",spark_partition_id())"
   ]
  },
  {
   "cell_type": "code",
   "execution_count": 0,
   "metadata": {
    "application/vnd.databricks.v1+cell": {
     "cellMetadata": {
      "byteLimit": 2048000,
      "rowLimit": 10000
     },
     "inputWidgets": {},
     "nuid": "760db5fd-21c8-4583-8aaa-75aabd7ee285",
     "showTitle": false,
     "title": ""
    }
   },
   "outputs": [
    {
     "output_type": "stream",
     "name": "stdout",
     "output_type": "stream",
     "text": [
      "+-----+------+---------+----+----------+----+----+------+------------+------------+\n|EMPNO| ENAME|      JOB| MGR|  HIREDATE| SAL|COMM|DEPTNO|UPDATED_DATE|partition_id|\n+-----+------+---------+----+----------+----+----+------+------------+------------+\n| 7369| SMITH|    CLERK|7902|17-12-1980| 800|null|    20|  2022-01-01|           0|\n| 7499| ALLEN| SALESMAN|7698|20-02-1981|1600| 300|    30|  2022-01-01|           0|\n| 7521|  WARD| SALESMAN|7698|22-02-1981|1250| 500|    30|  2022-01-01|           0|\n| 7566| JONES|  MANAGER|7839|04-02-1981|2975|null|    20|  2022-01-05|           0|\n| 7654|MARTIN| SALESMAN|7698|21-09-1981|1250|1400|    30|  2022-01-03|           0|\n| 7698|   SGR|  MANAGER|7839|05-01-1981|2850|null|    30|  2022-01-04|           0|\n| 7782|  RAVI|  MANAGER|7839|06-09-1981|2450|null|    10|  2022-01-02|           0|\n| 7788| SCOTT|  ANALYST|7566|19-04-1987|3000|null|    20|  2022-01-02|           0|\n| 7839|  KING|PRESIDENT|null|01-11-1981|5000|null|    10|  2022-01-02|           0|\n| 7844|TURNER| SALESMAN|7698|09-08-1981|1500|   0|    30|  2022-01-02|           0|\n| 7876| ADAMS|    CLERK|7788|23-05-1987|1100|null|    20|  2022-01-03|           0|\n| 7900| JAMES|    CLERK|7698|12-03-1981| 950|null|    30|  2022-01-03|           0|\n| 7902|  FORD|  ANALYST|7566|12-03-1981|3000|null|    20|  2022-01-03|           0|\n| 7934|MILLER|    CLERK|7782|01-03-1982|1300|null|    10|  2022-01-03|           0|\n| 1234|SEKHAR|   doctor|7777|      null| 667|  78|    80|  2022-01-03|           0|\n| 7369| SMITH|    CLERK|7902|17-12-1980| 800|null|    20|  2022-01-04|           0|\n| 7499| ALLEN| SALESMAN|7698|20-02-1981|1600| 300|    30|  2022-01-04|           0|\n| 7521|  WARD| SALESMAN|7698|22-02-1981|1250| 500|    30|  2022-01-04|           0|\n| 7566| JONES|  MANAGER|7839|04-02-1981|2975|null|    20|  2022-01-04|           0|\n| 7654|MARTIN| SALESMAN|7698|21-09-1981|1250|1400|    30|  2022-01-05|           0|\n+-----+------+---------+----+----------+----+----+------+------------+------------+\nonly showing top 20 rows\n\n"
     ]
    }
   ],
   "source": [
    "df2.show()"
   ]
  }
 ],
 "metadata": {
  "application/vnd.databricks.v1+notebook": {
   "dashboards": [],
   "language": "python",
   "notebookMetadata": {
    "pythonIndentUnit": 4
   },
   "notebookName": "20 : difference between coalesce and repartition",
   "widgets": {}
  }
 },
 "nbformat": 4,
 "nbformat_minor": 0
}
