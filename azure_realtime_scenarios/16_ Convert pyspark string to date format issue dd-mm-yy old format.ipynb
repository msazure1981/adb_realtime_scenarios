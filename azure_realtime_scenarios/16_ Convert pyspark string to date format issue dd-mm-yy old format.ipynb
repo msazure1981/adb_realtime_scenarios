{
 "cells": [
  {
   "cell_type": "code",
   "execution_count": 0,
   "metadata": {
    "application/vnd.databricks.v1+cell": {
     "cellMetadata": {},
     "inputWidgets": {},
     "nuid": "939819e8-cac2-41ce-9c8e-4ea6ee929d2b",
     "showTitle": false,
     "title": ""
    }
   },
   "outputs": [],
   "source": [
    "# before 2000 date format 21-02-95(dd-mm-yy)"
   ]
  },
  {
   "cell_type": "code",
   "execution_count": 0,
   "metadata": {
    "application/vnd.databricks.v1+cell": {
     "cellMetadata": {
      "byteLimit": 2048000,
      "rowLimit": 10000
     },
     "inputWidgets": {},
     "nuid": "71f9823f-da74-4f48-b1f0-f9c5bed6bf39",
     "showTitle": false,
     "title": ""
    }
   },
   "outputs": [
    {
     "output_type": "stream",
     "name": "stdout",
     "output_type": "stream",
     "text": [
      "Wrote 719 bytes.\nOut[1]: True"
     ]
    }
   ],
   "source": [
    "dbutils.fs.put(\"/schenarios/emp_data.csv\",\"\"\"EMPNO,ENAME,JOB,MGR,HIREDATE,SAL,COMM,DEPTNO\n",
    "7369,SMITH,CLERK,7902,17-12-80,800,null,20\n",
    "7499,ALLEN,SALESMAN,7698,20-02-81,1600,300,30\n",
    "7521,WARD,SALESMAN,7698,22-02-81,1250,500,30\n",
    "7566,JONES,MANAGER,7839,04-02-81,2975,null,20\n",
    "7654,MARTIN,SALESMAN,7698,21-09-81,1250,1400,30\n",
    "7698,SGR,MANAGER,7839,05-01-81,2850,null,30\n",
    "7782,RAVI,MANAGER,7839,06-09-81,2450,null,10\n",
    "7788,SCOTT,ANALYST,7566,19-04-87,3000,null,20\n",
    "7839,KING,PRESIDENT,null,01-11-81,5000,null,10\n",
    "7844,TURNER,SALESMAN,7698,09-08-81,1500,0,30\n",
    "7876,ADAMS,CLERK,7788,23-05-87,1100,null,20\n",
    "7900,JAMES,CLERK,7698,12-03-81,950,null,30\n",
    "7902,FORD,ANALYST,7566,12-03-81,3000,null,20\n",
    "7934,MILLER,CLERK,7782,01-03-82,1300,null,10\n",
    "1234,SEKHAR,doctor,7777,31-12-99,667,78,80\"\"\",True)"
   ]
  },
  {
   "cell_type": "code",
   "execution_count": 0,
   "metadata": {
    "application/vnd.databricks.v1+cell": {
     "cellMetadata": {
      "byteLimit": 2048000,
      "rowLimit": 10000
     },
     "inputWidgets": {},
     "nuid": "12165d67-2628-42f5-9c18-a84b8ebefb67",
     "showTitle": false,
     "title": ""
    }
   },
   "outputs": [],
   "source": [
    "df_csv = spark.read.option(\"nullValue\",\"null\").csv(\"/schenarios/emp_data.csv\",header=True,inferSchema=True)"
   ]
  },
  {
   "cell_type": "code",
   "execution_count": 0,
   "metadata": {
    "application/vnd.databricks.v1+cell": {
     "cellMetadata": {
      "byteLimit": 2048000,
      "rowLimit": 10000
     },
     "inputWidgets": {},
     "nuid": "c9506993-234d-40f5-9ac1-34eccc7f3574",
     "showTitle": false,
     "title": ""
    }
   },
   "outputs": [
    {
     "output_type": "display_data",
     "data": {
      "text/html": [
       "<style scoped>\n",
       "  .table-result-container {\n",
       "    max-height: 300px;\n",
       "    overflow: auto;\n",
       "  }\n",
       "  table, th, td {\n",
       "    border: 1px solid black;\n",
       "    border-collapse: collapse;\n",
       "  }\n",
       "  th, td {\n",
       "    padding: 5px;\n",
       "  }\n",
       "  th {\n",
       "    text-align: left;\n",
       "  }\n",
       "</style><div class='table-result-container'><table class='table-result'><thead style='background-color: white'><tr><th>EMPNO</th><th>ENAME</th><th>JOB</th><th>MGR</th><th>HIREDATE</th><th>SAL</th><th>COMM</th><th>DEPTNO</th></tr></thead><tbody><tr><td>7369</td><td>SMITH</td><td>CLERK</td><td>7902</td><td>2080-12-17</td><td>800</td><td>null</td><td>20</td></tr><tr><td>7499</td><td>ALLEN</td><td>SALESMAN</td><td>7698</td><td>2081-02-20</td><td>1600</td><td>300</td><td>30</td></tr><tr><td>7521</td><td>WARD</td><td>SALESMAN</td><td>7698</td><td>2081-02-22</td><td>1250</td><td>500</td><td>30</td></tr><tr><td>7566</td><td>JONES</td><td>MANAGER</td><td>7839</td><td>2081-02-04</td><td>2975</td><td>null</td><td>20</td></tr><tr><td>7654</td><td>MARTIN</td><td>SALESMAN</td><td>7698</td><td>2081-09-21</td><td>1250</td><td>1400</td><td>30</td></tr><tr><td>7698</td><td>SGR</td><td>MANAGER</td><td>7839</td><td>2081-01-05</td><td>2850</td><td>null</td><td>30</td></tr><tr><td>7782</td><td>RAVI</td><td>MANAGER</td><td>7839</td><td>2081-09-06</td><td>2450</td><td>null</td><td>10</td></tr><tr><td>7788</td><td>SCOTT</td><td>ANALYST</td><td>7566</td><td>2087-04-19</td><td>3000</td><td>null</td><td>20</td></tr><tr><td>7839</td><td>KING</td><td>PRESIDENT</td><td>null</td><td>2081-11-01</td><td>5000</td><td>null</td><td>10</td></tr><tr><td>7844</td><td>TURNER</td><td>SALESMAN</td><td>7698</td><td>2081-08-09</td><td>1500</td><td>0</td><td>30</td></tr><tr><td>7876</td><td>ADAMS</td><td>CLERK</td><td>7788</td><td>2087-05-23</td><td>1100</td><td>null</td><td>20</td></tr><tr><td>7900</td><td>JAMES</td><td>CLERK</td><td>7698</td><td>2081-03-12</td><td>950</td><td>null</td><td>30</td></tr><tr><td>7902</td><td>FORD</td><td>ANALYST</td><td>7566</td><td>2081-03-12</td><td>3000</td><td>null</td><td>20</td></tr><tr><td>7934</td><td>MILLER</td><td>CLERK</td><td>7782</td><td>2082-03-01</td><td>1300</td><td>null</td><td>10</td></tr><tr><td>1234</td><td>SEKHAR</td><td>doctor</td><td>7777</td><td>2099-12-31</td><td>667</td><td>78</td><td>80</td></tr></tbody></table></div>"
      ]
     },
     "metadata": {
      "application/vnd.databricks.v1+output": {
       "addedWidgets": {},
       "aggData": [],
       "aggError": "",
       "aggOverflow": false,
       "aggSchema": [],
       "aggSeriesLimitReached": false,
       "aggType": "",
       "arguments": {},
       "columnCustomDisplayInfos": {},
       "data": [
        [
         7369,
         "SMITH",
         "CLERK",
         7902,
         "2080-12-17",
         800,
         null,
         20
        ],
        [
         7499,
         "ALLEN",
         "SALESMAN",
         7698,
         "2081-02-20",
         1600,
         300,
         30
        ],
        [
         7521,
         "WARD",
         "SALESMAN",
         7698,
         "2081-02-22",
         1250,
         500,
         30
        ],
        [
         7566,
         "JONES",
         "MANAGER",
         7839,
         "2081-02-04",
         2975,
         null,
         20
        ],
        [
         7654,
         "MARTIN",
         "SALESMAN",
         7698,
         "2081-09-21",
         1250,
         1400,
         30
        ],
        [
         7698,
         "SGR",
         "MANAGER",
         7839,
         "2081-01-05",
         2850,
         null,
         30
        ],
        [
         7782,
         "RAVI",
         "MANAGER",
         7839,
         "2081-09-06",
         2450,
         null,
         10
        ],
        [
         7788,
         "SCOTT",
         "ANALYST",
         7566,
         "2087-04-19",
         3000,
         null,
         20
        ],
        [
         7839,
         "KING",
         "PRESIDENT",
         null,
         "2081-11-01",
         5000,
         null,
         10
        ],
        [
         7844,
         "TURNER",
         "SALESMAN",
         7698,
         "2081-08-09",
         1500,
         0,
         30
        ],
        [
         7876,
         "ADAMS",
         "CLERK",
         7788,
         "2087-05-23",
         1100,
         null,
         20
        ],
        [
         7900,
         "JAMES",
         "CLERK",
         7698,
         "2081-03-12",
         950,
         null,
         30
        ],
        [
         7902,
         "FORD",
         "ANALYST",
         7566,
         "2081-03-12",
         3000,
         null,
         20
        ],
        [
         7934,
         "MILLER",
         "CLERK",
         7782,
         "2082-03-01",
         1300,
         null,
         10
        ],
        [
         1234,
         "SEKHAR",
         "doctor",
         7777,
         "2099-12-31",
         667,
         78,
         80
        ]
       ],
       "datasetInfos": [],
       "dbfsResultPath": null,
       "isJsonSchema": true,
       "metadata": {},
       "overflow": false,
       "plotOptions": {
        "customPlotOptions": {},
        "displayType": "table",
        "pivotAggregation": null,
        "pivotColumns": null,
        "xColumns": null,
        "yColumns": null
       },
       "removedWidgets": [],
       "schema": [
        {
         "metadata": "{}",
         "name": "EMPNO",
         "type": "\"integer\""
        },
        {
         "metadata": "{}",
         "name": "ENAME",
         "type": "\"string\""
        },
        {
         "metadata": "{}",
         "name": "JOB",
         "type": "\"string\""
        },
        {
         "metadata": "{}",
         "name": "MGR",
         "type": "\"integer\""
        },
        {
         "metadata": "{\"__detected_date_formats\":\"d-M-yy\"}",
         "name": "HIREDATE",
         "type": "\"date\""
        },
        {
         "metadata": "{}",
         "name": "SAL",
         "type": "\"integer\""
        },
        {
         "metadata": "{}",
         "name": "COMM",
         "type": "\"integer\""
        },
        {
         "metadata": "{}",
         "name": "DEPTNO",
         "type": "\"integer\""
        }
       ],
       "type": "table"
      }
     },
     "output_type": "display_data"
    }
   ],
   "source": [
    "#because of updated version 'HIREDATE' converted to date format,generally it wont convert\n",
    "#default spark date format yyyy-mm-dd\n",
    "df_csv.display()"
   ]
  },
  {
   "cell_type": "code",
   "execution_count": 0,
   "metadata": {
    "application/vnd.databricks.v1+cell": {
     "cellMetadata": {
      "byteLimit": 2048000,
      "rowLimit": 10000
     },
     "inputWidgets": {},
     "nuid": "030531a0-9a0d-4f7b-8fc4-d86e3a6f3cf9",
     "showTitle": false,
     "title": ""
    }
   },
   "outputs": [],
   "source": [
    "#default format exception\n",
    "spark.conf.set(\"spark.sql.legacy.timeParserPolicy\",\"EXCEPTION\")"
   ]
  },
  {
   "cell_type": "code",
   "execution_count": 0,
   "metadata": {
    "application/vnd.databricks.v1+cell": {
     "cellMetadata": {
      "byteLimit": 2048000,
      "rowLimit": 10000
     },
     "inputWidgets": {},
     "nuid": "23a3a845-ef4c-466d-aa83-30a0dbc3cfec",
     "showTitle": false,
     "title": ""
    }
   },
   "outputs": [],
   "source": [
    "#default format set to legacy\n",
    "spark.conf.set(\"spark.sql.legacy.timeParserPolicy\",\"LEGACY\")"
   ]
  },
  {
   "cell_type": "code",
   "execution_count": 0,
   "metadata": {
    "application/vnd.databricks.v1+cell": {
     "cellMetadata": {
      "byteLimit": 2048000,
      "implicitDf": true,
      "rowLimit": 10000
     },
     "inputWidgets": {},
     "nuid": "e2bd156b-37a4-41b2-ace2-52bf9d181ef1",
     "showTitle": false,
     "title": ""
    }
   },
   "outputs": [
    {
     "output_type": "display_data",
     "data": {
      "text/html": [
       "<style scoped>\n",
       "  .table-result-container {\n",
       "    max-height: 300px;\n",
       "    overflow: auto;\n",
       "  }\n",
       "  table, th, td {\n",
       "    border: 1px solid black;\n",
       "    border-collapse: collapse;\n",
       "  }\n",
       "  th, td {\n",
       "    padding: 5px;\n",
       "  }\n",
       "  th {\n",
       "    text-align: left;\n",
       "  }\n",
       "</style><div class='table-result-container'><table class='table-result'><thead style='background-color: white'><tr><th>to_date(01-JAN-95, dd-MMM-yy)</th></tr></thead><tbody><tr><td>1995-01-01</td></tr></tbody></table></div>"
      ]
     },
     "metadata": {
      "application/vnd.databricks.v1+output": {
       "addedWidgets": {},
       "aggData": [],
       "aggError": "",
       "aggOverflow": false,
       "aggSchema": [],
       "aggSeriesLimitReached": false,
       "aggType": "",
       "arguments": {},
       "columnCustomDisplayInfos": {},
       "data": [
        [
         "1995-01-01"
        ]
       ],
       "datasetInfos": [],
       "dbfsResultPath": null,
       "isJsonSchema": true,
       "metadata": {},
       "overflow": false,
       "plotOptions": {
        "customPlotOptions": {},
        "displayType": "table",
        "pivotAggregation": null,
        "pivotColumns": null,
        "xColumns": null,
        "yColumns": null
       },
       "removedWidgets": [],
       "schema": [
        {
         "metadata": "{\"__autoGeneratedAlias\":\"true\"}",
         "name": "to_date(01-JAN-95, dd-MMM-yy)",
         "type": "\"date\""
        }
       ],
       "type": "table"
      }
     },
     "output_type": "display_data"
    }
   ],
   "source": [
    "%sql\n",
    "select to_date(\"01-JAN-95\",\"dd-MMM-yy\")"
   ]
  },
  {
   "cell_type": "code",
   "execution_count": 0,
   "metadata": {
    "application/vnd.databricks.v1+cell": {
     "cellMetadata": {
      "byteLimit": 2048000,
      "rowLimit": 10000
     },
     "inputWidgets": {},
     "nuid": "32cf9536-4c81-4818-bea0-5cdc312007e1",
     "showTitle": false,
     "title": ""
    }
   },
   "outputs": [
    {
     "output_type": "display_data",
     "data": {
      "text/html": [
       "<style scoped>\n",
       "  .table-result-container {\n",
       "    max-height: 300px;\n",
       "    overflow: auto;\n",
       "  }\n",
       "  table, th, td {\n",
       "    border: 1px solid black;\n",
       "    border-collapse: collapse;\n",
       "  }\n",
       "  th, td {\n",
       "    padding: 5px;\n",
       "  }\n",
       "  th {\n",
       "    text-align: left;\n",
       "  }\n",
       "</style><div class='table-result-container'><table class='table-result'><thead style='background-color: white'><tr><th>EMPNO</th><th>ENAME</th><th>JOB</th><th>MGR</th><th>HIREDATE</th><th>SAL</th><th>COMM</th><th>DEPTNO</th></tr></thead><tbody><tr><td>7369</td><td>SMITH</td><td>CLERK</td><td>7902</td><td>0018-02-18</td><td>800</td><td>null</td><td>20</td></tr><tr><td>7499</td><td>ALLEN</td><td>SALESMAN</td><td>7698</td><td>0020-04-21</td><td>1600</td><td>300</td><td>30</td></tr><tr><td>7521</td><td>WARD</td><td>SALESMAN</td><td>7698</td><td>0022-04-22</td><td>1250</td><td>500</td><td>30</td></tr><tr><td>7566</td><td>JONES</td><td>MANAGER</td><td>7839</td><td>0004-04-21</td><td>2975</td><td>null</td><td>20</td></tr><tr><td>7654</td><td>MARTIN</td><td>SALESMAN</td><td>7698</td><td>0021-11-20</td><td>1250</td><td>1400</td><td>30</td></tr><tr><td>7698</td><td>SGR</td><td>MANAGER</td><td>7839</td><td>0005-03-22</td><td>2850</td><td>null</td><td>30</td></tr><tr><td>7782</td><td>RAVI</td><td>MANAGER</td><td>7839</td><td>0006-11-20</td><td>2450</td><td>null</td><td>10</td></tr><tr><td>7788</td><td>SCOTT</td><td>ANALYST</td><td>7566</td><td>0019-06-26</td><td>3000</td><td>null</td><td>20</td></tr><tr><td>7839</td><td>KING</td><td>PRESIDENT</td><td>null</td><td>0002-01-20</td><td>5000</td><td>null</td><td>10</td></tr><tr><td>7844</td><td>TURNER</td><td>SALESMAN</td><td>7698</td><td>0009-10-20</td><td>1500</td><td>0</td><td>30</td></tr><tr><td>7876</td><td>ADAMS</td><td>CLERK</td><td>7788</td><td>0023-07-26</td><td>1100</td><td>null</td><td>20</td></tr><tr><td>7900</td><td>JAMES</td><td>CLERK</td><td>7698</td><td>0012-05-20</td><td>950</td><td>null</td><td>30</td></tr><tr><td>7902</td><td>FORD</td><td>ANALYST</td><td>7566</td><td>0012-05-20</td><td>3000</td><td>null</td><td>20</td></tr><tr><td>7934</td><td>MILLER</td><td>CLERK</td><td>7782</td><td>0001-05-21</td><td>1300</td><td>null</td><td>10</td></tr><tr><td>1234</td><td>SEKHAR</td><td>doctor</td><td>7777</td><td>0032-03-08</td><td>667</td><td>78</td><td>80</td></tr></tbody></table></div>"
      ]
     },
     "metadata": {
      "application/vnd.databricks.v1+output": {
       "addedWidgets": {},
       "aggData": [],
       "aggError": "",
       "aggOverflow": false,
       "aggSchema": [],
       "aggSeriesLimitReached": false,
       "aggType": "",
       "arguments": {},
       "columnCustomDisplayInfos": {},
       "data": [
        [
         7369,
         "SMITH",
         "CLERK",
         7902,
         "0018-02-18",
         800,
         null,
         20
        ],
        [
         7499,
         "ALLEN",
         "SALESMAN",
         7698,
         "0020-04-21",
         1600,
         300,
         30
        ],
        [
         7521,
         "WARD",
         "SALESMAN",
         7698,
         "0022-04-22",
         1250,
         500,
         30
        ],
        [
         7566,
         "JONES",
         "MANAGER",
         7839,
         "0004-04-21",
         2975,
         null,
         20
        ],
        [
         7654,
         "MARTIN",
         "SALESMAN",
         7698,
         "0021-11-20",
         1250,
         1400,
         30
        ],
        [
         7698,
         "SGR",
         "MANAGER",
         7839,
         "0005-03-22",
         2850,
         null,
         30
        ],
        [
         7782,
         "RAVI",
         "MANAGER",
         7839,
         "0006-11-20",
         2450,
         null,
         10
        ],
        [
         7788,
         "SCOTT",
         "ANALYST",
         7566,
         "0019-06-26",
         3000,
         null,
         20
        ],
        [
         7839,
         "KING",
         "PRESIDENT",
         null,
         "0002-01-20",
         5000,
         null,
         10
        ],
        [
         7844,
         "TURNER",
         "SALESMAN",
         7698,
         "0009-10-20",
         1500,
         0,
         30
        ],
        [
         7876,
         "ADAMS",
         "CLERK",
         7788,
         "0023-07-26",
         1100,
         null,
         20
        ],
        [
         7900,
         "JAMES",
         "CLERK",
         7698,
         "0012-05-20",
         950,
         null,
         30
        ],
        [
         7902,
         "FORD",
         "ANALYST",
         7566,
         "0012-05-20",
         3000,
         null,
         20
        ],
        [
         7934,
         "MILLER",
         "CLERK",
         7782,
         "0001-05-21",
         1300,
         null,
         10
        ],
        [
         1234,
         "SEKHAR",
         "doctor",
         7777,
         "0032-03-08",
         667,
         78,
         80
        ]
       ],
       "datasetInfos": [],
       "dbfsResultPath": null,
       "isJsonSchema": true,
       "metadata": {},
       "overflow": false,
       "plotOptions": {
        "customPlotOptions": {},
        "displayType": "table",
        "pivotAggregation": null,
        "pivotColumns": null,
        "xColumns": null,
        "yColumns": null
       },
       "removedWidgets": [],
       "schema": [
        {
         "metadata": "{}",
         "name": "EMPNO",
         "type": "\"integer\""
        },
        {
         "metadata": "{}",
         "name": "ENAME",
         "type": "\"string\""
        },
        {
         "metadata": "{}",
         "name": "JOB",
         "type": "\"string\""
        },
        {
         "metadata": "{}",
         "name": "MGR",
         "type": "\"integer\""
        },
        {
         "metadata": "{}",
         "name": "HIREDATE",
         "type": "\"date\""
        },
        {
         "metadata": "{}",
         "name": "SAL",
         "type": "\"integer\""
        },
        {
         "metadata": "{}",
         "name": "COMM",
         "type": "\"integer\""
        },
        {
         "metadata": "{}",
         "name": "DEPTNO",
         "type": "\"integer\""
        }
       ],
       "type": "table"
      }
     },
     "output_type": "display_data"
    }
   ],
   "source": [
    "from pyspark.sql.functions import to_date,col\n",
    "display(df_csv.withColumn(\"HIREDATE\",to_date(\"HIREDATE\",\"dd-MM-yy\")))\n",
    "# Default Spark Date Format yyyy-MM-dd"
   ]
  },
  {
   "cell_type": "markdown",
   "metadata": {
    "application/vnd.databricks.v1+cell": {
     "cellMetadata": {},
     "inputWidgets": {},
     "nuid": "d54b05e4-0669-46b7-bfeb-16b68b55deff",
     "showTitle": false,
     "title": ""
    }
   },
   "source": [
    "somehow HIREDATE column not converting,but it converted in video explination of github saved document,so please refer it  in your gitgub\\\n",
    "https://github.com/msazure1981/adb_realtime_scenarios/blob/main/azure_realtime_scenarios/how%20to%20handle%20yy%20date%20format%20in%20pyspark%20for%20before%202000%20data.ipynb"
   ]
  }
 ],
 "metadata": {
  "application/vnd.databricks.v1+notebook": {
   "dashboards": [],
   "language": "python",
   "notebookMetadata": {
    "mostRecentlyExecutedCommandWithImplicitDF": {
     "commandId": 2093380436728276,
     "dataframes": [
      "_sqldf"
     ]
    },
    "pythonIndentUnit": 4
   },
   "notebookName": "16: Convert pyspark string to date format issue dd-mm-yy old format",
   "widgets": {}
  }
 },
 "nbformat": 4,
 "nbformat_minor": 0
}
