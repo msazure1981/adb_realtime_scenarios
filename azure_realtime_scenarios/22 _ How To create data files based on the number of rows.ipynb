{
 "cells": [
  {
   "cell_type": "code",
   "execution_count": 0,
   "metadata": {
    "application/vnd.databricks.v1+cell": {
     "cellMetadata": {
      "byteLimit": 2048000,
      "rowLimit": 10000
     },
     "inputWidgets": {},
     "nuid": "bf1a50a9-93d2-4740-a3fe-09de5508608a",
     "showTitle": false,
     "title": ""
    }
   },
   "outputs": [
    {
     "output_type": "display_data",
     "data": {
      "text/html": [
       "<style scoped>\n",
       "  .table-result-container {\n",
       "    max-height: 300px;\n",
       "    overflow: auto;\n",
       "  }\n",
       "  table, th, td {\n",
       "    border: 1px solid black;\n",
       "    border-collapse: collapse;\n",
       "  }\n",
       "  th, td {\n",
       "    padding: 5px;\n",
       "  }\n",
       "  th {\n",
       "    text-align: left;\n",
       "  }\n",
       "</style><div class='table-result-container'><table class='table-result'><thead style='background-color: white'><tr><th>path</th><th>name</th><th>size</th><th>modificationTime</th></tr></thead><tbody><tr><td>dbfs:/FileStore/tables/Browser_Extensions.pdf</td><td>Browser_Extensions.pdf</td><td>1979249</td><td>1654101077000</td></tr><tr><td>dbfs:/FileStore/tables/Employee.csv</td><td>Employee.csv</td><td>359</td><td>1689653118000</td></tr><tr><td>dbfs:/FileStore/tables/Orders_CSV-1.csv</td><td>Orders_CSV-1.csv</td><td>332292</td><td>1689652872000</td></tr><tr><td>dbfs:/FileStore/tables/Orders_CSV.csv</td><td>Orders_CSV.csv</td><td>332292</td><td>1689652604000</td></tr><tr><td>dbfs:/FileStore/tables/Orders_With_Nulls-1.xlsx</td><td>Orders_With_Nulls-1.xlsx</td><td>304054</td><td>1689599426000</td></tr><tr><td>dbfs:/FileStore/tables/Orders_With_Nulls.xlsx</td><td>Orders_With_Nulls.xlsx</td><td>304054</td><td>1689599348000</td></tr><tr><td>dbfs:/FileStore/tables/Test/</td><td>Test/</td><td>0</td><td>0</td></tr><tr><td>dbfs:/FileStore/tables/Test_Table-1.txt</td><td>Test_Table-1.txt</td><td>25</td><td>1689580949000</td></tr><tr><td>dbfs:/FileStore/tables/Test_Table-2.txt</td><td>Test_Table-2.txt</td><td>25</td><td>1689581188000</td></tr><tr><td>dbfs:/FileStore/tables/Test_Table-3.txt</td><td>Test_Table-3.txt</td><td>25</td><td>1689581357000</td></tr><tr><td>dbfs:/FileStore/tables/Test_Table.txt</td><td>Test_Table.txt</td><td>25</td><td>1689580911000</td></tr><tr><td>dbfs:/FileStore/tables/channels.csv</td><td>channels.csv</td><td>459</td><td>1701862764000</td></tr><tr><td>dbfs:/FileStore/tables/dept.csv</td><td>dept.csv</td><td>730</td><td>1701776945000</td></tr><tr><td>dbfs:/FileStore/tables/emp-1.csv</td><td>emp-1.csv</td><td>1950</td><td>1701696905000</td></tr><tr><td>dbfs:/FileStore/tables/emp.csv</td><td>emp.csv</td><td>1950</td><td>1701267946000</td></tr><tr><td>dbfs:/FileStore/tables/rrr.txt</td><td>rrr.txt</td><td>1314</td><td>1701430975000</td></tr><tr><td>dbfs:/FileStore/tables/rrr_dynamic.txt</td><td>rrr_dynamic.txt</td><td>1344</td><td>1701431247000</td></tr><tr><td>dbfs:/FileStore/tables/sample.json</td><td>sample.json</td><td>1073</td><td>1701956034000</td></tr><tr><td>dbfs:/FileStore/tables/sample.txt</td><td>sample.txt</td><td>45</td><td>1701358002000</td></tr></tbody></table></div>"
      ]
     },
     "metadata": {
      "application/vnd.databricks.v1+output": {
       "addedWidgets": {},
       "aggData": [],
       "aggError": "",
       "aggOverflow": false,
       "aggSchema": [],
       "aggSeriesLimitReached": false,
       "aggType": "",
       "arguments": {},
       "columnCustomDisplayInfos": {},
       "data": [
        [
         "dbfs:/FileStore/tables/Browser_Extensions.pdf",
         "Browser_Extensions.pdf",
         1979249,
         1654101077000
        ],
        [
         "dbfs:/FileStore/tables/Employee.csv",
         "Employee.csv",
         359,
         1689653118000
        ],
        [
         "dbfs:/FileStore/tables/Orders_CSV-1.csv",
         "Orders_CSV-1.csv",
         332292,
         1689652872000
        ],
        [
         "dbfs:/FileStore/tables/Orders_CSV.csv",
         "Orders_CSV.csv",
         332292,
         1689652604000
        ],
        [
         "dbfs:/FileStore/tables/Orders_With_Nulls-1.xlsx",
         "Orders_With_Nulls-1.xlsx",
         304054,
         1689599426000
        ],
        [
         "dbfs:/FileStore/tables/Orders_With_Nulls.xlsx",
         "Orders_With_Nulls.xlsx",
         304054,
         1689599348000
        ],
        [
         "dbfs:/FileStore/tables/Test/",
         "Test/",
         0,
         0
        ],
        [
         "dbfs:/FileStore/tables/Test_Table-1.txt",
         "Test_Table-1.txt",
         25,
         1689580949000
        ],
        [
         "dbfs:/FileStore/tables/Test_Table-2.txt",
         "Test_Table-2.txt",
         25,
         1689581188000
        ],
        [
         "dbfs:/FileStore/tables/Test_Table-3.txt",
         "Test_Table-3.txt",
         25,
         1689581357000
        ],
        [
         "dbfs:/FileStore/tables/Test_Table.txt",
         "Test_Table.txt",
         25,
         1689580911000
        ],
        [
         "dbfs:/FileStore/tables/channels.csv",
         "channels.csv",
         459,
         1701862764000
        ],
        [
         "dbfs:/FileStore/tables/dept.csv",
         "dept.csv",
         730,
         1701776945000
        ],
        [
         "dbfs:/FileStore/tables/emp-1.csv",
         "emp-1.csv",
         1950,
         1701696905000
        ],
        [
         "dbfs:/FileStore/tables/emp.csv",
         "emp.csv",
         1950,
         1701267946000
        ],
        [
         "dbfs:/FileStore/tables/rrr.txt",
         "rrr.txt",
         1314,
         1701430975000
        ],
        [
         "dbfs:/FileStore/tables/rrr_dynamic.txt",
         "rrr_dynamic.txt",
         1344,
         1701431247000
        ],
        [
         "dbfs:/FileStore/tables/sample.json",
         "sample.json",
         1073,
         1701956034000
        ],
        [
         "dbfs:/FileStore/tables/sample.txt",
         "sample.txt",
         45,
         1701358002000
        ]
       ],
       "datasetInfos": [],
       "dbfsResultPath": null,
       "isJsonSchema": true,
       "metadata": {
        "isDbfsCommandResult": false
       },
       "overflow": false,
       "plotOptions": {
        "customPlotOptions": {},
        "displayType": "table",
        "pivotAggregation": null,
        "pivotColumns": null,
        "xColumns": null,
        "yColumns": null
       },
       "removedWidgets": [],
       "schema": [
        {
         "metadata": "{}",
         "name": "path",
         "type": "\"string\""
        },
        {
         "metadata": "{}",
         "name": "name",
         "type": "\"string\""
        },
        {
         "metadata": "{}",
         "name": "size",
         "type": "\"long\""
        },
        {
         "metadata": "{}",
         "name": "modificationTime",
         "type": "\"long\""
        }
       ],
       "type": "table"
      }
     },
     "output_type": "display_data"
    }
   ],
   "source": [
    "%fs ls /FileStore/tables"
   ]
  },
  {
   "cell_type": "code",
   "execution_count": 0,
   "metadata": {
    "application/vnd.databricks.v1+cell": {
     "cellMetadata": {
      "byteLimit": 2048000,
      "rowLimit": 10000
     },
     "inputWidgets": {},
     "nuid": "c20bb8e3-757e-4dab-ae5f-45167623db8e",
     "showTitle": false,
     "title": ""
    }
   },
   "outputs": [
    {
     "output_type": "display_data",
     "data": {
      "text/html": [
       "<style scoped>\n",
       "  .ansiout {\n",
       "    display: block;\n",
       "    unicode-bidi: embed;\n",
       "    white-space: pre-wrap;\n",
       "    word-wrap: break-word;\n",
       "    word-break: break-all;\n",
       "    font-family: \"Menlo\", \"Monaco\", \"Consolas\", \"Ubuntu Mono\", \"Source Code Pro\", monospace;\n",
       "    font-size: 13px;\n",
       "    color: #555;\n",
       "    margin-left: 4px;\n",
       "    line-height: 19px;\n",
       "  }\n",
       "</style>\n",
       "<div class=\"ansiout\">EMPNO,ENAME,JOB,MGR,HIREDATE,SAL,COMM,DEPTNO,UPDATED_DATE\r\n",
       "7369,SMITH,CLERK,7902,17-12-1980,800,null,20,2022-01-01\r\n",
       "7499,ALLEN,SALESMAN,7698,20-02-1981,1600,300,30,2022-01-01\r\n",
       "7521,WARD,SALESMAN,7698,22-02-1981,1250,500,30,2022-01-01\r\n",
       "7566,JONES,MANAGER,7839,04-02-1981,2975,null,20,2022-01-05\r\n",
       "7654,MARTIN,SALESMAN,7698,21-09-1981,1250,1400,30,2022-01-03\r\n",
       "7698,SGR,MANAGER,7839,05-01-1981,2850,null,30,2022-01-04\r\n",
       "7782,RAVI,MANAGER,7839,06-09-1981,2450,null,10,2022-01-02\r\n",
       "7788,SCOTT,ANALYST,7566,19-04-1987,3000,null,20,2022-01-02\r\n",
       "7839,KING,PRESIDENT,null,01-11-1981,5000,null,10,2022-01-02\r\n",
       "7844,TURNER,SALESMAN,7698,09-08-1981,1500,0,30,2022-01-02\r\n",
       "7876,ADAMS,CLERK,7788,23-05-1987,1100,null,20,2022-01-03\r\n",
       "7900,JAMES,CLERK,7698,12-03-1981,950,null,30,2022-01-03\r\n",
       "7902,FORD,ANALYST,7566,12-03-1981,3000,null,20,2022-01-03\r\n",
       "7934,MILLER,CLERK,7782,01-03-1982,1300,null,10,2022-01-03\r\n",
       "1234,SEKHAR,doctor,7777,null,667,78,80,2022-01-03\r\n",
       "7369,SMITH,CLERK,7902,17-12-1980,800,null,20,2022-01-04\r\n",
       "7499,ALLEN,SALESMAN,7698,20-02-1981,1600,300,30,2022-01-04\r\n",
       "7521,WARD,SALESMAN,7698,22-02-1981,1250,500,30,2022-01-04\r\n",
       "7566,JONES,MANAGER,7839,04-02-1981,2975,null,20,2022-01-04\r\n",
       "7654,MARTIN,SALESMAN,7698,21-09-1981,1250,1400,30,2022-01-05\r\n",
       "7698,SGR,MANAGER,7839,05-01-1981,2850,null,30,2022-01-05\r\n",
       "7782,RAVI,MANAGER,7839,06-09-1981,2450,null,10,2022-01-05\r\n",
       "7788,SCOTT,ANALYST,7566,19-04-1987,3000,null,20,2022-01-06\r\n",
       "7839,KING,PRESIDENT,null,01-11-1981,5000,null,10,2022-01-06\r\n",
       "7844,TURNER,SALESMAN,7698,09-08-1981,1500,0,30,2022-01-06\r\n",
       "7876,ADAMS,CLERK,7788,23-05-1987,1100,null,20,2022-01-06\r\n",
       "7900,JAMES,CLERK,7698,12-03-1981,950,null,30,2022-01-07\r\n",
       "7902,FORD,ANALYST,7566,12-03-1981,3000,null,20,2022-01-07\r\n",
       "7934,MILLER,CLERK,7782,01-03-1982,1300,null,10,2022-01-07\r\n",
       "1234,RAM,CLERK,7457,null,494,588,80,2022-01-07\r\n",
       "null,null,null,null,null,null,null,null,null\r\n",
       "null,null,null,null,null,null,null,null,null\r\n",
       "null,null,null,null,null,null,null,null,null\n",
       "</div>"
      ]
     },
     "metadata": {
      "application/vnd.databricks.v1+output": {
       "addedWidgets": {},
       "arguments": {},
       "data": "<div class=\"ansiout\">EMPNO,ENAME,JOB,MGR,HIREDATE,SAL,COMM,DEPTNO,UPDATED_DATE\r\n7369,SMITH,CLERK,7902,17-12-1980,800,null,20,2022-01-01\r\n7499,ALLEN,SALESMAN,7698,20-02-1981,1600,300,30,2022-01-01\r\n7521,WARD,SALESMAN,7698,22-02-1981,1250,500,30,2022-01-01\r\n7566,JONES,MANAGER,7839,04-02-1981,2975,null,20,2022-01-05\r\n7654,MARTIN,SALESMAN,7698,21-09-1981,1250,1400,30,2022-01-03\r\n7698,SGR,MANAGER,7839,05-01-1981,2850,null,30,2022-01-04\r\n7782,RAVI,MANAGER,7839,06-09-1981,2450,null,10,2022-01-02\r\n7788,SCOTT,ANALYST,7566,19-04-1987,3000,null,20,2022-01-02\r\n7839,KING,PRESIDENT,null,01-11-1981,5000,null,10,2022-01-02\r\n7844,TURNER,SALESMAN,7698,09-08-1981,1500,0,30,2022-01-02\r\n7876,ADAMS,CLERK,7788,23-05-1987,1100,null,20,2022-01-03\r\n7900,JAMES,CLERK,7698,12-03-1981,950,null,30,2022-01-03\r\n7902,FORD,ANALYST,7566,12-03-1981,3000,null,20,2022-01-03\r\n7934,MILLER,CLERK,7782,01-03-1982,1300,null,10,2022-01-03\r\n1234,SEKHAR,doctor,7777,null,667,78,80,2022-01-03\r\n7369,SMITH,CLERK,7902,17-12-1980,800,null,20,2022-01-04\r\n7499,ALLEN,SALESMAN,7698,20-02-1981,1600,300,30,2022-01-04\r\n7521,WARD,SALESMAN,7698,22-02-1981,1250,500,30,2022-01-04\r\n7566,JONES,MANAGER,7839,04-02-1981,2975,null,20,2022-01-04\r\n7654,MARTIN,SALESMAN,7698,21-09-1981,1250,1400,30,2022-01-05\r\n7698,SGR,MANAGER,7839,05-01-1981,2850,null,30,2022-01-05\r\n7782,RAVI,MANAGER,7839,06-09-1981,2450,null,10,2022-01-05\r\n7788,SCOTT,ANALYST,7566,19-04-1987,3000,null,20,2022-01-06\r\n7839,KING,PRESIDENT,null,01-11-1981,5000,null,10,2022-01-06\r\n7844,TURNER,SALESMAN,7698,09-08-1981,1500,0,30,2022-01-06\r\n7876,ADAMS,CLERK,7788,23-05-1987,1100,null,20,2022-01-06\r\n7900,JAMES,CLERK,7698,12-03-1981,950,null,30,2022-01-07\r\n7902,FORD,ANALYST,7566,12-03-1981,3000,null,20,2022-01-07\r\n7934,MILLER,CLERK,7782,01-03-1982,1300,null,10,2022-01-07\r\n1234,RAM,CLERK,7457,null,494,588,80,2022-01-07\r\nnull,null,null,null,null,null,null,null,null\r\nnull,null,null,null,null,null,null,null,null\r\nnull,null,null,null,null,null,null,null,null\n</div>",
       "datasetInfos": [],
       "metadata": {
        "isDbfsCommandResult": false
       },
       "removedWidgets": [],
       "type": "html"
      }
     },
     "output_type": "display_data"
    }
   ],
   "source": [
    "%fs head /FileStore/tables/emp.csv"
   ]
  },
  {
   "cell_type": "code",
   "execution_count": 0,
   "metadata": {
    "application/vnd.databricks.v1+cell": {
     "cellMetadata": {
      "byteLimit": 2048000,
      "rowLimit": 10000
     },
     "inputWidgets": {},
     "nuid": "c6e1f43e-ffe4-4beb-a60f-5d7c727eea45",
     "showTitle": false,
     "title": ""
    }
   },
   "outputs": [
    {
     "output_type": "display_data",
     "data": {
      "text/html": [
       "<style scoped>\n",
       "  .table-result-container {\n",
       "    max-height: 300px;\n",
       "    overflow: auto;\n",
       "  }\n",
       "  table, th, td {\n",
       "    border: 1px solid black;\n",
       "    border-collapse: collapse;\n",
       "  }\n",
       "  th, td {\n",
       "    padding: 5px;\n",
       "  }\n",
       "  th {\n",
       "    text-align: left;\n",
       "  }\n",
       "</style><div class='table-result-container'><table class='table-result'><thead style='background-color: white'><tr><th>EMPNO</th><th>ENAME</th><th>JOB</th><th>MGR</th><th>HIREDATE</th><th>SAL</th><th>COMM</th><th>DEPTNO</th><th>UPDATED_DATE</th></tr></thead><tbody><tr><td>7369</td><td>SMITH</td><td>CLERK</td><td>7902</td><td>17-12-1980</td><td>800</td><td>null</td><td>20</td><td>2022-01-01</td></tr><tr><td>7499</td><td>ALLEN</td><td>SALESMAN</td><td>7698</td><td>20-02-1981</td><td>1600</td><td>300</td><td>30</td><td>2022-01-01</td></tr><tr><td>7521</td><td>WARD</td><td>SALESMAN</td><td>7698</td><td>22-02-1981</td><td>1250</td><td>500</td><td>30</td><td>2022-01-01</td></tr><tr><td>7566</td><td>JONES</td><td>MANAGER</td><td>7839</td><td>04-02-1981</td><td>2975</td><td>null</td><td>20</td><td>2022-01-05</td></tr><tr><td>7654</td><td>MARTIN</td><td>SALESMAN</td><td>7698</td><td>21-09-1981</td><td>1250</td><td>1400</td><td>30</td><td>2022-01-03</td></tr><tr><td>7698</td><td>SGR</td><td>MANAGER</td><td>7839</td><td>05-01-1981</td><td>2850</td><td>null</td><td>30</td><td>2022-01-04</td></tr><tr><td>7782</td><td>RAVI</td><td>MANAGER</td><td>7839</td><td>06-09-1981</td><td>2450</td><td>null</td><td>10</td><td>2022-01-02</td></tr><tr><td>7788</td><td>SCOTT</td><td>ANALYST</td><td>7566</td><td>19-04-1987</td><td>3000</td><td>null</td><td>20</td><td>2022-01-02</td></tr><tr><td>7839</td><td>KING</td><td>PRESIDENT</td><td>null</td><td>01-11-1981</td><td>5000</td><td>null</td><td>10</td><td>2022-01-02</td></tr><tr><td>7844</td><td>TURNER</td><td>SALESMAN</td><td>7698</td><td>09-08-1981</td><td>1500</td><td>0</td><td>30</td><td>2022-01-02</td></tr><tr><td>7876</td><td>ADAMS</td><td>CLERK</td><td>7788</td><td>23-05-1987</td><td>1100</td><td>null</td><td>20</td><td>2022-01-03</td></tr><tr><td>7900</td><td>JAMES</td><td>CLERK</td><td>7698</td><td>12-03-1981</td><td>950</td><td>null</td><td>30</td><td>2022-01-03</td></tr><tr><td>7902</td><td>FORD</td><td>ANALYST</td><td>7566</td><td>12-03-1981</td><td>3000</td><td>null</td><td>20</td><td>2022-01-03</td></tr><tr><td>7934</td><td>MILLER</td><td>CLERK</td><td>7782</td><td>01-03-1982</td><td>1300</td><td>null</td><td>10</td><td>2022-01-03</td></tr><tr><td>1234</td><td>SEKHAR</td><td>doctor</td><td>7777</td><td>null</td><td>667</td><td>78</td><td>80</td><td>2022-01-03</td></tr><tr><td>7369</td><td>SMITH</td><td>CLERK</td><td>7902</td><td>17-12-1980</td><td>800</td><td>null</td><td>20</td><td>2022-01-04</td></tr><tr><td>7499</td><td>ALLEN</td><td>SALESMAN</td><td>7698</td><td>20-02-1981</td><td>1600</td><td>300</td><td>30</td><td>2022-01-04</td></tr><tr><td>7521</td><td>WARD</td><td>SALESMAN</td><td>7698</td><td>22-02-1981</td><td>1250</td><td>500</td><td>30</td><td>2022-01-04</td></tr><tr><td>7566</td><td>JONES</td><td>MANAGER</td><td>7839</td><td>04-02-1981</td><td>2975</td><td>null</td><td>20</td><td>2022-01-04</td></tr><tr><td>7654</td><td>MARTIN</td><td>SALESMAN</td><td>7698</td><td>21-09-1981</td><td>1250</td><td>1400</td><td>30</td><td>2022-01-05</td></tr><tr><td>7698</td><td>SGR</td><td>MANAGER</td><td>7839</td><td>05-01-1981</td><td>2850</td><td>null</td><td>30</td><td>2022-01-05</td></tr><tr><td>7782</td><td>RAVI</td><td>MANAGER</td><td>7839</td><td>06-09-1981</td><td>2450</td><td>null</td><td>10</td><td>2022-01-05</td></tr><tr><td>7788</td><td>SCOTT</td><td>ANALYST</td><td>7566</td><td>19-04-1987</td><td>3000</td><td>null</td><td>20</td><td>2022-01-06</td></tr><tr><td>7839</td><td>KING</td><td>PRESIDENT</td><td>null</td><td>01-11-1981</td><td>5000</td><td>null</td><td>10</td><td>2022-01-06</td></tr><tr><td>7844</td><td>TURNER</td><td>SALESMAN</td><td>7698</td><td>09-08-1981</td><td>1500</td><td>0</td><td>30</td><td>2022-01-06</td></tr><tr><td>7876</td><td>ADAMS</td><td>CLERK</td><td>7788</td><td>23-05-1987</td><td>1100</td><td>null</td><td>20</td><td>2022-01-06</td></tr><tr><td>7900</td><td>JAMES</td><td>CLERK</td><td>7698</td><td>12-03-1981</td><td>950</td><td>null</td><td>30</td><td>2022-01-07</td></tr><tr><td>7902</td><td>FORD</td><td>ANALYST</td><td>7566</td><td>12-03-1981</td><td>3000</td><td>null</td><td>20</td><td>2022-01-07</td></tr><tr><td>7934</td><td>MILLER</td><td>CLERK</td><td>7782</td><td>01-03-1982</td><td>1300</td><td>null</td><td>10</td><td>2022-01-07</td></tr><tr><td>1234</td><td>RAM</td><td>CLERK</td><td>7457</td><td>null</td><td>494</td><td>588</td><td>80</td><td>2022-01-07</td></tr><tr><td>null</td><td>null</td><td>null</td><td>null</td><td>null</td><td>null</td><td>null</td><td>null</td><td>null</td></tr><tr><td>null</td><td>null</td><td>null</td><td>null</td><td>null</td><td>null</td><td>null</td><td>null</td><td>null</td></tr><tr><td>null</td><td>null</td><td>null</td><td>null</td><td>null</td><td>null</td><td>null</td><td>null</td><td>null</td></tr></tbody></table></div>"
      ]
     },
     "metadata": {
      "application/vnd.databricks.v1+output": {
       "addedWidgets": {},
       "aggData": [],
       "aggError": "",
       "aggOverflow": false,
       "aggSchema": [],
       "aggSeriesLimitReached": false,
       "aggType": "",
       "arguments": {},
       "columnCustomDisplayInfos": {},
       "data": [
        [
         "7369",
         "SMITH",
         "CLERK",
         "7902",
         "17-12-1980",
         "800",
         "null",
         "20",
         "2022-01-01"
        ],
        [
         "7499",
         "ALLEN",
         "SALESMAN",
         "7698",
         "20-02-1981",
         "1600",
         "300",
         "30",
         "2022-01-01"
        ],
        [
         "7521",
         "WARD",
         "SALESMAN",
         "7698",
         "22-02-1981",
         "1250",
         "500",
         "30",
         "2022-01-01"
        ],
        [
         "7566",
         "JONES",
         "MANAGER",
         "7839",
         "04-02-1981",
         "2975",
         "null",
         "20",
         "2022-01-05"
        ],
        [
         "7654",
         "MARTIN",
         "SALESMAN",
         "7698",
         "21-09-1981",
         "1250",
         "1400",
         "30",
         "2022-01-03"
        ],
        [
         "7698",
         "SGR",
         "MANAGER",
         "7839",
         "05-01-1981",
         "2850",
         "null",
         "30",
         "2022-01-04"
        ],
        [
         "7782",
         "RAVI",
         "MANAGER",
         "7839",
         "06-09-1981",
         "2450",
         "null",
         "10",
         "2022-01-02"
        ],
        [
         "7788",
         "SCOTT",
         "ANALYST",
         "7566",
         "19-04-1987",
         "3000",
         "null",
         "20",
         "2022-01-02"
        ],
        [
         "7839",
         "KING",
         "PRESIDENT",
         "null",
         "01-11-1981",
         "5000",
         "null",
         "10",
         "2022-01-02"
        ],
        [
         "7844",
         "TURNER",
         "SALESMAN",
         "7698",
         "09-08-1981",
         "1500",
         "0",
         "30",
         "2022-01-02"
        ],
        [
         "7876",
         "ADAMS",
         "CLERK",
         "7788",
         "23-05-1987",
         "1100",
         "null",
         "20",
         "2022-01-03"
        ],
        [
         "7900",
         "JAMES",
         "CLERK",
         "7698",
         "12-03-1981",
         "950",
         "null",
         "30",
         "2022-01-03"
        ],
        [
         "7902",
         "FORD",
         "ANALYST",
         "7566",
         "12-03-1981",
         "3000",
         "null",
         "20",
         "2022-01-03"
        ],
        [
         "7934",
         "MILLER",
         "CLERK",
         "7782",
         "01-03-1982",
         "1300",
         "null",
         "10",
         "2022-01-03"
        ],
        [
         "1234",
         "SEKHAR",
         "doctor",
         "7777",
         "null",
         "667",
         "78",
         "80",
         "2022-01-03"
        ],
        [
         "7369",
         "SMITH",
         "CLERK",
         "7902",
         "17-12-1980",
         "800",
         "null",
         "20",
         "2022-01-04"
        ],
        [
         "7499",
         "ALLEN",
         "SALESMAN",
         "7698",
         "20-02-1981",
         "1600",
         "300",
         "30",
         "2022-01-04"
        ],
        [
         "7521",
         "WARD",
         "SALESMAN",
         "7698",
         "22-02-1981",
         "1250",
         "500",
         "30",
         "2022-01-04"
        ],
        [
         "7566",
         "JONES",
         "MANAGER",
         "7839",
         "04-02-1981",
         "2975",
         "null",
         "20",
         "2022-01-04"
        ],
        [
         "7654",
         "MARTIN",
         "SALESMAN",
         "7698",
         "21-09-1981",
         "1250",
         "1400",
         "30",
         "2022-01-05"
        ],
        [
         "7698",
         "SGR",
         "MANAGER",
         "7839",
         "05-01-1981",
         "2850",
         "null",
         "30",
         "2022-01-05"
        ],
        [
         "7782",
         "RAVI",
         "MANAGER",
         "7839",
         "06-09-1981",
         "2450",
         "null",
         "10",
         "2022-01-05"
        ],
        [
         "7788",
         "SCOTT",
         "ANALYST",
         "7566",
         "19-04-1987",
         "3000",
         "null",
         "20",
         "2022-01-06"
        ],
        [
         "7839",
         "KING",
         "PRESIDENT",
         "null",
         "01-11-1981",
         "5000",
         "null",
         "10",
         "2022-01-06"
        ],
        [
         "7844",
         "TURNER",
         "SALESMAN",
         "7698",
         "09-08-1981",
         "1500",
         "0",
         "30",
         "2022-01-06"
        ],
        [
         "7876",
         "ADAMS",
         "CLERK",
         "7788",
         "23-05-1987",
         "1100",
         "null",
         "20",
         "2022-01-06"
        ],
        [
         "7900",
         "JAMES",
         "CLERK",
         "7698",
         "12-03-1981",
         "950",
         "null",
         "30",
         "2022-01-07"
        ],
        [
         "7902",
         "FORD",
         "ANALYST",
         "7566",
         "12-03-1981",
         "3000",
         "null",
         "20",
         "2022-01-07"
        ],
        [
         "7934",
         "MILLER",
         "CLERK",
         "7782",
         "01-03-1982",
         "1300",
         "null",
         "10",
         "2022-01-07"
        ],
        [
         "1234",
         "RAM",
         "CLERK",
         "7457",
         "null",
         "494",
         "588",
         "80",
         "2022-01-07"
        ],
        [
         "null",
         "null",
         "null",
         "null",
         "null",
         "null",
         "null",
         "null",
         "null"
        ],
        [
         "null",
         "null",
         "null",
         "null",
         "null",
         "null",
         "null",
         "null",
         "null"
        ],
        [
         "null",
         "null",
         "null",
         "null",
         "null",
         "null",
         "null",
         "null",
         "null"
        ]
       ],
       "datasetInfos": [],
       "dbfsResultPath": null,
       "isJsonSchema": true,
       "metadata": {},
       "overflow": false,
       "plotOptions": {
        "customPlotOptions": {},
        "displayType": "table",
        "pivotAggregation": null,
        "pivotColumns": null,
        "xColumns": null,
        "yColumns": null
       },
       "removedWidgets": [],
       "schema": [
        {
         "metadata": "{}",
         "name": "EMPNO",
         "type": "\"string\""
        },
        {
         "metadata": "{}",
         "name": "ENAME",
         "type": "\"string\""
        },
        {
         "metadata": "{}",
         "name": "JOB",
         "type": "\"string\""
        },
        {
         "metadata": "{}",
         "name": "MGR",
         "type": "\"string\""
        },
        {
         "metadata": "{}",
         "name": "HIREDATE",
         "type": "\"string\""
        },
        {
         "metadata": "{}",
         "name": "SAL",
         "type": "\"string\""
        },
        {
         "metadata": "{}",
         "name": "COMM",
         "type": "\"string\""
        },
        {
         "metadata": "{}",
         "name": "DEPTNO",
         "type": "\"string\""
        },
        {
         "metadata": "{}",
         "name": "UPDATED_DATE",
         "type": "\"string\""
        }
       ],
       "type": "table"
      }
     },
     "output_type": "display_data"
    }
   ],
   "source": [
    "df1=spark.read.csv(\"/FileStore/tables/emp.csv\",header=True)\n",
    "df1.display()"
   ]
  },
  {
   "cell_type": "code",
   "execution_count": 0,
   "metadata": {
    "application/vnd.databricks.v1+cell": {
     "cellMetadata": {
      "byteLimit": 2048000,
      "rowLimit": 10000
     },
     "inputWidgets": {},
     "nuid": "0d9c70f7-04d1-45cc-a574-4ffaac0cd7f5",
     "showTitle": false,
     "title": ""
    }
   },
   "outputs": [],
   "source": [
    "df = spark.read.csv(\"/FileStore/tables/emp.csv\",header=True)\n",
    "df.coalesce(1).write.format(\"csv\").mode(\"overwrite\").option(\"maxRecordsPerFile\",\"10\").save(\"/mycsvdata/\",header=True)"
   ]
  },
  {
   "cell_type": "code",
   "execution_count": 0,
   "metadata": {
    "application/vnd.databricks.v1+cell": {
     "cellMetadata": {
      "byteLimit": 2048000,
      "rowLimit": 10000
     },
     "inputWidgets": {},
     "nuid": "1fed18b9-108d-47a0-84d3-33f48f591fdf",
     "showTitle": false,
     "title": ""
    }
   },
   "outputs": [
    {
     "output_type": "display_data",
     "data": {
      "text/html": [
       "<style scoped>\n",
       "  .table-result-container {\n",
       "    max-height: 300px;\n",
       "    overflow: auto;\n",
       "  }\n",
       "  table, th, td {\n",
       "    border: 1px solid black;\n",
       "    border-collapse: collapse;\n",
       "  }\n",
       "  th, td {\n",
       "    padding: 5px;\n",
       "  }\n",
       "  th {\n",
       "    text-align: left;\n",
       "  }\n",
       "</style><div class='table-result-container'><table class='table-result'><thead style='background-color: white'><tr><th>path</th><th>name</th><th>size</th><th>modificationTime</th></tr></thead><tbody><tr><td>dbfs:/mycsvdata/_SUCCESS</td><td>_SUCCESS</td><td>0</td><td>1701960704000</td></tr><tr><td>dbfs:/mycsvdata/_committed_2478490914156640721</td><td>_committed_2478490914156640721</td><td>461</td><td>1701960704000</td></tr><tr><td>dbfs:/mycsvdata/_committed_8965801956953498396</td><td>_committed_8965801956953498396</td><td>112</td><td>1701960446000</td></tr><tr><td>dbfs:/mycsvdata/_committed_97153480338108425</td><td>_committed_97153480338108425</td><td>208</td><td>1701960551000</td></tr><tr><td>dbfs:/mycsvdata/_started_2478490914156640721</td><td>_started_2478490914156640721</td><td>0</td><td>1701960703000</td></tr><tr><td>dbfs:/mycsvdata/_started_8965801956953498396</td><td>_started_8965801956953498396</td><td>0</td><td>1701960446000</td></tr><tr><td>dbfs:/mycsvdata/_started_97153480338108425</td><td>_started_97153480338108425</td><td>0</td><td>1701960550000</td></tr><tr><td>dbfs:/mycsvdata/part-00000-tid-2478490914156640721-d31bf6ae-863e-4745-92f6-08778bdc5a36-55-1-c000.csv</td><td>part-00000-tid-2478490914156640721-d31bf6ae-863e-4745-92f6-08778bdc5a36-55-1-c000.csv</td><td>643</td><td>1701960703000</td></tr><tr><td>dbfs:/mycsvdata/part-00000-tid-2478490914156640721-d31bf6ae-863e-4745-92f6-08778bdc5a36-55-2-c001.csv</td><td>part-00000-tid-2478490914156640721-d31bf6ae-863e-4745-92f6-08778bdc5a36-55-2-c001.csv</td><td>630</td><td>1701960703000</td></tr><tr><td>dbfs:/mycsvdata/part-00000-tid-2478490914156640721-d31bf6ae-863e-4745-92f6-08778bdc5a36-55-3-c002.csv</td><td>part-00000-tid-2478490914156640721-d31bf6ae-863e-4745-92f6-08778bdc5a36-55-3-c002.csv</td><td>626</td><td>1701960704000</td></tr><tr><td>dbfs:/mycsvdata/part-00000-tid-2478490914156640721-d31bf6ae-863e-4745-92f6-08778bdc5a36-55-4-c003.csv</td><td>part-00000-tid-2478490914156640721-d31bf6ae-863e-4745-92f6-08778bdc5a36-55-4-c003.csv</td><td>193</td><td>1701960704000</td></tr></tbody></table></div>"
      ]
     },
     "metadata": {
      "application/vnd.databricks.v1+output": {
       "addedWidgets": {},
       "aggData": [],
       "aggError": "",
       "aggOverflow": false,
       "aggSchema": [],
       "aggSeriesLimitReached": false,
       "aggType": "",
       "arguments": {},
       "columnCustomDisplayInfos": {},
       "data": [
        [
         "dbfs:/mycsvdata/_SUCCESS",
         "_SUCCESS",
         0,
         1701960704000
        ],
        [
         "dbfs:/mycsvdata/_committed_2478490914156640721",
         "_committed_2478490914156640721",
         461,
         1701960704000
        ],
        [
         "dbfs:/mycsvdata/_committed_8965801956953498396",
         "_committed_8965801956953498396",
         112,
         1701960446000
        ],
        [
         "dbfs:/mycsvdata/_committed_97153480338108425",
         "_committed_97153480338108425",
         208,
         1701960551000
        ],
        [
         "dbfs:/mycsvdata/_started_2478490914156640721",
         "_started_2478490914156640721",
         0,
         1701960703000
        ],
        [
         "dbfs:/mycsvdata/_started_8965801956953498396",
         "_started_8965801956953498396",
         0,
         1701960446000
        ],
        [
         "dbfs:/mycsvdata/_started_97153480338108425",
         "_started_97153480338108425",
         0,
         1701960550000
        ],
        [
         "dbfs:/mycsvdata/part-00000-tid-2478490914156640721-d31bf6ae-863e-4745-92f6-08778bdc5a36-55-1-c000.csv",
         "part-00000-tid-2478490914156640721-d31bf6ae-863e-4745-92f6-08778bdc5a36-55-1-c000.csv",
         643,
         1701960703000
        ],
        [
         "dbfs:/mycsvdata/part-00000-tid-2478490914156640721-d31bf6ae-863e-4745-92f6-08778bdc5a36-55-2-c001.csv",
         "part-00000-tid-2478490914156640721-d31bf6ae-863e-4745-92f6-08778bdc5a36-55-2-c001.csv",
         630,
         1701960703000
        ],
        [
         "dbfs:/mycsvdata/part-00000-tid-2478490914156640721-d31bf6ae-863e-4745-92f6-08778bdc5a36-55-3-c002.csv",
         "part-00000-tid-2478490914156640721-d31bf6ae-863e-4745-92f6-08778bdc5a36-55-3-c002.csv",
         626,
         1701960704000
        ],
        [
         "dbfs:/mycsvdata/part-00000-tid-2478490914156640721-d31bf6ae-863e-4745-92f6-08778bdc5a36-55-4-c003.csv",
         "part-00000-tid-2478490914156640721-d31bf6ae-863e-4745-92f6-08778bdc5a36-55-4-c003.csv",
         193,
         1701960704000
        ]
       ],
       "datasetInfos": [],
       "dbfsResultPath": null,
       "isJsonSchema": true,
       "metadata": {
        "isDbfsCommandResult": false
       },
       "overflow": false,
       "plotOptions": {
        "customPlotOptions": {},
        "displayType": "table",
        "pivotAggregation": null,
        "pivotColumns": null,
        "xColumns": null,
        "yColumns": null
       },
       "removedWidgets": [],
       "schema": [
        {
         "metadata": "{}",
         "name": "path",
         "type": "\"string\""
        },
        {
         "metadata": "{}",
         "name": "name",
         "type": "\"string\""
        },
        {
         "metadata": "{}",
         "name": "size",
         "type": "\"long\""
        },
        {
         "metadata": "{}",
         "name": "modificationTime",
         "type": "\"long\""
        }
       ],
       "type": "table"
      }
     },
     "output_type": "display_data"
    }
   ],
   "source": [
    "%fs ls /mycsvdata/"
   ]
  },
  {
   "cell_type": "code",
   "execution_count": 0,
   "metadata": {
    "application/vnd.databricks.v1+cell": {
     "cellMetadata": {
      "byteLimit": 2048000,
      "rowLimit": 10000
     },
     "inputWidgets": {},
     "nuid": "253ed6d7-9048-49b3-a061-4288ff4571e8",
     "showTitle": false,
     "title": ""
    }
   },
   "outputs": [
    {
     "output_type": "display_data",
     "data": {
      "text/html": [
       "<style scoped>\n",
       "  .table-result-container {\n",
       "    max-height: 300px;\n",
       "    overflow: auto;\n",
       "  }\n",
       "  table, th, td {\n",
       "    border: 1px solid black;\n",
       "    border-collapse: collapse;\n",
       "  }\n",
       "  th, td {\n",
       "    padding: 5px;\n",
       "  }\n",
       "  th {\n",
       "    text-align: left;\n",
       "  }\n",
       "</style><div class='table-result-container'><table class='table-result'><thead style='background-color: white'><tr><th>filename</th><th>count</th></tr></thead><tbody><tr><td>dbfs:/mycsvdata/part-00000-tid-2478490914156640721-d31bf6ae-863e-4745-92f6-08778bdc5a36-55-1-c000.csv</td><td>10</td></tr><tr><td>dbfs:/mycsvdata/part-00000-tid-2478490914156640721-d31bf6ae-863e-4745-92f6-08778bdc5a36-55-2-c001.csv</td><td>10</td></tr><tr><td>dbfs:/mycsvdata/part-00000-tid-2478490914156640721-d31bf6ae-863e-4745-92f6-08778bdc5a36-55-3-c002.csv</td><td>10</td></tr><tr><td>dbfs:/mycsvdata/part-00000-tid-2478490914156640721-d31bf6ae-863e-4745-92f6-08778bdc5a36-55-4-c003.csv</td><td>3</td></tr></tbody></table></div>"
      ]
     },
     "metadata": {
      "application/vnd.databricks.v1+output": {
       "addedWidgets": {},
       "aggData": [],
       "aggError": "",
       "aggOverflow": false,
       "aggSchema": [],
       "aggSeriesLimitReached": false,
       "aggType": "",
       "arguments": {},
       "columnCustomDisplayInfos": {},
       "data": [
        [
         "dbfs:/mycsvdata/part-00000-tid-2478490914156640721-d31bf6ae-863e-4745-92f6-08778bdc5a36-55-1-c000.csv",
         10
        ],
        [
         "dbfs:/mycsvdata/part-00000-tid-2478490914156640721-d31bf6ae-863e-4745-92f6-08778bdc5a36-55-2-c001.csv",
         10
        ],
        [
         "dbfs:/mycsvdata/part-00000-tid-2478490914156640721-d31bf6ae-863e-4745-92f6-08778bdc5a36-55-3-c002.csv",
         10
        ],
        [
         "dbfs:/mycsvdata/part-00000-tid-2478490914156640721-d31bf6ae-863e-4745-92f6-08778bdc5a36-55-4-c003.csv",
         3
        ]
       ],
       "datasetInfos": [],
       "dbfsResultPath": null,
       "isJsonSchema": true,
       "metadata": {},
       "overflow": false,
       "plotOptions": {
        "customPlotOptions": {},
        "displayType": "table",
        "pivotAggregation": null,
        "pivotColumns": null,
        "xColumns": null,
        "yColumns": null
       },
       "removedWidgets": [],
       "schema": [
        {
         "metadata": "{}",
         "name": "filename",
         "type": "\"string\""
        },
        {
         "metadata": "{}",
         "name": "count",
         "type": "\"long\""
        }
       ],
       "type": "table"
      }
     },
     "output_type": "display_data"
    }
   ],
   "source": [
    "from pyspark.sql.functions import input_file_name\n",
    "df1 = spark.read.csv(\"/mycsvdata/\",header=True).withColumn(\"filename\",input_file_name())\n",
    "display(df1.groupBy(\"filename\").count())"
   ]
  }
 ],
 "metadata": {
  "application/vnd.databricks.v1+notebook": {
   "dashboards": [],
   "language": "python",
   "notebookMetadata": {
    "mostRecentlyExecutedCommandWithImplicitDF": {
     "commandId": 3548715965870100,
     "dataframes": [
      "_sqldf"
     ]
    },
    "pythonIndentUnit": 4
   },
   "notebookName": "22 : How To create data files based on the number of rows",
   "widgets": {}
  }
 },
 "nbformat": 4,
 "nbformat_minor": 0
}
